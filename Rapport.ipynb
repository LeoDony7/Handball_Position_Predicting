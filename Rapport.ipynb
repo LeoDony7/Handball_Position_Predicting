{
 "cells": [
  {
   "cell_type": "markdown",
   "metadata": {},
   "source": [
    "# Rapport Projet :"
   ]
  },
  {
   "cell_type": "markdown",
   "metadata": {},
   "source": [
    "## Présentation du projet : \n",
    "Nous sommes trois sportifs et nous avions à cœur de lier notre projet de programmation avec le monde du sport. \n",
    "Pour explorer tous les enseignements du cours, nous avons cherché un sport dans lequel la prédiction statistique \n",
    "aurait pu répondre à des questions pratiques pour les joueurs et les entraîneurs. \n",
    "Comme deux d'entre nous pratiquent le handball, nous nous sommes donnés comme objectif d'élaborer un modèle de prédiction \n",
    "du poste d'un joueur de handball en fonction de ses caractéristiques morphologiques. \n",
    "\n",
    "Précisons ici que le handball se joue avec 1 gardien et 6 joueurs de champ, répartis en 4 postes :\n",
    "Pivot, Ailiers (gauche et droit), Arrières (gauche et droit) et Demi-centre.  "
   ]
  },
  {
   "cell_type": "markdown",
   "metadata": {},
   "source": [
    "![Composition Hand Star Game 2015 ](Images/Compo_France.jpg.webp)"
   ]
  },
  {
   "cell_type": "code",
   "execution_count": null,
   "metadata": {},
   "outputs": [],
   "source": [
    "## Installations requises\n",
    "\n",
    "! pip install bs4\n",
    "! pip install selenium\n",
    "! pip install webdriver-manager\n",
    "! pip install seaborn\n",
    "! pip install plotly\n",
    "! pip install scikit-learn\n",
    "! pip install nbformat\n"
   ]
  },
  {
   "cell_type": "markdown",
   "metadata": {},
   "source": [
    "## Récupération des données\n",
    "Pour mener à bien ce projet nous avons utilisé des données issues du site de la LNH (Ligue Nationale de Handball). La récupération de ces données a été faite par scrapping. \n",
    "Les données disponibles sur le site concernent les joueurs de la LNH inscrit dans un club de la ligue pour la saison 2023/2024. \n",
    "Parmi les informations auxquelles nous avons accédé, deux mesures nous intéressent particulièrement, le poids et la taille du joueur, ainsi que l'information sur le poste du joueur."
   ]
  },
  {
   "cell_type": "code",
   "execution_count": 1,
   "metadata": {},
   "outputs": [],
   "source": [
    "## Récupération des données\n",
    "\n",
    "from Scrapping_donnees_fonction import *\n",
    "\n",
    "Scrapping(nom_df_match=\"DF_match_rapport.csv\",nom_df_physique=\"DF_joueur_rapport.csv\")\n",
    "\n",
    "DF_match_rapport = pd.read_csv(\"DF_match_rapport.csv\",index_col=0)\n",
    "DF_joueur_rapport = pd.read_csv(\"DF_joueur_rapport.csv\",index_col=0)"
   ]
  },
  {
   "cell_type": "code",
   "execution_count": 2,
   "metadata": {},
   "outputs": [
    {
     "data": {
      "text/html": [
       "<div>\n",
       "<style scoped>\n",
       "    .dataframe tbody tr th:only-of-type {\n",
       "        vertical-align: middle;\n",
       "    }\n",
       "\n",
       "    .dataframe tbody tr th {\n",
       "        vertical-align: top;\n",
       "    }\n",
       "\n",
       "    .dataframe thead th {\n",
       "        text-align: right;\n",
       "    }\n",
       "</style>\n",
       "<table border=\"1\" class=\"dataframe\">\n",
       "  <thead>\n",
       "    <tr style=\"text-align: right;\">\n",
       "      <th></th>\n",
       "      <th>totalbuts</th>\n",
       "      <th>%total</th>\n",
       "      <th>totalbuts / mj</th>\n",
       "      <th>butstirs</th>\n",
       "      <th>%tirs</th>\n",
       "      <th>tirsbuts / mj</th>\n",
       "      <th>butspenalty</th>\n",
       "      <th>%penalty</th>\n",
       "      <th>penaltybuts / mj</th>\n",
       "      <th>mj</th>\n",
       "      <th>Score LNH *</th>\n",
       "      <th>Temps jeu</th>\n",
       "    </tr>\n",
       "  </thead>\n",
       "  <tbody>\n",
       "    <tr>\n",
       "      <th>SYPRZAK Kamil</th>\n",
       "      <td>220 / 267</td>\n",
       "      <td>82,40 %</td>\n",
       "      <td>7,59</td>\n",
       "      <td>131 / 161</td>\n",
       "      <td>81,37 %</td>\n",
       "      <td>4,52</td>\n",
       "      <td>89 / 106</td>\n",
       "      <td>83,96 %</td>\n",
       "      <td>3,07</td>\n",
       "      <td>29</td>\n",
       "      <td>413.9</td>\n",
       "      <td>08:01:40</td>\n",
       "    </tr>\n",
       "    <tr>\n",
       "      <th>PELAYO Tom</th>\n",
       "      <td>216 / 294</td>\n",
       "      <td>73,47 %</td>\n",
       "      <td>7,20</td>\n",
       "      <td>134 / 190</td>\n",
       "      <td>70,53 %</td>\n",
       "      <td>4,47</td>\n",
       "      <td>82 / 104</td>\n",
       "      <td>78,85 %</td>\n",
       "      <td>2,73</td>\n",
       "      <td>30</td>\n",
       "      <td>470.3</td>\n",
       "      <td>21:16:38</td>\n",
       "    </tr>\n",
       "    <tr>\n",
       "      <th>LOESCH Gabriel</th>\n",
       "      <td>191 / 248</td>\n",
       "      <td>77,02 %</td>\n",
       "      <td>6,37</td>\n",
       "      <td>107 / 148</td>\n",
       "      <td>72,30 %</td>\n",
       "      <td>3,57</td>\n",
       "      <td>84 / 100</td>\n",
       "      <td>84,00 %</td>\n",
       "      <td>2,80</td>\n",
       "      <td>30</td>\n",
       "      <td>364.5</td>\n",
       "      <td>27:10:37</td>\n",
       "    </tr>\n",
       "    <tr>\n",
       "      <th>MARQUEZ Chema</th>\n",
       "      <td>189 / 312</td>\n",
       "      <td>60,58 %</td>\n",
       "      <td>6,30</td>\n",
       "      <td>178 / 293</td>\n",
       "      <td>60,75 %</td>\n",
       "      <td>5,93</td>\n",
       "      <td>11 / 19</td>\n",
       "      <td>57,89 %</td>\n",
       "      <td>0,37</td>\n",
       "      <td>30</td>\n",
       "      <td>424.5</td>\n",
       "      <td>17:04:57</td>\n",
       "    </tr>\n",
       "    <tr>\n",
       "      <th>ILIC Nemanja</th>\n",
       "      <td>183 / 238</td>\n",
       "      <td>76,89 %</td>\n",
       "      <td>6,54</td>\n",
       "      <td>116 / 152</td>\n",
       "      <td>76,32 %</td>\n",
       "      <td>4,14</td>\n",
       "      <td>67 / 86</td>\n",
       "      <td>77,91 %</td>\n",
       "      <td>2,39</td>\n",
       "      <td>28</td>\n",
       "      <td>366.8</td>\n",
       "      <td>21:19:16</td>\n",
       "    </tr>\n",
       "    <tr>\n",
       "      <th>RICHERT Benjamin</th>\n",
       "      <td>170 / 257</td>\n",
       "      <td>66,15 %</td>\n",
       "      <td>6,07</td>\n",
       "      <td>84 / 142</td>\n",
       "      <td>59,15 %</td>\n",
       "      <td>3,00</td>\n",
       "      <td>86 / 115</td>\n",
       "      <td>74,78 %</td>\n",
       "      <td>3,07</td>\n",
       "      <td>28</td>\n",
       "      <td>312.6</td>\n",
       "      <td>15:54:21</td>\n",
       "    </tr>\n",
       "    <tr>\n",
       "      <th>RIVERA Valero</th>\n",
       "      <td>169 / 220</td>\n",
       "      <td>76,82 %</td>\n",
       "      <td>5,63</td>\n",
       "      <td>89 / 123</td>\n",
       "      <td>72,36 %</td>\n",
       "      <td>2,97</td>\n",
       "      <td>80 / 97</td>\n",
       "      <td>82,47 %</td>\n",
       "      <td>2,67</td>\n",
       "      <td>30</td>\n",
       "      <td>329.1</td>\n",
       "      <td>18:08:32</td>\n",
       "    </tr>\n",
       "    <tr>\n",
       "      <th>TARRAFETA Ian</th>\n",
       "      <td>165 / 246</td>\n",
       "      <td>67,07 %</td>\n",
       "      <td>6,88</td>\n",
       "      <td>165 / 246</td>\n",
       "      <td>67,07 %</td>\n",
       "      <td>6,88</td>\n",
       "      <td>0 / 0</td>\n",
       "      <td>0,00 %</td>\n",
       "      <td>0,00</td>\n",
       "      <td>24</td>\n",
       "      <td>443.9</td>\n",
       "      <td>18:39:14</td>\n",
       "    </tr>\n",
       "    <tr>\n",
       "      <th>PRANDI Elohim</th>\n",
       "      <td>160 / 248</td>\n",
       "      <td>64,52 %</td>\n",
       "      <td>5,71</td>\n",
       "      <td>160 / 248</td>\n",
       "      <td>64,52 %</td>\n",
       "      <td>5,71</td>\n",
       "      <td>0 / 0</td>\n",
       "      <td>0,00 %</td>\n",
       "      <td>0,00</td>\n",
       "      <td>28</td>\n",
       "      <td>373.1</td>\n",
       "      <td>16:34:51</td>\n",
       "    </tr>\n",
       "    <tr>\n",
       "      <th>LOPEZ ALVAREZ Mario</th>\n",
       "      <td>159 / 229</td>\n",
       "      <td>69,43 %</td>\n",
       "      <td>5,30</td>\n",
       "      <td>95 / 144</td>\n",
       "      <td>65,97 %</td>\n",
       "      <td>3,17</td>\n",
       "      <td>64 / 85</td>\n",
       "      <td>75,29 %</td>\n",
       "      <td>2,13</td>\n",
       "      <td>30</td>\n",
       "      <td>334.0</td>\n",
       "      <td>21:46:21</td>\n",
       "    </tr>\n",
       "  </tbody>\n",
       "</table>\n",
       "</div>"
      ],
      "text/plain": [
       "                     totalbuts   %total totalbuts / mj   butstirs    %tirs  \\\n",
       "SYPRZAK Kamil        220 / 267  82,40 %           7,59  131 / 161  81,37 %   \n",
       "PELAYO Tom           216 / 294  73,47 %           7,20  134 / 190  70,53 %   \n",
       "LOESCH Gabriel       191 / 248  77,02 %           6,37  107 / 148  72,30 %   \n",
       "MARQUEZ Chema        189 / 312  60,58 %           6,30  178 / 293  60,75 %   \n",
       "ILIC Nemanja         183 / 238  76,89 %           6,54  116 / 152  76,32 %   \n",
       "RICHERT Benjamin     170 / 257  66,15 %           6,07   84 / 142  59,15 %   \n",
       "RIVERA Valero        169 / 220  76,82 %           5,63   89 / 123  72,36 %   \n",
       "TARRAFETA Ian        165 / 246  67,07 %           6,88  165 / 246  67,07 %   \n",
       "PRANDI Elohim        160 / 248  64,52 %           5,71  160 / 248  64,52 %   \n",
       "LOPEZ ALVAREZ Mario  159 / 229  69,43 %           5,30   95 / 144  65,97 %   \n",
       "\n",
       "                    tirsbuts / mj butspenalty %penalty penaltybuts / mj  mj  \\\n",
       "SYPRZAK Kamil                4,52    89 / 106  83,96 %             3,07  29   \n",
       "PELAYO Tom                   4,47    82 / 104  78,85 %             2,73  30   \n",
       "LOESCH Gabriel               3,57    84 / 100  84,00 %             2,80  30   \n",
       "MARQUEZ Chema                5,93     11 / 19  57,89 %             0,37  30   \n",
       "ILIC Nemanja                 4,14     67 / 86  77,91 %             2,39  28   \n",
       "RICHERT Benjamin             3,00    86 / 115  74,78 %             3,07  28   \n",
       "RIVERA Valero                2,97     80 / 97  82,47 %             2,67  30   \n",
       "TARRAFETA Ian                6,88       0 / 0   0,00 %             0,00  24   \n",
       "PRANDI Elohim                5,71       0 / 0   0,00 %             0,00  28   \n",
       "LOPEZ ALVAREZ Mario          3,17     64 / 85  75,29 %             2,13  30   \n",
       "\n",
       "                     Score LNH * Temps jeu  \n",
       "SYPRZAK Kamil              413.9  08:01:40  \n",
       "PELAYO Tom                 470.3  21:16:38  \n",
       "LOESCH Gabriel             364.5  27:10:37  \n",
       "MARQUEZ Chema              424.5  17:04:57  \n",
       "ILIC Nemanja               366.8  21:19:16  \n",
       "RICHERT Benjamin           312.6  15:54:21  \n",
       "RIVERA Valero              329.1  18:08:32  \n",
       "TARRAFETA Ian              443.9  18:39:14  \n",
       "PRANDI Elohim              373.1  16:34:51  \n",
       "LOPEZ ALVAREZ Mario        334.0  21:46:21  "
      ]
     },
     "execution_count": 2,
     "metadata": {},
     "output_type": "execute_result"
    }
   ],
   "source": [
    "DF_match_rapport.head(10)"
   ]
  },
  {
   "cell_type": "code",
   "execution_count": 3,
   "metadata": {},
   "outputs": [
    {
     "data": {
      "text/html": [
       "<div>\n",
       "<style scoped>\n",
       "    .dataframe tbody tr th:only-of-type {\n",
       "        vertical-align: middle;\n",
       "    }\n",
       "\n",
       "    .dataframe tbody tr th {\n",
       "        vertical-align: top;\n",
       "    }\n",
       "\n",
       "    .dataframe thead th {\n",
       "        text-align: right;\n",
       "    }\n",
       "</style>\n",
       "<table border=\"1\" class=\"dataframe\">\n",
       "  <thead>\n",
       "    <tr style=\"text-align: right;\">\n",
       "      <th></th>\n",
       "      <th>poste</th>\n",
       "      <th>Nationalité :</th>\n",
       "      <th>Né le :</th>\n",
       "      <th>Age :</th>\n",
       "      <th>Taille :</th>\n",
       "      <th>Poids :</th>\n",
       "      <th>Club actuel :</th>\n",
       "      <th>Dernière saison</th>\n",
       "    </tr>\n",
       "  </thead>\n",
       "  <tbody>\n",
       "    <tr>\n",
       "      <th>Kamil Syprzak</th>\n",
       "      <td>Pivot</td>\n",
       "      <td>Pologne</td>\n",
       "      <td>27/07/1991</td>\n",
       "      <td>33 ans</td>\n",
       "      <td>207 cm</td>\n",
       "      <td>117 kgs</td>\n",
       "      <td>Paris</td>\n",
       "      <td>NaN</td>\n",
       "    </tr>\n",
       "    <tr>\n",
       "      <th>Tom Pelayo</th>\n",
       "      <td>Arrière Droit</td>\n",
       "      <td>France</td>\n",
       "      <td>23/02/1997</td>\n",
       "      <td>27 ans</td>\n",
       "      <td>189 cm</td>\n",
       "      <td>95 kgs</td>\n",
       "      <td>Dunkerque</td>\n",
       "      <td>NaN</td>\n",
       "    </tr>\n",
       "    <tr>\n",
       "      <th>Gabriel Loesch</th>\n",
       "      <td>Ailier Droit</td>\n",
       "      <td>France</td>\n",
       "      <td>12/07/1995</td>\n",
       "      <td>29 ans</td>\n",
       "      <td>182 cm</td>\n",
       "      <td>73 kgs</td>\n",
       "      <td>Aix</td>\n",
       "      <td>NaN</td>\n",
       "    </tr>\n",
       "    <tr>\n",
       "      <th>Chema Marquez</th>\n",
       "      <td>Demi Centre</td>\n",
       "      <td>Espagne</td>\n",
       "      <td>20/12/1996</td>\n",
       "      <td>28 ans</td>\n",
       "      <td>187 cm</td>\n",
       "      <td>94 kgs</td>\n",
       "      <td>Saint-Raphaël</td>\n",
       "      <td>NaN</td>\n",
       "    </tr>\n",
       "    <tr>\n",
       "      <th>Nemanja Ilic</th>\n",
       "      <td>Ailier Gauche</td>\n",
       "      <td>Serbie</td>\n",
       "      <td>11/05/1990</td>\n",
       "      <td>34 ans</td>\n",
       "      <td>177 cm</td>\n",
       "      <td>76 kgs</td>\n",
       "      <td>Toulouse</td>\n",
       "      <td>NaN</td>\n",
       "    </tr>\n",
       "    <tr>\n",
       "      <th>Benjamin Richert</th>\n",
       "      <td>Ailier Droit</td>\n",
       "      <td>France</td>\n",
       "      <td>18/04/1998</td>\n",
       "      <td>26 ans</td>\n",
       "      <td>187 cm</td>\n",
       "      <td>76 kgs</td>\n",
       "      <td>Chambéry</td>\n",
       "      <td>NaN</td>\n",
       "    </tr>\n",
       "    <tr>\n",
       "      <th>Valero Rivera</th>\n",
       "      <td>Ailier Gauche</td>\n",
       "      <td>Espagne</td>\n",
       "      <td>22/02/1985</td>\n",
       "      <td>39 ans</td>\n",
       "      <td>186 cm</td>\n",
       "      <td>83 kgs</td>\n",
       "      <td>Nantes</td>\n",
       "      <td>NaN</td>\n",
       "    </tr>\n",
       "    <tr>\n",
       "      <th>Ian Tarrafeta</th>\n",
       "      <td>Demi Centre</td>\n",
       "      <td>Espagne</td>\n",
       "      <td>04/01/1999</td>\n",
       "      <td>25 ans</td>\n",
       "      <td>188 cm</td>\n",
       "      <td>88 kgs</td>\n",
       "      <td>Aix</td>\n",
       "      <td>NaN</td>\n",
       "    </tr>\n",
       "    <tr>\n",
       "      <th>Elohim Prandi</th>\n",
       "      <td>Arrière Gauche</td>\n",
       "      <td>France</td>\n",
       "      <td>24/08/1998</td>\n",
       "      <td>26 ans</td>\n",
       "      <td>193 cm</td>\n",
       "      <td>101 kgs</td>\n",
       "      <td>Paris</td>\n",
       "      <td>NaN</td>\n",
       "    </tr>\n",
       "    <tr>\n",
       "      <th>Mario Lopez Alvarez</th>\n",
       "      <td>Ailier Droit</td>\n",
       "      <td>Espagne</td>\n",
       "      <td>19/09/1994</td>\n",
       "      <td>30 ans</td>\n",
       "      <td>178 cm</td>\n",
       "      <td>81 kgs</td>\n",
       "      <td>Créteil</td>\n",
       "      <td>NaN</td>\n",
       "    </tr>\n",
       "  </tbody>\n",
       "</table>\n",
       "</div>"
      ],
      "text/plain": [
       "                              poste Nationalité :     Né le :   Age :  \\\n",
       "Kamil Syprzak                 Pivot       Pologne  27/07/1991  33 ans   \n",
       "Tom Pelayo            Arrière Droit        France  23/02/1997  27 ans   \n",
       "Gabriel Loesch         Ailier Droit        France  12/07/1995  29 ans   \n",
       "Chema Marquez           Demi Centre       Espagne  20/12/1996  28 ans   \n",
       "Nemanja Ilic          Ailier Gauche        Serbie  11/05/1990  34 ans   \n",
       "Benjamin Richert       Ailier Droit        France  18/04/1998  26 ans   \n",
       "Valero Rivera         Ailier Gauche       Espagne  22/02/1985  39 ans   \n",
       "Ian Tarrafeta           Demi Centre       Espagne  04/01/1999  25 ans   \n",
       "Elohim Prandi        Arrière Gauche        France  24/08/1998  26 ans   \n",
       "Mario Lopez Alvarez    Ailier Droit       Espagne  19/09/1994  30 ans   \n",
       "\n",
       "                    Taille :  Poids :  Club actuel : Dernière saison  \n",
       "Kamil Syprzak         207 cm  117 kgs          Paris             NaN  \n",
       "Tom Pelayo            189 cm   95 kgs      Dunkerque             NaN  \n",
       "Gabriel Loesch        182 cm   73 kgs            Aix             NaN  \n",
       "Chema Marquez         187 cm   94 kgs  Saint-Raphaël             NaN  \n",
       "Nemanja Ilic          177 cm   76 kgs       Toulouse             NaN  \n",
       "Benjamin Richert      187 cm   76 kgs       Chambéry             NaN  \n",
       "Valero Rivera         186 cm   83 kgs         Nantes             NaN  \n",
       "Ian Tarrafeta         188 cm   88 kgs            Aix             NaN  \n",
       "Elohim Prandi         193 cm  101 kgs          Paris             NaN  \n",
       "Mario Lopez Alvarez   178 cm   81 kgs        Créteil             NaN  "
      ]
     },
     "execution_count": 3,
     "metadata": {},
     "output_type": "execute_result"
    }
   ],
   "source": [
    "DF_joueur_rapport.head(10)"
   ]
  },
  {
   "cell_type": "code",
   "execution_count": 4,
   "metadata": {},
   "outputs": [],
   "source": [
    "## Nettoyage du DataFrame avec les données physiques des joueurs\n",
    "\n",
    "from Nettoyage import *\n",
    "\n",
    "DF_joueur_rapport = pd.read_csv(\"DF_joueur_rapport.csv\",index_col=0)\n",
    "\n",
    "cleaning(DF_joueur_rapport,nom_fichier=\"DF_joueur_rapport_nettoye.csv\")\n",
    "\n",
    "DF_joueur_rapport_nettoye = pd.read_csv(\"DF_joueur_rapport_nettoye.csv\",index_col=0)\n",
    "\n",
    "# Si vous ne souhaiter pas télécharger ce DataFrame, mettre nom_fichier= None"
   ]
  },
  {
   "cell_type": "code",
   "execution_count": 5,
   "metadata": {},
   "outputs": [
    {
     "data": {
      "text/html": [
       "<div>\n",
       "<style scoped>\n",
       "    .dataframe tbody tr th:only-of-type {\n",
       "        vertical-align: middle;\n",
       "    }\n",
       "\n",
       "    .dataframe tbody tr th {\n",
       "        vertical-align: top;\n",
       "    }\n",
       "\n",
       "    .dataframe thead th {\n",
       "        text-align: right;\n",
       "    }\n",
       "</style>\n",
       "<table border=\"1\" class=\"dataframe\">\n",
       "  <thead>\n",
       "    <tr style=\"text-align: right;\">\n",
       "      <th></th>\n",
       "      <th>Poste</th>\n",
       "      <th>Nationalité</th>\n",
       "      <th>Date de naissance</th>\n",
       "      <th>Âge</th>\n",
       "      <th>Taille</th>\n",
       "      <th>Poids</th>\n",
       "      <th>Club actuel</th>\n",
       "      <th>Dernière saison</th>\n",
       "      <th>Poste simplifié</th>\n",
       "      <th>IMC</th>\n",
       "    </tr>\n",
       "  </thead>\n",
       "  <tbody>\n",
       "    <tr>\n",
       "      <th>Kamil Syprzak</th>\n",
       "      <td>Pivot</td>\n",
       "      <td>Pologne</td>\n",
       "      <td>27/07/1991</td>\n",
       "      <td>33.0</td>\n",
       "      <td>207.0</td>\n",
       "      <td>117.0</td>\n",
       "      <td>Paris</td>\n",
       "      <td>NaN</td>\n",
       "      <td>Pivot</td>\n",
       "      <td>27.305188</td>\n",
       "    </tr>\n",
       "    <tr>\n",
       "      <th>Tom Pelayo</th>\n",
       "      <td>Arrière Droit</td>\n",
       "      <td>France</td>\n",
       "      <td>23/02/1997</td>\n",
       "      <td>27.0</td>\n",
       "      <td>189.0</td>\n",
       "      <td>95.0</td>\n",
       "      <td>Dunkerque</td>\n",
       "      <td>NaN</td>\n",
       "      <td>Arrière</td>\n",
       "      <td>26.595000</td>\n",
       "    </tr>\n",
       "    <tr>\n",
       "      <th>Gabriel Loesch</th>\n",
       "      <td>Ailier Droit</td>\n",
       "      <td>France</td>\n",
       "      <td>12/07/1995</td>\n",
       "      <td>29.0</td>\n",
       "      <td>182.0</td>\n",
       "      <td>73.0</td>\n",
       "      <td>Aix</td>\n",
       "      <td>NaN</td>\n",
       "      <td>Ailier</td>\n",
       "      <td>22.038401</td>\n",
       "    </tr>\n",
       "    <tr>\n",
       "      <th>Chema Marquez</th>\n",
       "      <td>Demi Centre</td>\n",
       "      <td>Espagne</td>\n",
       "      <td>20/12/1996</td>\n",
       "      <td>28.0</td>\n",
       "      <td>187.0</td>\n",
       "      <td>94.0</td>\n",
       "      <td>Saint-Raphaël</td>\n",
       "      <td>NaN</td>\n",
       "      <td>Demi Centre</td>\n",
       "      <td>26.880952</td>\n",
       "    </tr>\n",
       "    <tr>\n",
       "      <th>Nemanja Ilic</th>\n",
       "      <td>Ailier Gauche</td>\n",
       "      <td>Serbie</td>\n",
       "      <td>11/05/1990</td>\n",
       "      <td>34.0</td>\n",
       "      <td>177.0</td>\n",
       "      <td>76.0</td>\n",
       "      <td>Toulouse</td>\n",
       "      <td>NaN</td>\n",
       "      <td>Ailier</td>\n",
       "      <td>24.258674</td>\n",
       "    </tr>\n",
       "    <tr>\n",
       "      <th>Benjamin Richert</th>\n",
       "      <td>Ailier Droit</td>\n",
       "      <td>France</td>\n",
       "      <td>18/04/1998</td>\n",
       "      <td>26.0</td>\n",
       "      <td>187.0</td>\n",
       "      <td>76.0</td>\n",
       "      <td>Chambéry</td>\n",
       "      <td>NaN</td>\n",
       "      <td>Ailier</td>\n",
       "      <td>21.733535</td>\n",
       "    </tr>\n",
       "    <tr>\n",
       "      <th>Valero Rivera</th>\n",
       "      <td>Ailier Gauche</td>\n",
       "      <td>Espagne</td>\n",
       "      <td>22/02/1985</td>\n",
       "      <td>39.0</td>\n",
       "      <td>186.0</td>\n",
       "      <td>83.0</td>\n",
       "      <td>Nantes</td>\n",
       "      <td>NaN</td>\n",
       "      <td>Ailier</td>\n",
       "      <td>23.991213</td>\n",
       "    </tr>\n",
       "    <tr>\n",
       "      <th>Ian Tarrafeta</th>\n",
       "      <td>Demi Centre</td>\n",
       "      <td>Espagne</td>\n",
       "      <td>04/01/1999</td>\n",
       "      <td>25.0</td>\n",
       "      <td>188.0</td>\n",
       "      <td>88.0</td>\n",
       "      <td>Aix</td>\n",
       "      <td>NaN</td>\n",
       "      <td>Demi Centre</td>\n",
       "      <td>24.898144</td>\n",
       "    </tr>\n",
       "    <tr>\n",
       "      <th>Elohim Prandi</th>\n",
       "      <td>Arrière Gauche</td>\n",
       "      <td>France</td>\n",
       "      <td>24/08/1998</td>\n",
       "      <td>26.0</td>\n",
       "      <td>193.0</td>\n",
       "      <td>101.0</td>\n",
       "      <td>Paris</td>\n",
       "      <td>NaN</td>\n",
       "      <td>Arrière</td>\n",
       "      <td>27.114822</td>\n",
       "    </tr>\n",
       "    <tr>\n",
       "      <th>Mario Lopez Alvarez</th>\n",
       "      <td>Ailier Droit</td>\n",
       "      <td>Espagne</td>\n",
       "      <td>19/09/1994</td>\n",
       "      <td>30.0</td>\n",
       "      <td>178.0</td>\n",
       "      <td>81.0</td>\n",
       "      <td>Créteil</td>\n",
       "      <td>NaN</td>\n",
       "      <td>Ailier</td>\n",
       "      <td>25.564954</td>\n",
       "    </tr>\n",
       "  </tbody>\n",
       "</table>\n",
       "</div>"
      ],
      "text/plain": [
       "                              Poste Nationalité Date de naissance   Âge  \\\n",
       "Kamil Syprzak                 Pivot     Pologne        27/07/1991  33.0   \n",
       "Tom Pelayo            Arrière Droit      France        23/02/1997  27.0   \n",
       "Gabriel Loesch         Ailier Droit      France        12/07/1995  29.0   \n",
       "Chema Marquez           Demi Centre     Espagne        20/12/1996  28.0   \n",
       "Nemanja Ilic          Ailier Gauche      Serbie        11/05/1990  34.0   \n",
       "Benjamin Richert       Ailier Droit      France        18/04/1998  26.0   \n",
       "Valero Rivera         Ailier Gauche     Espagne        22/02/1985  39.0   \n",
       "Ian Tarrafeta           Demi Centre     Espagne        04/01/1999  25.0   \n",
       "Elohim Prandi        Arrière Gauche      France        24/08/1998  26.0   \n",
       "Mario Lopez Alvarez    Ailier Droit     Espagne        19/09/1994  30.0   \n",
       "\n",
       "                     Taille  Poids    Club actuel Dernière saison  \\\n",
       "Kamil Syprzak         207.0  117.0          Paris             NaN   \n",
       "Tom Pelayo            189.0   95.0      Dunkerque             NaN   \n",
       "Gabriel Loesch        182.0   73.0            Aix             NaN   \n",
       "Chema Marquez         187.0   94.0  Saint-Raphaël             NaN   \n",
       "Nemanja Ilic          177.0   76.0       Toulouse             NaN   \n",
       "Benjamin Richert      187.0   76.0       Chambéry             NaN   \n",
       "Valero Rivera         186.0   83.0         Nantes             NaN   \n",
       "Ian Tarrafeta         188.0   88.0            Aix             NaN   \n",
       "Elohim Prandi         193.0  101.0          Paris             NaN   \n",
       "Mario Lopez Alvarez   178.0   81.0        Créteil             NaN   \n",
       "\n",
       "                    Poste simplifié        IMC  \n",
       "Kamil Syprzak                 Pivot  27.305188  \n",
       "Tom Pelayo                  Arrière  26.595000  \n",
       "Gabriel Loesch               Ailier  22.038401  \n",
       "Chema Marquez           Demi Centre  26.880952  \n",
       "Nemanja Ilic                 Ailier  24.258674  \n",
       "Benjamin Richert             Ailier  21.733535  \n",
       "Valero Rivera                Ailier  23.991213  \n",
       "Ian Tarrafeta           Demi Centre  24.898144  \n",
       "Elohim Prandi               Arrière  27.114822  \n",
       "Mario Lopez Alvarez          Ailier  25.564954  "
      ]
     },
     "execution_count": 5,
     "metadata": {},
     "output_type": "execute_result"
    }
   ],
   "source": [
    "DF_joueur_rapport_nettoye.head(10)"
   ]
  },
  {
   "cell_type": "markdown",
   "metadata": {},
   "source": [
    "\n",
    "| Page d'un joueur | Page des statistiques de match LNH              |\n",
    "|-----------------------|-----------------------|\n",
    "| ![Page d'un joueur](./Images/Screenshot_page_joueur_LNH.png) | ![Page des statistiques de match LNH](./Images/Screenshot_page_match_LNH.png)|"
   ]
  },
  {
   "cell_type": "markdown",
   "metadata": {},
   "source": [
    "A l'issu d'un travail de nettoyage et de présentation des données recueillies, une analyse descriptive s'est imposée pour comprendre la structure des données et s'assurer de l'intérêt de notre intuition initiale. \n",
    "Il apparaît en effet que les morphologies des joueurs sont plus proches les unes des autres que ce que nous estimions. Notre pratique du handball amateur permet à des physiques plus petits et plus légers d'avoir une place dans les équipes amateurs. Cependant, le niveau professionnel permet une sélection plus forte sur les physiques et ne donne une place dans les équipes qu'à des joueurs particulièrement athlétiques.\n",
    "La disparité que nous présumions entre les postes n'est donc pas aussi marquée. Néanmoins une première projection du nuage des joueurs selon le poids et la taille permet d'identifier certains groupes. "
   ]
  },
  {
   "cell_type": "code",
   "execution_count": 6,
   "metadata": {},
   "outputs": [
    {
     "data": {
      "image/png": "[encoded data removed]",
      "text/plain": [
       "<Figure size 1000x600 with 1 Axes>"
      ]
     },
     "metadata": {},
     "output_type": "display_data"
    },
    {
     "name": "stderr",
     "output_type": "stream",
     "text": [
      "c:\\Users\\Léo\\Desktop\\GIT_HANDBALL\\Handball_Position_Predicting\\Stat_desc.py:185: FutureWarning: \n",
      "\n",
      "Passing `palette` without assigning `hue` is deprecated and will be removed in v0.14.0. Assign the `x` variable to `hue` and set `legend=False` for the same effect.\n",
      "\n",
      "  sns.violinplot(x=\"Poste simplifié\", y=y, data=data, palette=palette)\n"
     ]
    },
    {
     "data": {
      "image/png": "[encoded data removed]",
      "text/plain": [
       "<Figure size 640x480 with 1 Axes>"
      ]
     },
     "metadata": {},
     "output_type": "display_data"
    },
    {
     "data": {
      "image/png": "[encoded data removed]",
      "text/plain": [
       "<Figure size 1000x600 with 1 Axes>"
      ]
     },
     "metadata": {},
     "output_type": "display_data"
    },
    {
     "name": "stderr",
     "output_type": "stream",
     "text": [
      "c:\\Users\\Léo\\Desktop\\GIT_HANDBALL\\Handball_Position_Predicting\\Stat_desc.py:185: FutureWarning: \n",
      "\n",
      "Passing `palette` without assigning `hue` is deprecated and will be removed in v0.14.0. Assign the `x` variable to `hue` and set `legend=False` for the same effect.\n",
      "\n",
      "  sns.violinplot(x=\"Poste simplifié\", y=y, data=data, palette=palette)\n"
     ]
    },
    {
     "data": {
      "image/png": "[encoded data removed]",
      "text/plain": [
       "<Figure size 640x480 with 1 Axes>"
      ]
     },
     "metadata": {},
     "output_type": "display_data"
    },
    {
     "data": {
      "image/png": "[encoded data removed]",
      "text/plain": [
       "<Figure size 1000x600 with 1 Axes>"
      ]
     },
     "metadata": {},
     "output_type": "display_data"
    },
    {
     "data": {
      "image/png": "[encoded data removed]",
      "text/plain": [
       "<Figure size 1000x600 with 1 Axes>"
      ]
     },
     "metadata": {},
     "output_type": "display_data"
    },
    {
     "data": {
      "application/vnd.plotly.v1+json": {
       "config": {
        "plotlyServerURL": "https://plot.ly"
       },
       "data": [
        {
         "customdata": [
          [
           "Kamil Syprzak",
           33,
           27.30518798571729
          ],
          [
           "Johannes Marescot",
           30,
           28.16452332872781
          ],
          [
           "Théo Monar",
           23,
           24.23222120191817
          ],
          [
           "Valentin Aman",
           33,
           26.01456815816857
          ],
          [
           "Adrien Vergely",
           28,
           28.50799046078781
          ],
          [
           "Tomislav Kusan",
           30,
           27.227048835424878
          ],
          [
           "Bastien Khermouche",
           31,
           27.12673611111111
          ],
          [
           "Hugo Jund",
           23,
           25.50404037692287
          ],
          [
           "Arthur Lenne",
           23,
           25.241789775746625
          ],
          [
           "Hugo Brouzet",
           25,
           25.921387501178245
          ],
          [
           "Simon Ooms",
           30,
           23.75
          ],
          [
           "Axel Oppedisano",
           28,
           29.218407596785973
          ],
          [
           "Adrian Figueras",
           36,
           25.50404037692287
          ],
          [
           "Shuichi Yoshida",
           23,
           29.53099412064753
          ],
          [
           "Ruben Marchan Criado",
           30,
           28.835063437139564
          ],
          [
           "Nicolas Nieto",
           30,
           29.19132149901381
          ],
          [
           "Veron Nacinovic",
           24,
           26.191849288735103
          ],
          [
           "Benjamin Afgour",
           33,
           27.613412228796847
          ],
          [
           "Gautier Loredon",
           22,
           25.75
          ],
          [
           "Jonathan Mapu",
           26,
           31.43982173926315
          ],
          [
           "Fredric Pettersson",
           35,
           28.183511420448976
          ],
          [
           "Edgar Dentz",
           26,
           28.139381985535834
          ],
          [
           "Romaric Guillo",
           33,
           25.904921935167685
          ],
          [
           "Gabriel Nyembo",
           27,
           29.362880886426595
          ],
          [
           "Tom Poyet",
           25,
           24.021275987303035
          ],
          [
           "Marc Poletti",
           39,
           27.669270833333336
          ],
          [
           "Jason Muel",
           24,
           27.055579891262337
          ],
          [
           "Andrea Parisini",
           30,
           29.53099412064753
          ],
          [
           "Jérémy Toto",
           32,
           27.31325208070293
          ],
          [
           "Mohamed Mamdouh",
           35,
           26.84635829149776
          ],
          [
           "Théo Clarac",
           26,
           27.350427350427356
          ],
          [
           "Luka Karabatic",
           36,
           26.958141358690323
          ],
          [
           "Pierre Paturel",
           35,
           26.017753290480563
          ],
          [
           "Benjamin Gallego",
           36,
           25.401701323251416
          ],
          [
           "Hadrien Ramond",
           36,
           29.799457703562517
          ],
          [
           "Hugo Kamtchop Baril",
           28,
           27.77031263997133
          ],
          [
           "Kristian Orsted",
           29,
           29.931972789115644
          ],
          [
           "Timmy Petit",
           24,
           25.507601265177023
          ],
          [
           "William Hoghielm",
           25,
           31.79558330442825
          ],
          [
           "Rémi Leventoux",
           32,
           26.958141358690323
          ],
          [
           "Janek Klimkow",
           26,
           31.546506831032065
          ],
          [
           "Iñaki Peciña",
           36,
           26
          ],
          [
           "Axel Lanfranchi",
           20,
           27.39800347222222
          ],
          [
           "Yoro Diarra",
           20,
           25.76721894405937
          ],
          [
           "Mouhamadou Sidibe",
           20,
           22.5
          ],
          [
           "Antoine Baladi",
           20,
           27.45288684263204
          ],
          [
           "Victor Grillère",
           21,
           22.35371466140697
          ],
          [
           "Ylan Augustine",
           20,
           24.99744923987348
          ],
          [
           "Antoine-xavier Armani",
           21,
           27.852977925864227
          ],
          [
           "Tom Semba",
           20,
           22.67573696145125
          ],
          [
           "Léo Fournie",
           20,
           25.46401086464464
          ],
          [
           "Matéo Caille",
           20,
           24.487297214569946
          ],
          [
           "Edgar Bourillon",
           20,
           23.75
          ],
          [
           "Sasha Frattaruolo",
           19,
           24.898143956541425
          ],
          [
           "Gabin Miny",
           19,
           26.31578947368421
          ],
          [
           "Kenzo Guironnet",
           19,
           25.77251808021039
          ],
          [
           "Andre Wenkegheu Tchambou",
           20,
           24.4788579968564
          ]
         ],
         "hovertemplate": "Poste=Pivot<br>Taille=%{x}<br>Poids=%{y}<br>Nom=%{customdata[0]}<br>Âge=%{customdata[1]}<br>IMC=%{customdata[2]}<extra></extra>",
         "legendgroup": "Pivot",
         "marker": {
          "color": "#636efa",
          "symbol": "circle"
         },
         "mode": "markers",
         "name": "Pivot",
         "orientation": "v",
         "showlegend": true,
         "type": "scatter",
         "x": [
          207,
          194,
          198,
          186,
          191,
          201,
          192,
          193,
          194,
          206,
          200,
          185,
          193,
          193,
          204,
          195,
          204,
          195,
          200,
          181,
          202,
          195,
          207,
          190,
          187,
          192,
          197,
          193,
          197,
          193,
          195,
          202,
          198,
          184,
          193,
          183,
          210,
          198,
          186,
          202,
          203,
          200,
          192,
          197,
          200,
          187,
          195,
          198,
          196,
          189,
          188,
          198,
          200,
          188,
          190,
          195,
          197
         ],
         "xaxis": "x",
         "y": [
          117,
          106,
          95,
          90,
          104,
          110,
          100,
          95,
          95,
          110,
          95,
          100,
          95,
          110,
          120,
          111,
          109,
          105,
          103,
          103,
          115,
          107,
          111,
          106,
          84,
          102,
          105,
          110,
          106,
          100,
          104,
          110,
          102,
          86,
          111,
          93,
          132,
          100,
          110,
          110,
          130,
          104,
          101,
          100,
          90,
          96,
          85,
          98,
          107,
          81,
          90,
          96,
          95,
          88,
          95,
          98,
          95
         ],
         "yaxis": "y"
        },
        {
         "customdata": [
          [
           "Tom Pelayo",
           27,
           26.595000139973685
          ],
          [
           "Ayyoub Abdi",
           27,
           25.25187456517818
          ],
          [
           "Micke Brasseleur",
           31,
           24.994202375737583
          ],
          [
           "Julien Bos",
           26,
           24.049343594386603
          ],
          [
           "Sergiy Onufriyenko",
           39,
           24.930747922437675
          ],
          [
           "Mohab Abdelhak",
           21,
           24.12214577451276
          ],
          [
           "Mathieu Salou",
           24,
           23.28203117341437
          ],
          [
           "Gustavo Rodrigues",
           29,
           24.930747922437675
          ],
          [
           "Valentin Porte",
           34,
           26.038781163434905
          ],
          [
           "Kent Robin Tonnesen",
           33,
           26.824457593688365
          ],
          [
           "Clément Damiani",
           26,
           24.720578566732414
          ],
          [
           "Ewan Kervadec",
           26,
           23.87152777777778
          ],
          [
           "Luc Tobie",
           36,
           23.26869806094183
          ],
          [
           "Jorge Maqueda Peno",
           36,
           26.282563322940558
          ],
          [
           "Sime Ivic",
           31,
           25.249895876718035
          ],
          [
           "Bruno Butorac",
           30,
           25.195263290501387
          ],
          [
           "Yassine Ben Salem",
           21,
           23.545706371191137
          ],
          [
           "Florian Delecroix",
           30,
           24.4788579968564
          ],
          [
           "Ronaldo Almeida",
           22,
           28.633902540608084
          ],
          [
           "Jure Dolenec",
           36,
           26.038781163434905
          ],
          [
           "Per Maximilliam Jonsson",
           35,
           27.08744247205786
          ],
          [
           "Jesper Jorgensen",
           30,
           24.67037636029714
          ],
          [
           "Kristjan Kristjansson",
           27,
           24.95659722222222
          ],
          [
           "Adrien Dipanda",
           36,
           26.22291932163513
          ],
          [
           "Dominik Mathe",
           25,
           26.73201158387169
          ],
          [
           "Diogo Borges Da Silva",
           26,
           26.017753290480563
          ],
          [
           "Daniel Mosindi",
           23,
           23.79552644102909
          ],
          [
           "Gabin Martinez",
           24,
           22.38650562265723
          ],
          [
           "Marko Panic",
           33,
           27.31325208070293
          ],
          [
           "Nevo Medina",
           21,
           23.32899305555556
          ],
          [
           "Uros Mitrovic",
           20,
           25.755158030290307
          ],
          [
           "Matic Groselj",
           27,
           26.298487836949377
          ],
          [
           "Alexis Berthier",
           22,
           22.819404547773097
          ],
          [
           "Marc-anto Aillaud",
           21,
           23.624795296518027
          ],
          [
           "Ernest Pineau-rossi",
           21,
           24.5
          ],
          [
           "Henri Kirtz",
           20,
           23.9771451892664
          ],
          [
           "Alexandre Tritta",
           30,
           27.738854413909458
          ],
          [
           "Paul Gourdel",
           20,
           18.58789213303211
          ],
          [
           "Yanis Busselier",
           22,
           24.67037636029714
          ],
          [
           "Salomon Nassequela",
           20,
           21.20099137030069
          ],
          [
           "Leni Serre",
           19,
           23.66691015339664
          ],
          [
           "Quentin Ducoat",
           20,
           28.90507573129841
          ],
          [
           "Lucas Guigon",
           21,
           21.386791723569274
          ],
          [
           "Augustin Riehl",
           20,
           24.14279513888889
          ]
         ],
         "hovertemplate": "Poste=Arrière Droit<br>Taille=%{x}<br>Poids=%{y}<br>Nom=%{customdata[0]}<br>Âge=%{customdata[1]}<br>IMC=%{customdata[2]}<extra></extra>",
         "legendgroup": "Arrière Droit",
         "marker": {
          "color": "#EF553B",
          "symbol": "circle"
         },
         "mode": "markers",
         "name": "Arrière Droit",
         "orientation": "v",
         "showlegend": true,
         "type": "scatter",
         "x": [
          189,
          197,
          197,
          188,
          190,
          191,
          202,
          190,
          190,
          195,
          195,
          192,
          190,
          197,
          196,
          189,
          190,
          197,
          196,
          190,
          195,
          191,
          192,
          202,
          201,
          198,
          189,
          196,
          197,
          192,
          189,
          195,
          193,
          193,
          200,
          198,
          187,
          187,
          191,
          183,
          185,
          186,
          197,
          192
         ],
         "xaxis": "x",
         "y": [
          95,
          98,
          97,
          85,
          90,
          88,
          95,
          90,
          94,
          102,
          94,
          88,
          84,
          102,
          97,
          90,
          85,
          95,
          110,
          94,
          103,
          90,
          92,
          107,
          108,
          102,
          85,
          86,
          106,
          86,
          92,
          100,
          85,
          88,
          98,
          94,
          97,
          65,
          90,
          71,
          81,
          100,
          83,
          89
         ],
         "yaxis": "y"
        },
        {
         "customdata": [
          [
           "Gabriel Loesch",
           29,
           22.03840115928028
          ],
          [
           "Benjamin Richert",
           26,
           21.7335354170837
          ],
          [
           "Mario Lopez Alvarez",
           30,
           25.5649539199596
          ],
          [
           "Dragan Gajic",
           40,
           24.049343594386603
          ],
          [
           "Mohammad Sanad",
           33,
           25.712198685171657
          ],
          [
           "Sebastian Karlsson",
           29,
           25.24933720489837
          ],
          [
           "Luka Radovic",
           26,
           24.69135802469136
          ],
          [
           "Francisco De Almeida Tavares",
           28,
           25.61728395061728
          ],
          [
           "Antoine Tissot",
           23,
           25.53544639152223
          ],
          [
           "Théo Avelange Demouge",
           28,
           23.291229956104985
          ],
          [
           "Ferran Sole",
           32,
           22.55094096485812
          ],
          [
           "Florian Billant",
           28,
           25.4364666435426
          ],
          [
           "Edouard Kempf",
           26,
           25.5649539199596
          ],
          [
           "David Balaguer",
           33,
           27.173119065010955
          ],
          [
           "Youenn Cardinal",
           30,
           22.67573696145125
          ],
          [
           "Yannis Mancelle",
           34,
           23.24598478444632
          ],
          [
           "Yanis Lenne",
           28,
           24.879178701135288
          ],
          [
           "Mathis Jaffiol",
           22,
           24.187046492878256
          ],
          [
           "Valentin Bzdynga",
           22,
           20.97117202268431
          ],
          [
           "Lucas Petit",
           25,
           23.148148148148145
          ],
          [
           "Kauldi Odriozola Yeregui",
           27,
           25.661152034778407
          ],
          [
           "Théophile Causse",
           32,
           22.47120876377142
          ],
          [
           "Svetlin Dimitrov",
           34,
           24.78425751739377
          ],
          [
           "Arthur Vigneron",
           29,
           22.94408887815481
          ],
          [
           "Théo Laguillaumie",
           31,
           23.92485822306238
          ],
          [
           "Martial CaÏs",
           22,
           22.55094096485812
          ],
          [
           "Aymeric Anzuini",
           24,
           22.39541341933172
          ],
          [
           "Maxence Foucault",
           23,
           23.37472607742878
          ],
          [
           "Damien Gibernon",
           24,
           25.18107741059303
          ],
          [
           "Andrea Guillaume",
           26,
           26.01456815816857
          ],
          [
           "Romain Giraudeau",
           24,
           22.837370242214536
          ],
          [
           "Rasmus Nielsen",
           35,
           23.23563170124017
          ],
          [
           "Lucien Auffret",
           27,
           22.6421929718633
          ],
          [
           "Thibault Dessites",
           19,
           22.019502988361115
          ],
          [
           "Aleksandar Antic",
           20,
           23.291229956104985
          ],
          [
           "Yohan Guigues",
           20,
           21.389756041160823
          ],
          [
           "Umberto Bronzo",
           23,
           25.082863029651524
          ],
          [
           "Jordan Camarero",
           32,
           25.697069943289225
          ],
          [
           "Remi Peyre",
           20,
           25.46938775510204
          ],
          [
           "Sabi Sarre",
           20,
           20.65414214576732
          ],
          [
           "Emilien Peyronnet",
           20,
           21.604938271604937
          ],
          [
           "Enzo Gesland",
           20,
           22.39541341933172
          ],
          [
           "Théo Benterki",
           21,
           23.37472607742878
          ],
          [
           "Tom Delrives",
           22,
           22.068809416025356
          ],
          [
           "Ronan Hassler",
           20,
           20.74506939371804
          ],
          [
           "Edgar Gohier",
           19,
           22.99262444384723
          ]
         ],
         "hovertemplate": "Poste=Ailier Droit<br>Taille=%{x}<br>Poids=%{y}<br>Nom=%{customdata[0]}<br>Âge=%{customdata[1]}<br>IMC=%{customdata[2]}<extra></extra>",
         "legendgroup": "Ailier Droit",
         "marker": {
          "color": "#00cc96",
          "symbol": "circle"
         },
         "mode": "markers",
         "name": "Ailier Droit",
         "orientation": "v",
         "showlegend": true,
         "type": "scatter",
         "x": [
          182,
          187,
          178,
          188,
          185,
          178,
          180,
          180,
          177,
          183,
          193,
          186,
          178,
          185,
          189,
          182,
          187,
          183,
          184,
          180,
          182,
          179,
          183,
          182,
          184,
          193,
          183,
          185,
          188,
          186,
          170,
          189,
          182,
          187,
          183,
          186,
          183,
          184,
          175,
          188,
          180,
          183,
          185,
          188,
          185,
          183
         ],
         "xaxis": "x",
         "y": [
          73,
          76,
          81,
          85,
          88,
          80,
          80,
          83,
          80,
          78,
          84,
          88,
          81,
          93,
          81,
          77,
          87,
          81,
          71,
          75,
          85,
          72,
          83,
          76,
          81,
          84,
          75,
          80,
          89,
          90,
          66,
          83,
          75,
          77,
          78,
          74,
          84,
          87,
          78,
          73,
          70,
          75,
          80,
          78,
          71,
          77
         ],
         "yaxis": "y"
        },
        {
         "customdata": [
          [
           "Chema Marquez",
           28,
           26.88095170007721
          ],
          [
           "Ian Tarrafeta",
           25,
           24.898143956541425
          ],
          [
           "Aymeric Minne",
           27,
           24.307243558580453
          ],
          [
           "Alejandro Barbeito",
           23,
           25.661152034778407
          ],
          [
           "Jean-loup Faustin",
           29,
           25.712198685171657
          ],
          [
           "Luc Steins",
           29,
           24.3910588392529
          ],
          [
           "Aymeric Zaepfel",
           23,
           25.755158030290307
          ],
          [
           "Seif Elderaa",
           26,
           23.449340844748203
          ],
          [
           "Dorde Dekic",
           31,
           25.195263290501387
          ],
          [
           "Steeven Bois",
           30,
           24.83564645726808
          ],
          [
           "Casper Kall",
           24,
           20.811654526534856
          ],
          [
           "Ludwig Appolinaire",
           30,
           27.68564458211124
          ],
          [
           "Diego Simonet",
           35,
           24.635368550712467
          ],
          [
           "Léo Martinez",
           31,
           23.20054323223178
          ],
          [
           "Aleksa Kolaković",
           27,
           27.994736989445983
          ],
          [
           "Sebastian Skube",
           37,
           24.35542118081801
          ],
          [
           "Tom Robyns",
           33,
           21.70138888888889
          ],
          [
           "Kyllian Villeminot",
           26,
           24.075473810923548
          ],
          [
           "Stas Skube",
           35,
           25.90431010268094
          ],
          [
           "Nikola Karabatic",
           40,
           26.81174510620575
          ],
          [
           "Sergey Kudinov",
           33,
           25.249895876718035
          ],
          [
           "Jesper Konradsson",
           30,
           26.583175803402646
          ],
          [
           "Jules Lignières",
           26,
           24.9680097375238
          ],
          [
           "O'brian Nyateu",
           32,
           28.010411951109106
          ],
          [
           "Eliott Desblancs",
           20,
           21.26654064272212
          ],
          [
           "Romain Briffe",
           35,
           25.195263290501387
          ],
          [
           "Lucas De La Breteche",
           23,
           22.819404547773097
          ],
          [
           "Rok Ovnicek",
           29,
           26.27728507868255
          ],
          [
           "Boïba Sissoko",
           30,
           26.12244897959184
          ],
          [
           "Lucas Vanegue",
           28,
           22.54595907041276
          ],
          [
           "Hakon Ekren",
           30,
           29.77222800323737
          ],
          [
           "Ahmed Hesham",
           24,
           24.44468062493357
          ],
          [
           "Michal Baran",
           20,
           21.745550216113184
          ],
          [
           "Sergio Perez",
           24,
           25.925925925925924
          ],
          [
           "Benjamin Bataille",
           32,
           26.03082049146189
          ],
          [
           "Sadou Ntanzi",
           24,
           23.888440980620494
          ],
          [
           "Adam El Bishry",
           21,
           22.79035792549306
          ],
          [
           "Noa Tremey",
           21,
           22.1606648199446
          ],
          [
           "Jon Azkue",
           30,
           25.697069943289225
          ],
          [
           "Lou Derisbourg",
           22,
           25.401701323251416
          ],
          [
           "Wilson Davyes",
           36,
           25.77039930555556
          ],
          [
           "Gauthier Bonnissol",
           21,
           22.99168975069252
          ],
          [
           "Mathieu Cornette",
           21,
           22.634676324128566
          ],
          [
           "Reyhan Zuzo",
           19,
           23.766410140334997
          ],
          [
           "Alban Simonnet",
           20,
           24.37673130193906
          ],
          [
           "Maxime Gilbert",
           33,
           25.737081414967538
          ],
          [
           "Mathis Goupillon",
           21,
           22.783308885490467
          ],
          [
           "Lucas Berchoux",
           21,
           24.56931437160365
          ],
          [
           "Théo Texier",
           21,
           22.89307408198773
          ],
          [
           "Maixent Eveillard",
           19,
           23.054562464499316
          ],
          [
           "Amine Ben Salem",
           21,
           23.545706371191137
          ],
          [
           "Lucien Roullet",
           20,
           22.55094096485812
          ]
         ],
         "hovertemplate": "Poste=Demi Centre<br>Taille=%{x}<br>Poids=%{y}<br>Nom=%{customdata[0]}<br>Âge=%{customdata[1]}<br>IMC=%{customdata[2]}<extra></extra>",
         "legendgroup": "Demi Centre",
         "marker": {
          "color": "#ab63fa",
          "symbol": "circle"
         },
         "mode": "markers",
         "name": "Demi Centre",
         "orientation": "v",
         "showlegend": true,
         "type": "scatter",
         "x": [
          187,
          188,
          187,
          182,
          185,
          173,
          189,
          187,
          189,
          185,
          186,
          191,
          189,
          188,
          189,
          189,
          192,
          189,
          179,
          196,
          196,
          184,
          179,
          188,
          184,
          189,
          193,
          183,
          175,
          186,
          186,
          194,
          193,
          180,
          196,
          183,
          185,
          190,
          184,
          184,
          192,
          190,
          188,
          188,
          190,
          187,
          179,
          186,
          181,
          173,
          190,
          193
         ],
         "xaxis": "x",
         "y": [
          94,
          88,
          85,
          85,
          88,
          73,
          92,
          82,
          90,
          85,
          72,
          101,
          88,
          82,
          100,
          87,
          80,
          86,
          83,
          103,
          97,
          90,
          80,
          99,
          72,
          90,
          85,
          88,
          80,
          78,
          103,
          92,
          81,
          84,
          100,
          80,
          78,
          80,
          87,
          86,
          95,
          83,
          80,
          84,
          88,
          90,
          73,
          85,
          75,
          69,
          85,
          84
         ],
         "yaxis": "y"
        },
        {
         "customdata": [
          [
           "Nemanja Ilic",
           34,
           24.25867407194612
          ],
          [
           "Valero Rivera",
           39,
           23.991212856977683
          ],
          [
           "Antonin Mohamed",
           25,
           22.34029706557179
          ],
          [
           "Lucas Pellas",
           29,
           23.334120982986768
          ],
          [
           "Raphaël Caucheteux",
           39,
           23.9771451892664
          ],
          [
           "Gueric Vincent",
           22,
           26.234567901234566
          ],
          [
           "Drevy Paschal",
           23,
           21.787650122223404
          ],
          [
           "Jordi Deumal",
           30,
           22.053353172494425
          ],
          [
           "Vanja Ilic",
           31,
           23.41311134235172
          ],
          [
           "Gaël Tribillon",
           26,
           25.46938775510204
          ],
          [
           "Junior Tuzolana",
           27,
           23.79552644102909
          ],
          [
           "Steve Marie-joseph",
           30,
           26.588750913075238
          ],
          [
           "Queido Traore",
           30,
           26.29656683710737
          ],
          [
           "Angel Fernandez Perez",
           36,
           23.32899305555556
          ],
          [
           "Loïs Pasquet",
           25,
           25.127830533235937
          ],
          [
           "Xavier Labigang",
           28,
           24.78425751739377
          ],
          [
           "Samuel Deen",
           25,
           22.35174287007696
          ],
          [
           "Matthieu Ong",
           32,
           21.604938271604937
          ],
          [
           "Arthur Pecaud",
           25,
           24.83564645726808
          ],
          [
           "Jaime Fernandez",
           27,
           23.243801652892564
          ],
          [
           "Maxime Ogando",
           25,
           22.39541341933172
          ],
          [
           "Julien Rebichon",
           36,
           24.65590961580475
          ],
          [
           "Arthur Anquetil",
           29,
           24.151672503320853
          ],
          [
           "Mathieu Grebille",
           33,
           24.742373227221712
          ],
          [
           "Dylan Tossin",
           23,
           23.888440980620494
          ],
          [
           "Baptiste Damatrin",
           24,
           25.854639471416256
          ],
          [
           "Auguste Longerinas",
           21,
           20.37120869171571
          ],
          [
           "Sylvain Hochet",
           37,
           25.725517400855587
          ],
          [
           "Téo Jarry",
           24,
           22.99262444384723
          ],
          [
           "Quentin Dupuy",
           30,
           25.77319587628866
          ],
          [
           "Léo Plantin",
           21,
           24.280263614290668
          ],
          [
           "Maxime Petit",
           22,
           22.28259210646805
          ],
          [
           "Adama Keita",
           27,
           24.280263614290668
          ],
          [
           "Naël Tighiouart",
           20,
           23.62948960302457
          ],
          [
           "Noé Lafougere",
           22,
           21.798202394816204
          ],
          [
           "Amaury Perrin",
           22,
           20.305174833527424
          ],
          [
           "Pierre-alexis Favril",
           20,
           24.280263614290668
          ],
          [
           "Lucas Ferrandier",
           28,
           22.955684331345708
          ],
          [
           "Timeo Albouy",
           21,
           23.334120982986768
          ],
          [
           "Nelio Indjai",
           22,
           22.28259210646805
          ],
          [
           "Luca Faivre",
           20,
           22.53061224489796
          ],
          [
           "Adrien Dubois",
           23,
           21.736505252988767
          ],
          [
           "Alexandre Birkner",
           20,
           26.09327520147972
          ],
          [
           "Raphaël Neel Heude",
           21,
           25.10633270321361
          ],
          [
           "Guillaume Sutter",
           19,
           21.22000905387053
          ],
          [
           "Goran Levavasseur",
           21,
           20.6758034026465
          ]
         ],
         "hovertemplate": "Poste=Ailier Gauche<br>Taille=%{x}<br>Poids=%{y}<br>Nom=%{customdata[0]}<br>Âge=%{customdata[1]}<br>IMC=%{customdata[2]}<extra></extra>",
         "legendgroup": "Ailier Gauche",
         "marker": {
          "color": "#FFA15A",
          "symbol": "circle"
         },
         "mode": "markers",
         "name": "Ailier Gauche",
         "orientation": "v",
         "showlegend": true,
         "type": "scatter",
         "x": [
          177,
          186,
          182,
          184,
          198,
          180,
          194,
          194,
          186,
          175,
          189,
          185,
          185,
          192,
          185,
          183,
          188,
          180,
          185,
          176,
          183,
          179,
          182,
          198,
          183,
          177,
          188,
          186,
          183,
          194,
          186,
          181,
          186,
          184,
          183,
          183,
          186,
          189,
          184,
          181,
          175,
          182,
          174,
          184,
          188,
          184
         ],
         "xaxis": "x",
         "y": [
          76,
          83,
          74,
          79,
          94,
          85,
          82,
          83,
          81,
          78,
          85,
          91,
          90,
          86,
          86,
          83,
          79,
          70,
          85,
          72,
          75,
          79,
          80,
          97,
          80,
          81,
          72,
          89,
          77,
          97,
          84,
          73,
          84,
          80,
          73,
          68,
          84,
          82,
          79,
          73,
          69,
          72,
          79,
          85,
          75,
          70
         ],
         "yaxis": "y"
        },
        {
         "customdata": [
          [
           "Elohim Prandi",
           26,
           27.114821874412737
          ],
          [
           "Robin Molinie",
           34,
           23.545706371191137
          ],
          [
           "Cornelius Kragh",
           29,
           26.03889892655968
          ],
          [
           "Pierrick Naudin",
           35,
           23.025684602944
          ],
          [
           "Ihor Turchenko",
           24,
           24.161722462347985
          ],
          [
           "Erwin Feuchtmann",
           34,
           26.824457593688365
          ],
          [
           "Gonçalo Vieira",
           25,
           25.241789775746625
          ],
          [
           "Alejandro Costoya",
           31,
           26.577894708582782
          ],
          [
           "William Accambray",
           36,
           28.69592942926985
          ],
          [
           "Yvan Verin",
           24,
           26.595744680851062
          ],
          [
           "Hugo Monte",
           21,
           24.69864962817794
          ],
          [
           "Pau Oliveras",
           26,
           25.127830533235937
          ],
          [
           "David Iglesias",
           26,
           24.4140625
          ],
          [
           "Thibaud Briet",
           25,
           22.605591909577637
          ],
          [
           "Kylian Rigault",
           24,
           22.71468144044321
          ],
          [
           "Messaoud Berkous",
           35,
           25.77319587628866
          ],
          [
           "Quentin Minel",
           32,
           27.434842249657063
          ],
          [
           "Jean-jacques Acquevillo",
           35,
           26.298487836949377
          ],
          [
           "Matej Hrstic",
           28,
           22.35371466140697
          ],
          [
           "Romain Lagarde",
           27,
           22.58475927303645
          ],
          [
           "Romuald Kolle",
           32,
           24.930747922437675
          ],
          [
           "Jacob Tandrup Holm",
           29,
           25.241789775746625
          ],
          [
           "Arnau Garcia",
           30,
           24.194608809993422
          ],
          [
           "Mathéo Briffe",
           23,
           23.545706371191137
          ],
          [
           "Alexandre Cavalcanti",
           27,
           24.75187459050208
          ],
          [
           "Dylan Garain",
           28,
           26.298487836949377
          ],
          [
           "Iosu Goni",
           34,
           27.65174904024269
          ],
          [
           "Milos Bozovic",
           30,
           25.75
          ],
          [
           "Belco Ayeva",
           19,
           22.35371466140697
          ],
          [
           "Edson Imare",
           26,
           24.021275987303035
          ],
          [
           "Nik Henigman",
           29,
           26.484492958095103
          ],
          [
           "Gilberto Brito Duarte",
           34,
           26.797907701821742
          ],
          [
           "Robin Paris",
           25,
           24.983563445101908
          ],
          [
           "Vadim Gayduchenko",
           29,
           25.50404037692287
          ],
          [
           "Gerdas Babarskas",
           30,
           24.221185807415804
          ],
          [
           "Kasper Jesper Kisum",
           32,
           25.48476454293629
          ],
          [
           "Noah Kouadio",
           19,
           25.50404037692287
          ],
          [
           "Dmytro Horiha",
           27,
           25.51020408163265
          ],
          [
           "Kylian Prat",
           20,
           21.380992845590857
          ],
          [
           "Karl Konan",
           29,
           24.7292794668888
          ],
          [
           "Nikoloz Kalandadze",
           22,
           24.487297214569946
          ],
          [
           "Bakary Diallo",
           30,
           25.2465483234714
          ],
          [
           "Baptiste Briet",
           22,
           23.959094229364496
          ],
          [
           "Keyliane Traoré",
           20,
           22.31905622276544
          ],
          [
           "Janos Tamas Stranigg",
           29,
           26.31578947368421
          ],
          [
           "Wallem Peleka",
           22,
           24.20866305705956
          ],
          [
           "Kornél Nagy",
           38,
           25.77251808021039
          ],
          [
           "Jérémy Robert",
           20,
           26.309431125667803
          ],
          [
           "Ilija Abutovic",
           36,
           25.732771296931677
          ],
          [
           "Raphaël Deleau",
           19,
           23.37472607742878
          ],
          [
           "Baptiste Bonnefond",
           31,
           26.040967542752828
          ],
          [
           "Yoann Gibelin",
           25,
           25.252525252525253
          ],
          [
           "Mathias Comte",
           19,
           25.76721894405937
          ],
          [
           "Gallian Varlet",
           20,
           22.014013799028163
          ],
          [
           "Doran Engueleguele",
           21,
           26.040967542752828
          ],
          [
           "Mathis Sebin",
           20,
           22.437673130193907
          ],
          [
           "Mike Benjamin",
           21,
           24.99744923987348
          ],
          [
           "Adam Gnago",
           21,
           24.161722462347985
          ],
          [
           "Koussay Ben Fraj",
           20,
           23.91327452439154
          ],
          [
           "Yanis Abdebreiman",
           19,
           22.54595907041276
          ],
          [
           "Lazar Maksovic",
           20,
           23.405654174884944
          ],
          [
           "Marko Milosavljevic",
           26,
           23.761788074552616
          ],
          [
           "Amil Maliki",
           19,
           24.44468062493357
          ],
          [
           "Clément Pellen",
           22,
           21.81158709930399
          ],
          [
           "Edynio Linere",
           21,
           23.025684602944
          ],
          [
           "Dimitri Claude",
           19,
           21.70138888888889
          ]
         ],
         "hovertemplate": "Poste=Arrière Gauche<br>Taille=%{x}<br>Poids=%{y}<br>Nom=%{customdata[0]}<br>Âge=%{customdata[1]}<br>IMC=%{customdata[2]}<extra></extra>",
         "legendgroup": "Arrière Gauche",
         "marker": {
          "color": "#19d3f3",
          "symbol": "circle"
         },
         "mode": "markers",
         "name": "Arrière Gauche",
         "orientation": "v",
         "showlegend": true,
         "type": "scatter",
         "x": [
          193,
          190,
          194,
          191,
          193,
          195,
          194,
          193,
          194,
          188,
          193,
          185,
          192,
          205,
          190,
          194,
          189,
          195,
          195,
          194,
          190,
          194,
          195,
          190,
          203,
          195,
          193,
          200,
          195,
          187,
          201,
          197,
          195,
          193,
          197,
          190,
          193,
          196,
          191,
          196,
          198,
          195,
          185,
          194,
          190,
          196,
          195,
          193,
          202,
          185,
          193,
          198,
          197,
          193,
          193,
          190,
          198,
          193,
          194,
          186,
          195,
          201,
          194,
          202,
          191,
          192
         ],
         "xaxis": "x",
         "y": [
          101,
          85,
          98,
          84,
          90,
          102,
          95,
          99,
          108,
          94,
          92,
          86,
          90,
          95,
          82,
          97,
          98,
          100,
          85,
          85,
          90,
          95,
          92,
          85,
          102,
          100,
          103,
          103,
          85,
          84,
          107,
          104,
          95,
          95,
          94,
          92,
          95,
          98,
          78,
          95,
          96,
          96,
          82,
          84,
          95,
          93,
          98,
          98,
          105,
          80,
          97,
          99,
          100,
          82,
          97,
          81,
          98,
          90,
          90,
          78,
          89,
          96,
          92,
          89,
          84,
          80
         ],
         "yaxis": "y"
        }
       ],
       "layout": {
        "legend": {
         "title": {
          "text": "Poste"
         },
         "tracegroupgap": 0
        },
        "margin": {
         "t": 60
        },
        "template": {
         "data": {
          "bar": [
           {
            "error_x": {
             "color": "#2a3f5f"
            },
            "error_y": {
             "color": "#2a3f5f"
            },
            "marker": {
             "line": {
              "color": "#E5ECF6",
              "width": 0.5
             },
             "pattern": {
              "fillmode": "overlay",
              "size": 10,
              "solidity": 0.2
             }
            },
            "type": "bar"
           }
          ],
          "barpolar": [
           {
            "marker": {
             "line": {
              "color": "#E5ECF6",
              "width": 0.5
             },
             "pattern": {
              "fillmode": "overlay",
              "size": 10,
              "solidity": 0.2
             }
            },
            "type": "barpolar"
           }
          ],
          "carpet": [
           {
            "aaxis": {
             "endlinecolor": "#2a3f5f",
             "gridcolor": "white",
             "linecolor": "white",
             "minorgridcolor": "white",
             "startlinecolor": "#2a3f5f"
            },
            "baxis": {
             "endlinecolor": "#2a3f5f",
             "gridcolor": "white",
             "linecolor": "white",
             "minorgridcolor": "white",
             "startlinecolor": "#2a3f5f"
            },
            "type": "carpet"
           }
          ],
          "choropleth": [
           {
            "colorbar": {
             "outlinewidth": 0,
             "ticks": ""
            },
            "type": "choropleth"
           }
          ],
          "contour": [
           {
            "colorbar": {
             "outlinewidth": 0,
             "ticks": ""
            },
            "colorscale": [
             [
              0,
              "#0d0887"
             ],
             [
              0.1111111111111111,
              "#46039f"
             ],
             [
              0.2222222222222222,
              "#7201a8"
             ],
             [
              0.3333333333333333,
              "#9c179e"
             ],
             [
              0.4444444444444444,
              "#bd3786"
             ],
             [
              0.5555555555555556,
              "#d8576b"
             ],
             [
              0.6666666666666666,
              "#ed7953"
             ],
             [
              0.7777777777777778,
              "#fb9f3a"
             ],
             [
              0.8888888888888888,
              "#fdca26"
             ],
             [
              1,
              "#f0f921"
             ]
            ],
            "type": "contour"
           }
          ],
          "contourcarpet": [
           {
            "colorbar": {
             "outlinewidth": 0,
             "ticks": ""
            },
            "type": "contourcarpet"
           }
          ],
          "heatmap": [
           {
            "colorbar": {
             "outlinewidth": 0,
             "ticks": ""
            },
            "colorscale": [
             [
              0,
              "#0d0887"
             ],
             [
              0.1111111111111111,
              "#46039f"
             ],
             [
              0.2222222222222222,
              "#7201a8"
             ],
             [
              0.3333333333333333,
              "#9c179e"
             ],
             [
              0.4444444444444444,
              "#bd3786"
             ],
             [
              0.5555555555555556,
              "#d8576b"
             ],
             [
              0.6666666666666666,
              "#ed7953"
             ],
             [
              0.7777777777777778,
              "#fb9f3a"
             ],
             [
              0.8888888888888888,
              "#fdca26"
             ],
             [
              1,
              "#f0f921"
             ]
            ],
            "type": "heatmap"
           }
          ],
          "heatmapgl": [
           {
            "colorbar": {
             "outlinewidth": 0,
             "ticks": ""
            },
            "colorscale": [
             [
              0,
              "#0d0887"
             ],
             [
              0.1111111111111111,
              "#46039f"
             ],
             [
              0.2222222222222222,
              "#7201a8"
             ],
             [
              0.3333333333333333,
              "#9c179e"
             ],
             [
              0.4444444444444444,
              "#bd3786"
             ],
             [
              0.5555555555555556,
              "#d8576b"
             ],
             [
              0.6666666666666666,
              "#ed7953"
             ],
             [
              0.7777777777777778,
              "#fb9f3a"
             ],
             [
              0.8888888888888888,
              "#fdca26"
             ],
             [
              1,
              "#f0f921"
             ]
            ],
            "type": "heatmapgl"
           }
          ],
          "histogram": [
           {
            "marker": {
             "pattern": {
              "fillmode": "overlay",
              "size": 10,
              "solidity": 0.2
             }
            },
            "type": "histogram"
           }
          ],
          "histogram2d": [
           {
            "colorbar": {
             "outlinewidth": 0,
             "ticks": ""
            },
            "colorscale": [
             [
              0,
              "#0d0887"
             ],
             [
              0.1111111111111111,
              "#46039f"
             ],
             [
              0.2222222222222222,
              "#7201a8"
             ],
             [
              0.3333333333333333,
              "#9c179e"
             ],
             [
              0.4444444444444444,
              "#bd3786"
             ],
             [
              0.5555555555555556,
              "#d8576b"
             ],
             [
              0.6666666666666666,
              "#ed7953"
             ],
             [
              0.7777777777777778,
              "#fb9f3a"
             ],
             [
              0.8888888888888888,
              "#fdca26"
             ],
             [
              1,
              "#f0f921"
             ]
            ],
            "type": "histogram2d"
           }
          ],
          "histogram2dcontour": [
           {
            "colorbar": {
             "outlinewidth": 0,
             "ticks": ""
            },
            "colorscale": [
             [
              0,
              "#0d0887"
             ],
             [
              0.1111111111111111,
              "#46039f"
             ],
             [
              0.2222222222222222,
              "#7201a8"
             ],
             [
              0.3333333333333333,
              "#9c179e"
             ],
             [
              0.4444444444444444,
              "#bd3786"
             ],
             [
              0.5555555555555556,
              "#d8576b"
             ],
             [
              0.6666666666666666,
              "#ed7953"
             ],
             [
              0.7777777777777778,
              "#fb9f3a"
             ],
             [
              0.8888888888888888,
              "#fdca26"
             ],
             [
              1,
              "#f0f921"
             ]
            ],
            "type": "histogram2dcontour"
           }
          ],
          "mesh3d": [
           {
            "colorbar": {
             "outlinewidth": 0,
             "ticks": ""
            },
            "type": "mesh3d"
           }
          ],
          "parcoords": [
           {
            "line": {
             "colorbar": {
              "outlinewidth": 0,
              "ticks": ""
             }
            },
            "type": "parcoords"
           }
          ],
          "pie": [
           {
            "automargin": true,
            "type": "pie"
           }
          ],
          "scatter": [
           {
            "fillpattern": {
             "fillmode": "overlay",
             "size": 10,
             "solidity": 0.2
            },
            "type": "scatter"
           }
          ],
          "scatter3d": [
           {
            "line": {
             "colorbar": {
              "outlinewidth": 0,
              "ticks": ""
             }
            },
            "marker": {
             "colorbar": {
              "outlinewidth": 0,
              "ticks": ""
             }
            },
            "type": "scatter3d"
           }
          ],
          "scattercarpet": [
           {
            "marker": {
             "colorbar": {
              "outlinewidth": 0,
              "ticks": ""
             }
            },
            "type": "scattercarpet"
           }
          ],
          "scattergeo": [
           {
            "marker": {
             "colorbar": {
              "outlinewidth": 0,
              "ticks": ""
             }
            },
            "type": "scattergeo"
           }
          ],
          "scattergl": [
           {
            "marker": {
             "colorbar": {
              "outlinewidth": 0,
              "ticks": ""
             }
            },
            "type": "scattergl"
           }
          ],
          "scattermapbox": [
           {
            "marker": {
             "colorbar": {
              "outlinewidth": 0,
              "ticks": ""
             }
            },
            "type": "scattermapbox"
           }
          ],
          "scatterpolar": [
           {
            "marker": {
             "colorbar": {
              "outlinewidth": 0,
              "ticks": ""
             }
            },
            "type": "scatterpolar"
           }
          ],
          "scatterpolargl": [
           {
            "marker": {
             "colorbar": {
              "outlinewidth": 0,
              "ticks": ""
             }
            },
            "type": "scatterpolargl"
           }
          ],
          "scatterternary": [
           {
            "marker": {
             "colorbar": {
              "outlinewidth": 0,
              "ticks": ""
             }
            },
            "type": "scatterternary"
           }
          ],
          "surface": [
           {
            "colorbar": {
             "outlinewidth": 0,
             "ticks": ""
            },
            "colorscale": [
             [
              0,
              "#0d0887"
             ],
             [
              0.1111111111111111,
              "#46039f"
             ],
             [
              0.2222222222222222,
              "#7201a8"
             ],
             [
              0.3333333333333333,
              "#9c179e"
             ],
             [
              0.4444444444444444,
              "#bd3786"
             ],
             [
              0.5555555555555556,
              "#d8576b"
             ],
             [
              0.6666666666666666,
              "#ed7953"
             ],
             [
              0.7777777777777778,
              "#fb9f3a"
             ],
             [
              0.8888888888888888,
              "#fdca26"
             ],
             [
              1,
              "#f0f921"
             ]
            ],
            "type": "surface"
           }
          ],
          "table": [
           {
            "cells": {
             "fill": {
              "color": "#EBF0F8"
             },
             "line": {
              "color": "white"
             }
            },
            "header": {
             "fill": {
              "color": "#C8D4E3"
             },
             "line": {
              "color": "white"
             }
            },
            "type": "table"
           }
          ]
         },
         "layout": {
          "annotationdefaults": {
           "arrowcolor": "#2a3f5f",
           "arrowhead": 0,
           "arrowwidth": 1
          },
          "autotypenumbers": "strict",
          "coloraxis": {
           "colorbar": {
            "outlinewidth": 0,
            "ticks": ""
           }
          },
          "colorscale": {
           "diverging": [
            [
             0,
             "#8e0152"
            ],
            [
             0.1,
             "#c51b7d"
            ],
            [
             0.2,
             "#de77ae"
            ],
            [
             0.3,
             "#f1b6da"
            ],
            [
             0.4,
             "#fde0ef"
            ],
            [
             0.5,
             "#f7f7f7"
            ],
            [
             0.6,
             "#e6f5d0"
            ],
            [
             0.7,
             "#b8e186"
            ],
            [
             0.8,
             "#7fbc41"
            ],
            [
             0.9,
             "#4d9221"
            ],
            [
             1,
             "#276419"
            ]
           ],
           "sequential": [
            [
             0,
             "#0d0887"
            ],
            [
             0.1111111111111111,
             "#46039f"
            ],
            [
             0.2222222222222222,
             "#7201a8"
            ],
            [
             0.3333333333333333,
             "#9c179e"
            ],
            [
             0.4444444444444444,
             "#bd3786"
            ],
            [
             0.5555555555555556,
             "#d8576b"
            ],
            [
             0.6666666666666666,
             "#ed7953"
            ],
            [
             0.7777777777777778,
             "#fb9f3a"
            ],
            [
             0.8888888888888888,
             "#fdca26"
            ],
            [
             1,
             "#f0f921"
            ]
           ],
           "sequentialminus": [
            [
             0,
             "#0d0887"
            ],
            [
             0.1111111111111111,
             "#46039f"
            ],
            [
             0.2222222222222222,
             "#7201a8"
            ],
            [
             0.3333333333333333,
             "#9c179e"
            ],
            [
             0.4444444444444444,
             "#bd3786"
            ],
            [
             0.5555555555555556,
             "#d8576b"
            ],
            [
             0.6666666666666666,
             "#ed7953"
            ],
            [
             0.7777777777777778,
             "#fb9f3a"
            ],
            [
             0.8888888888888888,
             "#fdca26"
            ],
            [
             1,
             "#f0f921"
            ]
           ]
          },
          "colorway": [
           "#636efa",
           "#EF553B",
           "#00cc96",
           "#ab63fa",
           "#FFA15A",
           "#19d3f3",
           "#FF6692",
           "#B6E880",
           "#FF97FF",
           "#FECB52"
          ],
          "font": {
           "color": "#2a3f5f"
          },
          "geo": {
           "bgcolor": "white",
           "lakecolor": "white",
           "landcolor": "#E5ECF6",
           "showlakes": true,
           "showland": true,
           "subunitcolor": "white"
          },
          "hoverlabel": {
           "align": "left"
          },
          "hovermode": "closest",
          "mapbox": {
           "style": "light"
          },
          "paper_bgcolor": "white",
          "plot_bgcolor": "#E5ECF6",
          "polar": {
           "angularaxis": {
            "gridcolor": "white",
            "linecolor": "white",
            "ticks": ""
           },
           "bgcolor": "#E5ECF6",
           "radialaxis": {
            "gridcolor": "white",
            "linecolor": "white",
            "ticks": ""
           }
          },
          "scene": {
           "xaxis": {
            "backgroundcolor": "#E5ECF6",
            "gridcolor": "white",
            "gridwidth": 2,
            "linecolor": "white",
            "showbackground": true,
            "ticks": "",
            "zerolinecolor": "white"
           },
           "yaxis": {
            "backgroundcolor": "#E5ECF6",
            "gridcolor": "white",
            "gridwidth": 2,
            "linecolor": "white",
            "showbackground": true,
            "ticks": "",
            "zerolinecolor": "white"
           },
           "zaxis": {
            "backgroundcolor": "#E5ECF6",
            "gridcolor": "white",
            "gridwidth": 2,
            "linecolor": "white",
            "showbackground": true,
            "ticks": "",
            "zerolinecolor": "white"
           }
          },
          "shapedefaults": {
           "line": {
            "color": "#2a3f5f"
           }
          },
          "ternary": {
           "aaxis": {
            "gridcolor": "white",
            "linecolor": "white",
            "ticks": ""
           },
           "baxis": {
            "gridcolor": "white",
            "linecolor": "white",
            "ticks": ""
           },
           "bgcolor": "#E5ECF6",
           "caxis": {
            "gridcolor": "white",
            "linecolor": "white",
            "ticks": ""
           }
          },
          "title": {
           "x": 0.05
          },
          "xaxis": {
           "automargin": true,
           "gridcolor": "white",
           "linecolor": "white",
           "ticks": "",
           "title": {
            "standoff": 15
           },
           "zerolinecolor": "white",
           "zerolinewidth": 2
          },
          "yaxis": {
           "automargin": true,
           "gridcolor": "white",
           "linecolor": "white",
           "ticks": "",
           "title": {
            "standoff": 15
           },
           "zerolinecolor": "white",
           "zerolinewidth": 2
          }
         }
        },
        "xaxis": {
         "anchor": "y",
         "domain": [
          0,
          1
         ],
         "title": {
          "text": "Taille"
         }
        },
        "yaxis": {
         "anchor": "x",
         "domain": [
          0,
          1
         ],
         "title": {
          "text": "Poids"
         }
        }
       }
      }
     },
     "metadata": {},
     "output_type": "display_data"
    },
    {
     "data": {
      "image/png": "[encoded data removed]",
      "text/plain": [
       "<Figure size 640x480 with 1 Axes>"
      ]
     },
     "metadata": {},
     "output_type": "display_data"
    }
   ],
   "source": [
    "## Statistiques descriptives des données morphologiques\n",
    "\n",
    "# à modifier pour ne garder que les graphiques qu'on juge pertinent\n",
    "\n",
    "from Stat_desc import *\n",
    "\n",
    "# Boite à moustache du poids selon le poste\n",
    "Boxplot_poids(DF_joueur_rapport_nettoye)\n",
    "afficher_violinplot(DF_joueur_rapport_nettoye,y='Poids')\n",
    "\n",
    "# Boite à moustache de la taille selon le poste\n",
    "Boxplot_taille(DF_joueur_rapport_nettoye)\n",
    "afficher_violinplot(DF_joueur_rapport_nettoye,y='Taille')\n",
    "\n",
    "\n",
    "# Représentation des joueurs sur le plan Taille, Poids\n",
    "Visualisation_Taille_Poids(DF_joueur_rapport_nettoye)\n",
    "# Avec Regression\n",
    "afficher_regression_par_poste(DF_joueur_rapport_nettoye)\n",
    "\n",
    "# Nuage de points avec toutes les infos\n",
    "scatter_plot(DF_joueur_rapport_nettoye,\"Taille\",\"Poids\", [\"Nom\", \"Âge\", \"IMC\"])\n",
    "\n",
    "# Nuage et droite de regression de y sur x\n",
    "nuage_droite(DF_joueur_rapport_nettoye, x='Taille',y='Poids')\n"
   ]
  },
  {
   "cell_type": "markdown",
   "metadata": {},
   "source": [
    "BlaBla sur le choix des modèles, de la façon dont on veut classifier, etc..."
   ]
  },
  {
   "cell_type": "code",
   "execution_count": 7,
   "metadata": {},
   "outputs": [
    {
     "data": {
      "image/png": "[encoded data removed]",
      "text/plain": [
       "<Figure size 800x600 with 1 Axes>"
      ]
     },
     "metadata": {},
     "output_type": "display_data"
    }
   ],
   "source": [
    "## Choix des paramètres pour les modèles\n",
    "\n",
    "from Choix_modele import *\n",
    "\n",
    "parametre_KNN(DF_joueur_rapport_nettoye)"
   ]
  },
  {
   "cell_type": "code",
   "execution_count": 8,
   "metadata": {},
   "outputs": [
    {
     "name": "stdout",
     "output_type": "stream",
     "text": [
      "Meilleurs paramètres pour SVM :\n",
      "Fitting 5 folds for each of 20 candidates, totalling 100 fits\n",
      "[CV] END .................................C=0.1, gamma=scale; total time=   0.0s\n",
      "[CV] END .................................C=0.1, gamma=scale; total time=   0.0s\n",
      "[CV] END .................................C=0.1, gamma=scale; total time=   0.0s\n",
      "[CV] END .................................C=0.1, gamma=scale; total time=   0.0s\n",
      "[CV] END .................................C=0.1, gamma=scale; total time=   0.0s\n",
      "[CV] END ..................................C=0.1, gamma=0.01; total time=   0.0s\n",
      "[CV] END ..................................C=0.1, gamma=0.01; total time=   0.0s\n",
      "[CV] END ..................................C=0.1, gamma=0.01; total time=   0.0s\n",
      "[CV] END ..................................C=0.1, gamma=0.01; total time=   0.0s\n",
      "[CV] END ..................................C=0.1, gamma=0.01; total time=   0.0s\n",
      "[CV] END ...................................C=0.1, gamma=0.1; total time=   0.0s\n",
      "[CV] END ...................................C=0.1, gamma=0.1; total time=   0.0s\n",
      "[CV] END ...................................C=0.1, gamma=0.1; total time=   0.0s\n",
      "[CV] END ...................................C=0.1, gamma=0.1; total time=   0.0s\n",
      "[CV] END ...................................C=0.1, gamma=0.1; total time=   0.0s\n",
      "[CV] END .....................................C=0.1, gamma=1; total time=   0.0s\n",
      "[CV] END .....................................C=0.1, gamma=1; total time=   0.0s\n",
      "[CV] END .....................................C=0.1, gamma=1; total time=   0.0s\n",
      "[CV] END .....................................C=0.1, gamma=1; total time=   0.0s\n",
      "[CV] END .....................................C=0.1, gamma=1; total time=   0.0s\n",
      "[CV] END ....................................C=0.1, gamma=10; total time=   0.0s\n",
      "[CV] END ....................................C=0.1, gamma=10; total time=   0.0s\n",
      "[CV] END ....................................C=0.1, gamma=10; total time=   0.0s\n",
      "[CV] END ....................................C=0.1, gamma=10; total time=   0.0s\n",
      "[CV] END ....................................C=0.1, gamma=10; total time=   0.0s\n",
      "[CV] END ...................................C=1, gamma=scale; total time=   0.0s\n",
      "[CV] END ...................................C=1, gamma=scale; total time=   0.0s\n",
      "[CV] END ...................................C=1, gamma=scale; total time=   0.0s\n",
      "[CV] END ...................................C=1, gamma=scale; total time=   0.0s\n",
      "[CV] END ...................................C=1, gamma=scale; total time=   0.0s\n",
      "[CV] END ....................................C=1, gamma=0.01; total time=   0.0s\n",
      "[CV] END ....................................C=1, gamma=0.01; total time=   0.0s\n",
      "[CV] END ....................................C=1, gamma=0.01; total time=   0.0s\n",
      "[CV] END ....................................C=1, gamma=0.01; total time=   0.0s\n",
      "[CV] END ....................................C=1, gamma=0.01; total time=   0.0s\n",
      "[CV] END .....................................C=1, gamma=0.1; total time=   0.0s\n",
      "[CV] END .....................................C=1, gamma=0.1; total time=   0.0s\n",
      "[CV] END .....................................C=1, gamma=0.1; total time=   0.0s\n",
      "[CV] END .....................................C=1, gamma=0.1; total time=   0.0s\n",
      "[CV] END .....................................C=1, gamma=0.1; total time=   0.0s\n",
      "[CV] END .......................................C=1, gamma=1; total time=   0.0s\n",
      "[CV] END .......................................C=1, gamma=1; total time=   0.0s\n",
      "[CV] END .......................................C=1, gamma=1; total time=   0.0s\n",
      "[CV] END .......................................C=1, gamma=1; total time=   0.0s\n",
      "[CV] END .......................................C=1, gamma=1; total time=   0.0s\n",
      "[CV] END ......................................C=1, gamma=10; total time=   0.0s\n",
      "[CV] END ......................................C=1, gamma=10; total time=   0.0s\n",
      "[CV] END ......................................C=1, gamma=10; total time=   0.0s\n",
      "[CV] END ......................................C=1, gamma=10; total time=   0.0s\n",
      "[CV] END ......................................C=1, gamma=10; total time=   0.0s\n",
      "[CV] END ..................................C=10, gamma=scale; total time=   0.0s\n",
      "[CV] END ..................................C=10, gamma=scale; total time=   0.0s\n",
      "[CV] END ..................................C=10, gamma=scale; total time=   0.0s\n",
      "[CV] END ..................................C=10, gamma=scale; total time=   0.0s\n",
      "[CV] END ..................................C=10, gamma=scale; total time=   0.0s\n",
      "[CV] END ...................................C=10, gamma=0.01; total time=   0.0s\n",
      "[CV] END ...................................C=10, gamma=0.01; total time=   0.0s\n",
      "[CV] END ...................................C=10, gamma=0.01; total time=   0.0s\n",
      "[CV] END ...................................C=10, gamma=0.01; total time=   0.0s\n",
      "[CV] END ...................................C=10, gamma=0.01; total time=   0.0s\n",
      "[CV] END ....................................C=10, gamma=0.1; total time=   0.0s\n",
      "[CV] END ....................................C=10, gamma=0.1; total time=   0.0s\n",
      "[CV] END ....................................C=10, gamma=0.1; total time=   0.0s\n",
      "[CV] END ....................................C=10, gamma=0.1; total time=   0.0s\n",
      "[CV] END ....................................C=10, gamma=0.1; total time=   0.0s\n",
      "[CV] END ......................................C=10, gamma=1; total time=   0.0s\n",
      "[CV] END ......................................C=10, gamma=1; total time=   0.0s\n",
      "[CV] END ......................................C=10, gamma=1; total time=   0.0s\n",
      "[CV] END ......................................C=10, gamma=1; total time=   0.0s\n",
      "[CV] END ......................................C=10, gamma=1; total time=   0.0s\n",
      "[CV] END .....................................C=10, gamma=10; total time=   0.0s\n",
      "[CV] END .....................................C=10, gamma=10; total time=   0.0s\n",
      "[CV] END .....................................C=10, gamma=10; total time=   0.0s\n",
      "[CV] END .....................................C=10, gamma=10; total time=   0.0s\n",
      "[CV] END .....................................C=10, gamma=10; total time=   0.0s\n",
      "[CV] END .................................C=100, gamma=scale; total time=   0.0s\n",
      "[CV] END .................................C=100, gamma=scale; total time=   0.0s\n",
      "[CV] END .................................C=100, gamma=scale; total time=   0.0s\n",
      "[CV] END .................................C=100, gamma=scale; total time=   0.0s\n",
      "[CV] END .................................C=100, gamma=scale; total time=   0.0s\n",
      "[CV] END ..................................C=100, gamma=0.01; total time=   0.0s\n",
      "[CV] END ..................................C=100, gamma=0.01; total time=   0.0s\n",
      "[CV] END ..................................C=100, gamma=0.01; total time=   0.0s\n",
      "[CV] END ..................................C=100, gamma=0.01; total time=   0.0s\n",
      "[CV] END ..................................C=100, gamma=0.01; total time=   0.0s\n",
      "[CV] END ...................................C=100, gamma=0.1; total time=   0.0s\n",
      "[CV] END ...................................C=100, gamma=0.1; total time=   0.0s\n",
      "[CV] END ...................................C=100, gamma=0.1; total time=   0.0s\n",
      "[CV] END ...................................C=100, gamma=0.1; total time=   0.0s\n",
      "[CV] END ...................................C=100, gamma=0.1; total time=   0.0s\n",
      "[CV] END .....................................C=100, gamma=1; total time=   0.0s\n",
      "[CV] END .....................................C=100, gamma=1; total time=   0.0s\n",
      "[CV] END .....................................C=100, gamma=1; total time=   0.0s\n",
      "[CV] END .....................................C=100, gamma=1; total time=   0.0s\n",
      "[CV] END .....................................C=100, gamma=1; total time=   0.0s\n",
      "[CV] END ....................................C=100, gamma=10; total time=   0.0s\n",
      "[CV] END ....................................C=100, gamma=10; total time=   0.0s\n",
      "[CV] END ....................................C=100, gamma=10; total time=   0.0s\n",
      "[CV] END ....................................C=100, gamma=10; total time=   0.0s\n",
      "[CV] END ....................................C=100, gamma=10; total time=   0.0s\n"
     ]
    },
    {
     "data": {
      "text/plain": [
       "{'C': 100, 'gamma': 0.01}"
      ]
     },
     "execution_count": 8,
     "metadata": {},
     "output_type": "execute_result"
    }
   ],
   "source": [
    "print('Meilleurs paramètres pour SVM :')\n",
    "parametres_SVM(DF_joueur_rapport_nettoye,metrique='f1_macro')"
   ]
  },
  {
   "cell_type": "code",
   "execution_count": 9,
   "metadata": {},
   "outputs": [
    {
     "name": "stdout",
     "output_type": "stream",
     "text": [
      "Meilleurs paramètres pour Random Forest :\n",
      "Fitting 5 folds for each of 108 candidates, totalling 540 fits\n"
     ]
    },
    {
     "data": {
      "text/plain": [
       "{'max_depth': None,\n",
       " 'min_samples_leaf': 1,\n",
       " 'min_samples_split': 10,\n",
       " 'n_estimators': 100}"
      ]
     },
     "execution_count": 9,
     "metadata": {},
     "output_type": "execute_result"
    }
   ],
   "source": [
    "print('Meilleurs paramètres pour Random Forest :')\n",
    "parametres_Random_Forest(DF_joueur_rapport_nettoye,metrique='f1_macro')"
   ]
  },
  {
   "cell_type": "markdown",
   "metadata": {},
   "source": [
    "BlaBla sur l'évaluation des modèles (parler de la métrique d'évaluation entre autres)"
   ]
  },
  {
   "cell_type": "code",
   "execution_count": 10,
   "metadata": {},
   "outputs": [
    {
     "data": {
      "image/png": "[encoded data removed]",
      "text/plain": [
       "<Figure size 1000x800 with 2 Axes>"
      ]
     },
     "metadata": {},
     "output_type": "display_data"
    },
    {
     "data": {
      "image/png": "[encoded data removed]",
      "text/plain": [
       "<Figure size 1000x800 with 2 Axes>"
      ]
     },
     "metadata": {},
     "output_type": "display_data"
    },
    {
     "data": {
      "image/png": "[encoded data removed]",
      "text/plain": [
       "<Figure size 1000x800 with 2 Axes>"
      ]
     },
     "metadata": {},
     "output_type": "display_data"
    }
   ],
   "source": [
    "## Evaluation des performances des différents modèles\n",
    "\n",
    "from Evaluation import *\n",
    "\n",
    "# Modèle KNN :\n",
    "best_k = 5\n",
    "Eval_modele_KNN(DF_joueur_rapport_nettoye,best_k)\n",
    "\n",
    "# Modèle SVM :\n",
    "best_parametres_SVM = {'kernel': 'rbf','C': 1, 'gamma': 10}\n",
    "Eval_modele_SVM(DF_joueur_rapport_nettoye,best_parametres_SVM)\n",
    "\n",
    "# Modèle Random Forest :\n",
    "best_parametres_RF = {'max_depth': 10, 'min_samples_leaf': 2, 'min_samples_split': 10, 'n_estimators': 50}\n",
    "Eval_modele_Random_Forest(DF_joueur_rapport_nettoye,best_parametres_RF)"
   ]
  },
  {
   "cell_type": "markdown",
   "metadata": {},
   "source": [
    "BlaBla sur le modèle choisi et pourquoi,\n",
    "Prédiction sur l'ensemble de nos données"
   ]
  },
  {
   "cell_type": "code",
   "execution_count": 11,
   "metadata": {},
   "outputs": [
    {
     "data": {
      "text/html": [
       "<div>\n",
       "<style scoped>\n",
       "    .dataframe tbody tr th:only-of-type {\n",
       "        vertical-align: middle;\n",
       "    }\n",
       "\n",
       "    .dataframe tbody tr th {\n",
       "        vertical-align: top;\n",
       "    }\n",
       "\n",
       "    .dataframe thead th {\n",
       "        text-align: right;\n",
       "    }\n",
       "</style>\n",
       "<table border=\"1\" class=\"dataframe\">\n",
       "  <thead>\n",
       "    <tr style=\"text-align: right;\">\n",
       "      <th></th>\n",
       "      <th>Poste</th>\n",
       "      <th>Nationalité</th>\n",
       "      <th>Date de naissance</th>\n",
       "      <th>Âge</th>\n",
       "      <th>Taille</th>\n",
       "      <th>Poids</th>\n",
       "      <th>Club actuel</th>\n",
       "      <th>Dernière saison</th>\n",
       "      <th>Poste simplifié</th>\n",
       "      <th>IMC</th>\n",
       "      <th>Poste prédit</th>\n",
       "    </tr>\n",
       "  </thead>\n",
       "  <tbody>\n",
       "    <tr>\n",
       "      <th>Kamil Syprzak</th>\n",
       "      <td>Pivot</td>\n",
       "      <td>Pologne</td>\n",
       "      <td>27/07/1991</td>\n",
       "      <td>33.0</td>\n",
       "      <td>207.0</td>\n",
       "      <td>117.0</td>\n",
       "      <td>Paris</td>\n",
       "      <td>NaN</td>\n",
       "      <td>Pivot</td>\n",
       "      <td>27.305188</td>\n",
       "      <td>Pivot</td>\n",
       "    </tr>\n",
       "    <tr>\n",
       "      <th>Tom Pelayo</th>\n",
       "      <td>Arrière Droit</td>\n",
       "      <td>France</td>\n",
       "      <td>23/02/1997</td>\n",
       "      <td>27.0</td>\n",
       "      <td>189.0</td>\n",
       "      <td>95.0</td>\n",
       "      <td>Dunkerque</td>\n",
       "      <td>NaN</td>\n",
       "      <td>Arrière</td>\n",
       "      <td>26.595000</td>\n",
       "      <td>Arrière</td>\n",
       "    </tr>\n",
       "    <tr>\n",
       "      <th>Gabriel Loesch</th>\n",
       "      <td>Ailier Droit</td>\n",
       "      <td>France</td>\n",
       "      <td>12/07/1995</td>\n",
       "      <td>29.0</td>\n",
       "      <td>182.0</td>\n",
       "      <td>73.0</td>\n",
       "      <td>Aix</td>\n",
       "      <td>NaN</td>\n",
       "      <td>Ailier</td>\n",
       "      <td>22.038401</td>\n",
       "      <td>Ailier</td>\n",
       "    </tr>\n",
       "    <tr>\n",
       "      <th>Chema Marquez</th>\n",
       "      <td>Demi Centre</td>\n",
       "      <td>Espagne</td>\n",
       "      <td>20/12/1996</td>\n",
       "      <td>28.0</td>\n",
       "      <td>187.0</td>\n",
       "      <td>94.0</td>\n",
       "      <td>Saint-Raphaël</td>\n",
       "      <td>NaN</td>\n",
       "      <td>Demi Centre</td>\n",
       "      <td>26.880952</td>\n",
       "      <td>Arrière</td>\n",
       "    </tr>\n",
       "    <tr>\n",
       "      <th>Nemanja Ilic</th>\n",
       "      <td>Ailier Gauche</td>\n",
       "      <td>Serbie</td>\n",
       "      <td>11/05/1990</td>\n",
       "      <td>34.0</td>\n",
       "      <td>177.0</td>\n",
       "      <td>76.0</td>\n",
       "      <td>Toulouse</td>\n",
       "      <td>NaN</td>\n",
       "      <td>Ailier</td>\n",
       "      <td>24.258674</td>\n",
       "      <td>Ailier</td>\n",
       "    </tr>\n",
       "    <tr>\n",
       "      <th>Benjamin Richert</th>\n",
       "      <td>Ailier Droit</td>\n",
       "      <td>France</td>\n",
       "      <td>18/04/1998</td>\n",
       "      <td>26.0</td>\n",
       "      <td>187.0</td>\n",
       "      <td>76.0</td>\n",
       "      <td>Chambéry</td>\n",
       "      <td>NaN</td>\n",
       "      <td>Ailier</td>\n",
       "      <td>21.733535</td>\n",
       "      <td>Ailier</td>\n",
       "    </tr>\n",
       "    <tr>\n",
       "      <th>Valero Rivera</th>\n",
       "      <td>Ailier Gauche</td>\n",
       "      <td>Espagne</td>\n",
       "      <td>22/02/1985</td>\n",
       "      <td>39.0</td>\n",
       "      <td>186.0</td>\n",
       "      <td>83.0</td>\n",
       "      <td>Nantes</td>\n",
       "      <td>NaN</td>\n",
       "      <td>Ailier</td>\n",
       "      <td>23.991213</td>\n",
       "      <td>Ailier</td>\n",
       "    </tr>\n",
       "    <tr>\n",
       "      <th>Ian Tarrafeta</th>\n",
       "      <td>Demi Centre</td>\n",
       "      <td>Espagne</td>\n",
       "      <td>04/01/1999</td>\n",
       "      <td>25.0</td>\n",
       "      <td>188.0</td>\n",
       "      <td>88.0</td>\n",
       "      <td>Aix</td>\n",
       "      <td>NaN</td>\n",
       "      <td>Demi Centre</td>\n",
       "      <td>24.898144</td>\n",
       "      <td>Demi Centre</td>\n",
       "    </tr>\n",
       "    <tr>\n",
       "      <th>Elohim Prandi</th>\n",
       "      <td>Arrière Gauche</td>\n",
       "      <td>France</td>\n",
       "      <td>24/08/1998</td>\n",
       "      <td>26.0</td>\n",
       "      <td>193.0</td>\n",
       "      <td>101.0</td>\n",
       "      <td>Paris</td>\n",
       "      <td>NaN</td>\n",
       "      <td>Arrière</td>\n",
       "      <td>27.114822</td>\n",
       "      <td>Pivot</td>\n",
       "    </tr>\n",
       "    <tr>\n",
       "      <th>Mario Lopez Alvarez</th>\n",
       "      <td>Ailier Droit</td>\n",
       "      <td>Espagne</td>\n",
       "      <td>19/09/1994</td>\n",
       "      <td>30.0</td>\n",
       "      <td>178.0</td>\n",
       "      <td>81.0</td>\n",
       "      <td>Créteil</td>\n",
       "      <td>NaN</td>\n",
       "      <td>Ailier</td>\n",
       "      <td>25.564954</td>\n",
       "      <td>Ailier</td>\n",
       "    </tr>\n",
       "  </tbody>\n",
       "</table>\n",
       "</div>"
      ],
      "text/plain": [
       "                              Poste Nationalité Date de naissance   Âge  \\\n",
       "Kamil Syprzak                 Pivot     Pologne        27/07/1991  33.0   \n",
       "Tom Pelayo            Arrière Droit      France        23/02/1997  27.0   \n",
       "Gabriel Loesch         Ailier Droit      France        12/07/1995  29.0   \n",
       "Chema Marquez           Demi Centre     Espagne        20/12/1996  28.0   \n",
       "Nemanja Ilic          Ailier Gauche      Serbie        11/05/1990  34.0   \n",
       "Benjamin Richert       Ailier Droit      France        18/04/1998  26.0   \n",
       "Valero Rivera         Ailier Gauche     Espagne        22/02/1985  39.0   \n",
       "Ian Tarrafeta           Demi Centre     Espagne        04/01/1999  25.0   \n",
       "Elohim Prandi        Arrière Gauche      France        24/08/1998  26.0   \n",
       "Mario Lopez Alvarez    Ailier Droit     Espagne        19/09/1994  30.0   \n",
       "\n",
       "                     Taille  Poids    Club actuel Dernière saison  \\\n",
       "Kamil Syprzak         207.0  117.0          Paris             NaN   \n",
       "Tom Pelayo            189.0   95.0      Dunkerque             NaN   \n",
       "Gabriel Loesch        182.0   73.0            Aix             NaN   \n",
       "Chema Marquez         187.0   94.0  Saint-Raphaël             NaN   \n",
       "Nemanja Ilic          177.0   76.0       Toulouse             NaN   \n",
       "Benjamin Richert      187.0   76.0       Chambéry             NaN   \n",
       "Valero Rivera         186.0   83.0         Nantes             NaN   \n",
       "Ian Tarrafeta         188.0   88.0            Aix             NaN   \n",
       "Elohim Prandi         193.0  101.0          Paris             NaN   \n",
       "Mario Lopez Alvarez   178.0   81.0        Créteil             NaN   \n",
       "\n",
       "                    Poste simplifié        IMC Poste prédit  \n",
       "Kamil Syprzak                 Pivot  27.305188        Pivot  \n",
       "Tom Pelayo                  Arrière  26.595000      Arrière  \n",
       "Gabriel Loesch               Ailier  22.038401       Ailier  \n",
       "Chema Marquez           Demi Centre  26.880952      Arrière  \n",
       "Nemanja Ilic                 Ailier  24.258674       Ailier  \n",
       "Benjamin Richert             Ailier  21.733535       Ailier  \n",
       "Valero Rivera                Ailier  23.991213       Ailier  \n",
       "Ian Tarrafeta           Demi Centre  24.898144  Demi Centre  \n",
       "Elohim Prandi               Arrière  27.114822        Pivot  \n",
       "Mario Lopez Alvarez          Ailier  25.564954       Ailier  "
      ]
     },
     "execution_count": 11,
     "metadata": {},
     "output_type": "execute_result"
    }
   ],
   "source": [
    "## Prédiction sur l'ensemble du DataSet\n",
    "\n",
    "from Prediction import *\n",
    "\n",
    "\n",
    "Prediction(DF_joueur_rapport_nettoye,type_modele='SVC',telechargement='DF_joueur_rapport_predit.csv')\n",
    "\n",
    "DF_joueur_rapport_predit = pd.read_csv(\"DF_joueur_rapport_predit.csv\",index_col=0)\n",
    "\n",
    "DF_joueur_rapport_predit.head(10)"
   ]
  },
  {
   "cell_type": "markdown",
   "metadata": {},
   "source": [
    "BlaBla sur le dataframe des matchs + jointure des 2 dataframes + indicateur de performance"
   ]
  },
  {
   "cell_type": "code",
   "execution_count": 21,
   "metadata": {},
   "outputs": [
    {
     "data": {
      "text/html": [
       "<div>\n",
       "<style scoped>\n",
       "    .dataframe tbody tr th:only-of-type {\n",
       "        vertical-align: middle;\n",
       "    }\n",
       "\n",
       "    .dataframe tbody tr th {\n",
       "        vertical-align: top;\n",
       "    }\n",
       "\n",
       "    .dataframe thead th {\n",
       "        text-align: right;\n",
       "    }\n",
       "</style>\n",
       "<table border=\"1\" class=\"dataframe\">\n",
       "  <thead>\n",
       "    <tr style=\"text-align: right;\">\n",
       "      <th></th>\n",
       "      <th>Total buts</th>\n",
       "      <th>Total tirs</th>\n",
       "      <th>totalbuts</th>\n",
       "      <th>%total</th>\n",
       "      <th>totalbuts / mj</th>\n",
       "      <th>Buts dans le jeu</th>\n",
       "      <th>Tirs dans le jeu</th>\n",
       "      <th>butstirs</th>\n",
       "      <th>%tirs</th>\n",
       "      <th>tirsbuts / mj</th>\n",
       "      <th>Penalty réussis</th>\n",
       "      <th>Tirs de Penalty</th>\n",
       "      <th>butspenalty</th>\n",
       "      <th>%penalty</th>\n",
       "      <th>penaltybuts / mj</th>\n",
       "      <th>mj</th>\n",
       "      <th>Score LNH *</th>\n",
       "      <th>Temps jeu</th>\n",
       "      <th>Nom formate</th>\n",
       "    </tr>\n",
       "  </thead>\n",
       "  <tbody>\n",
       "    <tr>\n",
       "      <th>SYPRZAK Kamil</th>\n",
       "      <td>220</td>\n",
       "      <td>267</td>\n",
       "      <td>220 / 267</td>\n",
       "      <td>82,40 %</td>\n",
       "      <td>7,59</td>\n",
       "      <td>131</td>\n",
       "      <td>161</td>\n",
       "      <td>131 / 161</td>\n",
       "      <td>81,37 %</td>\n",
       "      <td>4,52</td>\n",
       "      <td>89</td>\n",
       "      <td>106</td>\n",
       "      <td>89 / 106</td>\n",
       "      <td>83,96 %</td>\n",
       "      <td>3,07</td>\n",
       "      <td>29</td>\n",
       "      <td>413.9</td>\n",
       "      <td>08:01:40</td>\n",
       "      <td>Kamil Syprzak</td>\n",
       "    </tr>\n",
       "    <tr>\n",
       "      <th>PELAYO Tom</th>\n",
       "      <td>216</td>\n",
       "      <td>294</td>\n",
       "      <td>216 / 294</td>\n",
       "      <td>73,47 %</td>\n",
       "      <td>7,20</td>\n",
       "      <td>134</td>\n",
       "      <td>190</td>\n",
       "      <td>134 / 190</td>\n",
       "      <td>70,53 %</td>\n",
       "      <td>4,47</td>\n",
       "      <td>82</td>\n",
       "      <td>104</td>\n",
       "      <td>82 / 104</td>\n",
       "      <td>78,85 %</td>\n",
       "      <td>2,73</td>\n",
       "      <td>30</td>\n",
       "      <td>470.3</td>\n",
       "      <td>21:16:38</td>\n",
       "      <td>Tom Pelayo</td>\n",
       "    </tr>\n",
       "    <tr>\n",
       "      <th>LOESCH Gabriel</th>\n",
       "      <td>191</td>\n",
       "      <td>248</td>\n",
       "      <td>191 / 248</td>\n",
       "      <td>77,02 %</td>\n",
       "      <td>6,37</td>\n",
       "      <td>107</td>\n",
       "      <td>148</td>\n",
       "      <td>107 / 148</td>\n",
       "      <td>72,30 %</td>\n",
       "      <td>3,57</td>\n",
       "      <td>84</td>\n",
       "      <td>100</td>\n",
       "      <td>84 / 100</td>\n",
       "      <td>84,00 %</td>\n",
       "      <td>2,80</td>\n",
       "      <td>30</td>\n",
       "      <td>364.5</td>\n",
       "      <td>27:10:37</td>\n",
       "      <td>Gabriel Loesch</td>\n",
       "    </tr>\n",
       "    <tr>\n",
       "      <th>MARQUEZ Chema</th>\n",
       "      <td>189</td>\n",
       "      <td>312</td>\n",
       "      <td>189 / 312</td>\n",
       "      <td>60,58 %</td>\n",
       "      <td>6,30</td>\n",
       "      <td>178</td>\n",
       "      <td>293</td>\n",
       "      <td>178 / 293</td>\n",
       "      <td>60,75 %</td>\n",
       "      <td>5,93</td>\n",
       "      <td>11</td>\n",
       "      <td>19</td>\n",
       "      <td>11 / 19</td>\n",
       "      <td>57,89 %</td>\n",
       "      <td>0,37</td>\n",
       "      <td>30</td>\n",
       "      <td>424.5</td>\n",
       "      <td>17:04:57</td>\n",
       "      <td>Chema Marquez</td>\n",
       "    </tr>\n",
       "    <tr>\n",
       "      <th>ILIC Nemanja</th>\n",
       "      <td>183</td>\n",
       "      <td>238</td>\n",
       "      <td>183 / 238</td>\n",
       "      <td>76,89 %</td>\n",
       "      <td>6,54</td>\n",
       "      <td>116</td>\n",
       "      <td>152</td>\n",
       "      <td>116 / 152</td>\n",
       "      <td>76,32 %</td>\n",
       "      <td>4,14</td>\n",
       "      <td>67</td>\n",
       "      <td>86</td>\n",
       "      <td>67 / 86</td>\n",
       "      <td>77,91 %</td>\n",
       "      <td>2,39</td>\n",
       "      <td>28</td>\n",
       "      <td>366.8</td>\n",
       "      <td>21:19:16</td>\n",
       "      <td>Nemanja Ilic</td>\n",
       "    </tr>\n",
       "    <tr>\n",
       "      <th>RICHERT Benjamin</th>\n",
       "      <td>170</td>\n",
       "      <td>257</td>\n",
       "      <td>170 / 257</td>\n",
       "      <td>66,15 %</td>\n",
       "      <td>6,07</td>\n",
       "      <td>84</td>\n",
       "      <td>142</td>\n",
       "      <td>84 / 142</td>\n",
       "      <td>59,15 %</td>\n",
       "      <td>3,00</td>\n",
       "      <td>86</td>\n",
       "      <td>115</td>\n",
       "      <td>86 / 115</td>\n",
       "      <td>74,78 %</td>\n",
       "      <td>3,07</td>\n",
       "      <td>28</td>\n",
       "      <td>312.6</td>\n",
       "      <td>15:54:21</td>\n",
       "      <td>Benjamin Richert</td>\n",
       "    </tr>\n",
       "    <tr>\n",
       "      <th>RIVERA Valero</th>\n",
       "      <td>169</td>\n",
       "      <td>220</td>\n",
       "      <td>169 / 220</td>\n",
       "      <td>76,82 %</td>\n",
       "      <td>5,63</td>\n",
       "      <td>89</td>\n",
       "      <td>123</td>\n",
       "      <td>89 / 123</td>\n",
       "      <td>72,36 %</td>\n",
       "      <td>2,97</td>\n",
       "      <td>80</td>\n",
       "      <td>97</td>\n",
       "      <td>80 / 97</td>\n",
       "      <td>82,47 %</td>\n",
       "      <td>2,67</td>\n",
       "      <td>30</td>\n",
       "      <td>329.1</td>\n",
       "      <td>18:08:32</td>\n",
       "      <td>Valero Rivera</td>\n",
       "    </tr>\n",
       "    <tr>\n",
       "      <th>TARRAFETA Ian</th>\n",
       "      <td>165</td>\n",
       "      <td>246</td>\n",
       "      <td>165 / 246</td>\n",
       "      <td>67,07 %</td>\n",
       "      <td>6,88</td>\n",
       "      <td>165</td>\n",
       "      <td>246</td>\n",
       "      <td>165 / 246</td>\n",
       "      <td>67,07 %</td>\n",
       "      <td>6,88</td>\n",
       "      <td>0</td>\n",
       "      <td>0</td>\n",
       "      <td>0 / 0</td>\n",
       "      <td>0,00 %</td>\n",
       "      <td>0,00</td>\n",
       "      <td>24</td>\n",
       "      <td>443.9</td>\n",
       "      <td>18:39:14</td>\n",
       "      <td>Ian Tarrafeta</td>\n",
       "    </tr>\n",
       "    <tr>\n",
       "      <th>PRANDI Elohim</th>\n",
       "      <td>160</td>\n",
       "      <td>248</td>\n",
       "      <td>160 / 248</td>\n",
       "      <td>64,52 %</td>\n",
       "      <td>5,71</td>\n",
       "      <td>160</td>\n",
       "      <td>248</td>\n",
       "      <td>160 / 248</td>\n",
       "      <td>64,52 %</td>\n",
       "      <td>5,71</td>\n",
       "      <td>0</td>\n",
       "      <td>0</td>\n",
       "      <td>0 / 0</td>\n",
       "      <td>0,00 %</td>\n",
       "      <td>0,00</td>\n",
       "      <td>28</td>\n",
       "      <td>373.1</td>\n",
       "      <td>16:34:51</td>\n",
       "      <td>Elohim Prandi</td>\n",
       "    </tr>\n",
       "    <tr>\n",
       "      <th>LOPEZ ALVAREZ Mario</th>\n",
       "      <td>159</td>\n",
       "      <td>229</td>\n",
       "      <td>159 / 229</td>\n",
       "      <td>69,43 %</td>\n",
       "      <td>5,30</td>\n",
       "      <td>95</td>\n",
       "      <td>144</td>\n",
       "      <td>95 / 144</td>\n",
       "      <td>65,97 %</td>\n",
       "      <td>3,17</td>\n",
       "      <td>64</td>\n",
       "      <td>85</td>\n",
       "      <td>64 / 85</td>\n",
       "      <td>75,29 %</td>\n",
       "      <td>2,13</td>\n",
       "      <td>30</td>\n",
       "      <td>334.0</td>\n",
       "      <td>21:46:21</td>\n",
       "      <td>Mario Lopez Alvarez</td>\n",
       "    </tr>\n",
       "  </tbody>\n",
       "</table>\n",
       "</div>"
      ],
      "text/plain": [
       "                     Total buts  Total tirs  totalbuts   %total  \\\n",
       "SYPRZAK Kamil               220         267  220 / 267  82,40 %   \n",
       "PELAYO Tom                  216         294  216 / 294  73,47 %   \n",
       "LOESCH Gabriel              191         248  191 / 248  77,02 %   \n",
       "MARQUEZ Chema               189         312  189 / 312  60,58 %   \n",
       "ILIC Nemanja                183         238  183 / 238  76,89 %   \n",
       "RICHERT Benjamin            170         257  170 / 257  66,15 %   \n",
       "RIVERA Valero               169         220  169 / 220  76,82 %   \n",
       "TARRAFETA Ian               165         246  165 / 246  67,07 %   \n",
       "PRANDI Elohim               160         248  160 / 248  64,52 %   \n",
       "LOPEZ ALVAREZ Mario         159         229  159 / 229  69,43 %   \n",
       "\n",
       "                    totalbuts / mj  Buts dans le jeu  Tirs dans le jeu  \\\n",
       "SYPRZAK Kamil                 7,59               131               161   \n",
       "PELAYO Tom                    7,20               134               190   \n",
       "LOESCH Gabriel                6,37               107               148   \n",
       "MARQUEZ Chema                 6,30               178               293   \n",
       "ILIC Nemanja                  6,54               116               152   \n",
       "RICHERT Benjamin              6,07                84               142   \n",
       "RIVERA Valero                 5,63                89               123   \n",
       "TARRAFETA Ian                 6,88               165               246   \n",
       "PRANDI Elohim                 5,71               160               248   \n",
       "LOPEZ ALVAREZ Mario           5,30                95               144   \n",
       "\n",
       "                      butstirs    %tirs tirsbuts / mj  Penalty réussis  \\\n",
       "SYPRZAK Kamil        131 / 161  81,37 %          4,52               89   \n",
       "PELAYO Tom           134 / 190  70,53 %          4,47               82   \n",
       "LOESCH Gabriel       107 / 148  72,30 %          3,57               84   \n",
       "MARQUEZ Chema        178 / 293  60,75 %          5,93               11   \n",
       "ILIC Nemanja         116 / 152  76,32 %          4,14               67   \n",
       "RICHERT Benjamin      84 / 142  59,15 %          3,00               86   \n",
       "RIVERA Valero         89 / 123  72,36 %          2,97               80   \n",
       "TARRAFETA Ian        165 / 246  67,07 %          6,88                0   \n",
       "PRANDI Elohim        160 / 248  64,52 %          5,71                0   \n",
       "LOPEZ ALVAREZ Mario   95 / 144  65,97 %          3,17               64   \n",
       "\n",
       "                     Tirs de Penalty butspenalty %penalty penaltybuts / mj  \\\n",
       "SYPRZAK Kamil                    106    89 / 106  83,96 %             3,07   \n",
       "PELAYO Tom                       104    82 / 104  78,85 %             2,73   \n",
       "LOESCH Gabriel                   100    84 / 100  84,00 %             2,80   \n",
       "MARQUEZ Chema                     19     11 / 19  57,89 %             0,37   \n",
       "ILIC Nemanja                      86     67 / 86  77,91 %             2,39   \n",
       "RICHERT Benjamin                 115    86 / 115  74,78 %             3,07   \n",
       "RIVERA Valero                     97     80 / 97  82,47 %             2,67   \n",
       "TARRAFETA Ian                      0       0 / 0   0,00 %             0,00   \n",
       "PRANDI Elohim                      0       0 / 0   0,00 %             0,00   \n",
       "LOPEZ ALVAREZ Mario               85     64 / 85  75,29 %             2,13   \n",
       "\n",
       "                     mj  Score LNH * Temps jeu          Nom formate  \n",
       "SYPRZAK Kamil        29        413.9  08:01:40        Kamil Syprzak  \n",
       "PELAYO Tom           30        470.3  21:16:38           Tom Pelayo  \n",
       "LOESCH Gabriel       30        364.5  27:10:37       Gabriel Loesch  \n",
       "MARQUEZ Chema        30        424.5  17:04:57        Chema Marquez  \n",
       "ILIC Nemanja         28        366.8  21:19:16         Nemanja Ilic  \n",
       "RICHERT Benjamin     28        312.6  15:54:21     Benjamin Richert  \n",
       "RIVERA Valero        30        329.1  18:08:32        Valero Rivera  \n",
       "TARRAFETA Ian        24        443.9  18:39:14        Ian Tarrafeta  \n",
       "PRANDI Elohim        28        373.1  16:34:51        Elohim Prandi  \n",
       "LOPEZ ALVAREZ Mario  30        334.0  21:46:21  Mario Lopez Alvarez  "
      ]
     },
     "execution_count": 21,
     "metadata": {},
     "output_type": "execute_result"
    }
   ],
   "source": [
    "## Nettoyage du DataFrame contenant les données de match\n",
    "\n",
    "from fusion_csv import *\n",
    "\n",
    "# Ligne à enlever lorsqu'on lancera le tout\n",
    "DF_match_rapport = pd.read_csv(\"Donnees/Donnees_match.csv\",index_col=0)\n",
    "\n",
    "# Nettoyage\n",
    "traitement(DF_match_rapport,nom_fichier=\"DF_match_rapport_nettoye.csv\")\n",
    "\n",
    "DF_match_rapport_nettoye = pd.read_csv(\"DF_match_rapport_nettoye.csv\",index_col=0)\n",
    "# /!\\ ajouter la fonction qui crée l'indicateur de performance dans la fonction de traitement\n",
    "\n",
    "DF_match_rapport_nettoye.head(10)"
   ]
  },
  {
   "cell_type": "code",
   "execution_count": 24,
   "metadata": {},
   "outputs": [],
   "source": [
    "%autoreload 2\n"
   ]
  },
  {
   "cell_type": "code",
   "execution_count": 25,
   "metadata": {},
   "outputs": [
    {
     "ename": "TypeError",
     "evalue": "'Index' object is not callable",
     "output_type": "error",
     "traceback": [
      "\u001b[1;31m---------------------------------------------------------------------------\u001b[0m",
      "\u001b[1;31mTypeError\u001b[0m                                 Traceback (most recent call last)",
      "Cell \u001b[1;32mIn[25], line 5\u001b[0m\n\u001b[0;32m      1\u001b[0m \u001b[38;5;66;03m# Jointure des 2 DataFrames\u001b[39;00m\n\u001b[0;32m      3\u001b[0m \u001b[38;5;28;01mfrom\u001b[39;00m \u001b[38;5;21;01mfusion_csv\u001b[39;00m \u001b[38;5;28;01mimport\u001b[39;00m \u001b[38;5;241m*\u001b[39m\n\u001b[1;32m----> 5\u001b[0m DF_joint_rapport \u001b[38;5;241m=\u001b[39m \u001b[43mjointure_df\u001b[49m\u001b[43m(\u001b[49m\u001b[43mDF_joueur_rapport_predit\u001b[49m\u001b[43m,\u001b[49m\u001b[43mDF_match_rapport_nettoye\u001b[49m\u001b[43m,\u001b[49m\u001b[43mtelechargement\u001b[49m\u001b[38;5;241;43m=\u001b[39;49m\u001b[38;5;124;43m\"\u001b[39;49m\u001b[38;5;124;43mDF_joint_rapport.csv\u001b[39;49m\u001b[38;5;124;43m\"\u001b[39;49m\u001b[43m)\u001b[49m\n\u001b[0;32m      7\u001b[0m DF_joint_rapport\u001b[38;5;241m.\u001b[39mhead(\u001b[38;5;241m10\u001b[39m)\n",
      "File \u001b[1;32mc:\\Users\\Léo\\Desktop\\GIT_HANDBALL\\Handball_Position_Predicting\\fusion_csv.py:157\u001b[0m, in \u001b[0;36mjointure_df\u001b[1;34m(dataframe1, dataframe2, telechargement)\u001b[0m\n\u001b[0;32m    151\u001b[0m \u001b[38;5;28;01mdef\u001b[39;00m \u001b[38;5;21mjointure_df\u001b[39m(dataframe1,dataframe2,telechargement \u001b[38;5;241m=\u001b[39m \u001b[38;5;28;01mNone\u001b[39;00m):\n\u001b[0;32m    153\u001b[0m \u001b[38;5;250m    \u001b[39m\u001b[38;5;124;03m'''\u001b[39;00m\n\u001b[0;32m    154\u001b[0m \u001b[38;5;124;03m    Cette fonction permet d'effectuer la jointure entre nos 2 DataFrames.\u001b[39;00m\n\u001b[0;32m    155\u001b[0m \u001b[38;5;124;03m    La jointure s'effectue sur le nom des joueurs, en utilisant le format Prénom Nom.\u001b[39;00m\n\u001b[0;32m    156\u001b[0m \u001b[38;5;124;03m    '''\u001b[39;00m\n\u001b[1;32m--> 157\u001b[0m     \u001b[38;5;28;01mif\u001b[39;00m \u001b[38;5;124m'\u001b[39m\u001b[38;5;124mNom formate\u001b[39m\u001b[38;5;124m'\u001b[39m \u001b[38;5;129;01min\u001b[39;00m \u001b[43mdataframe2\u001b[49m\u001b[38;5;241;43m.\u001b[39;49m\u001b[43mcolumns\u001b[49m\u001b[43m(\u001b[49m\u001b[43m)\u001b[49m:\n\u001b[0;32m    158\u001b[0m         donnees_combinees \u001b[38;5;241m=\u001b[39m pd\u001b[38;5;241m.\u001b[39mmerge(dataframe1,dataframe2,left_index\u001b[38;5;241m=\u001b[39m \u001b[38;5;28;01mTrue\u001b[39;00m, right_on\u001b[38;5;241m=\u001b[39m\u001b[38;5;124m'\u001b[39m\u001b[38;5;124mNom formate\u001b[39m\u001b[38;5;124m'\u001b[39m, how\u001b[38;5;241m=\u001b[39m\u001b[38;5;124m'\u001b[39m\u001b[38;5;124minner\u001b[39m\u001b[38;5;124m'\u001b[39m)\n\u001b[0;32m    159\u001b[0m         donnees_combinees\u001b[38;5;241m.\u001b[39mset_index(\u001b[38;5;124m'\u001b[39m\u001b[38;5;124mNom formate\u001b[39m\u001b[38;5;124m'\u001b[39m, inplace\u001b[38;5;241m=\u001b[39m\u001b[38;5;28;01mTrue\u001b[39;00m)\n",
      "\u001b[1;31mTypeError\u001b[0m: 'Index' object is not callable"
     ]
    }
   ],
   "source": [
    "# Jointure des 2 DataFrames\n",
    "\n",
    "from fusion_csv import *\n",
    "\n",
    "DF_joint_rapport = jointure_df(DF_joueur_rapport_predit,DF_match_rapport_nettoye,telechargement=\"DF_joint_rapport.csv\")\n",
    "\n",
    "DF_joint_rapport.head(10)"
   ]
  },
  {
   "cell_type": "markdown",
   "metadata": {},
   "source": [
    "BlaBla sur la comparaison des performances entre vrai poste et poste prédit"
   ]
  },
  {
   "cell_type": "code",
   "execution_count": null,
   "metadata": {},
   "outputs": [],
   "source": [
    "## Comparaison des performances"
   ]
  }
 ],
 "metadata": {
  "kernelspec": {
   "display_name": "Python 3",
   "language": "python",
   "name": "python3"
  },
  "language_info": {
   "codemirror_mode": {
    "name": "ipython",
    "version": 3
   },
   "file_extension": ".py",
   "mimetype": "text/x-python",
   "name": "python",
   "nbconvert_exporter": "python",
   "pygments_lexer": "ipython3",
   "version": "3.11.9"
  }
 },
 "nbformat": 4,
 "nbformat_minor": 2
}
