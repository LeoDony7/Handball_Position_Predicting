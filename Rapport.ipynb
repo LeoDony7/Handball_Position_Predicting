{
 "cells": [
  {
   "cell_type": "markdown",
   "metadata": {},
   "source": [
    "# Rapport Projet :"
   ]
  },
  {
   "cell_type": "markdown",
   "metadata": {},
   "source": [
    "## Présentation du projet : \n",
    "Nous sommes trois sportifs et nous avions à cœur de lier notre projet de programmation avec le monde du sport. \n",
    "Pour explorer tous les enseignements du cours, nous avons cherché un sport dans lequel la prédiction statistique \n",
    "aurait pu répondre à des questions pratiques pour les joueurs et les entraîneurs. \n",
    "Comme deux d'entre nous pratiquent le handball, nous nous sommes donnés comme objectif d'élaborer un modèle de prédiction \n",
    "du poste d'un joueur de handball en fonction de ses caractéristiques morphologiques. \n",
    "\n",
    "Précisons ici que le handball se joue avec 1 gardien et 6 joueurs de champ, répartis en 4 postes :\n",
    "Pivot, Ailiers (gauche et droit), Arrières (gauche et droit) et Demi-centre.  "
   ]
  },
  {
   "cell_type": "markdown",
   "metadata": {},
   "source": [
    "![Composition Hand Star Game 2015 ](Images/Compo_France.jpg.webp)"
   ]
  },
  {
   "cell_type": "code",
   "execution_count": null,
   "metadata": {},
   "outputs": [],
   "source": [
    "## Installations requises\n",
    "\n",
    "! pip install bs4\n",
    "! pip install selenium\n",
    "! pip install webdriver-manager\n",
    "! pip install seaborn\n",
    "! pip install plotly\n",
    "! pip install scikit-learn\n",
    "! pip install nbformat\n"
   ]
  },
  {
   "cell_type": "markdown",
   "metadata": {},
   "source": [
    "## Récupération des données\n",
    "Pour mener à bien ce projet nous avons utilisé des données issues du site de la LNH (Ligue Nationale de Handball). La récupération de ces données a été faite par scrapping. \n",
    "Les données disponibles sur le site concernent les joueurs de la LNH inscrit dans un club de la ligue pour la saison 2023/2024. \n",
    "Parmi les informations auxquelles nous avons accédé, deux mesures nous intéressent particulièrement, le poids et la taille du joueur, ainsi que l'information sur le poste du joueur."
   ]
  },
  {
   "cell_type": "code",
   "execution_count": null,
   "metadata": {},
   "outputs": [],
   "source": [
    "## Récupération des données\n",
    "\n",
    "from Scrapping_donnees_fonction import *\n",
    "\n",
    "Scrapping(nom_df_match=\"DF_match_rapport.csv\",nom_df_physique=\"DF_joueur_rapport.csv\")\n",
    "\n",
    "DF_match_rapport = pd.read_csv(\"DF_match_rapport.csv\",index_col=0)\n",
    "DF_joueur_rapport = pd.read_csv(\"DF_joueur_rapport.csv\",index_col=0)"
   ]
  },
  {
   "cell_type": "code",
   "execution_count": 1,
   "metadata": {},
   "outputs": [],
   "source": [
    "## Nettoyage des DataFrames\n",
    "\n",
    "from Nettoyage import *\n",
    "\n",
    "DF_joueur_rapport = pd.read_csv(\"Donnees/Donnees_physique_joueurs.csv\",index_col=0)\n",
    "\n",
    "DF_joueur_rapport_nettoye = cleaning(DF_joueur_rapport,nom_fichier=\"DF_joueur_rapport_nettoye.csv\")\n",
    "\n",
    "# Si vous ne souhaiter pas télécharger ce DataFrame, mettre nom_fichier= None"
   ]
  },
  {
   "cell_type": "markdown",
   "metadata": {},
   "source": [
    "\n",
    "| Page d'un joueur | Page des statistiques de match LNH              |\n",
    "|-----------------------|-----------------------|\n",
    "| ![Page d'un joueur](./Images/Screenshot_page_joueur_LNH.png) | ![Page des statistiques de match LNH](./Images/Screenshot_page_match_LNH.png)|"
   ]
  },
  {
   "cell_type": "markdown",
   "metadata": {},
   "source": [
    "A l'issu d'un travail de nettoyage et de présentation des données recueillies, une analyse descriptive s'est imposée pour comprendre la structure des données et s'assurer de l'intérêt de notre intuition initiale. \n",
    "Il apparaît en effet que les morphologies des joueurs sont plus proches les unes des autres que ce que nous estimions. Notre pratique du handball amateur permet à des physiques plus petits et plus légers d'avoir une place dans les équipes amateurs. Cependant, le niveau professionnel permet une sélection plus forte sur les physiques et ne donne une place dans les équipes qu'à des joueurs particulièrement athlétiques.\n",
    "La disparité que nous présumions entre les postes n'est donc pas aussi marquée. Néanmoins une première projection du nuage des joueurs selon le poids et la taille permet d'identifier certains groupes. "
   ]
  },
  {
   "cell_type": "code",
   "execution_count": null,
   "metadata": {},
   "outputs": [],
   "source": [
    "## Statistiques descriptives des données morphologiques\n",
    "\n",
    "from Stat_desc import *\n",
    "\n",
    "# Boite à moustache du poids selon le poste\n",
    "Boxplot_poids(DF_joueur_rapport_nettoye)\n",
    "afficher_violinplot(DF_joueur_rapport_nettoye,y='Poids')\n",
    "\n",
    "# Boite à moustache de la taille selon le poste\n",
    "Boxplot_taille(DF_joueur_rapport_nettoye)\n",
    "afficher_violinplot(DF_joueur_rapport_nettoye,y='Taille')\n",
    "\n",
    "\n",
    "# Représentation des joueurs sur le plan Taille, Poids\n",
    "Visualisation_Taille_Poids(DF_joueur_rapport_nettoye)\n",
    "# Avec Regression\n",
    "afficher_regression_par_poste(DF_joueur_rapport_nettoye)\n",
    "\n",
    "\n",
    "scatter_plot(DF_joueur_rapport_nettoye,\"Taille\",\"Poids\", [\"Nom\", \"Âge\", \"IMC\"])\n"
   ]
  },
  {
   "cell_type": "markdown",
   "metadata": {},
   "source": [
    "## BlaBla sur le choix des modèles, de la façon dont on veut classifier, etc..."
   ]
  },
  {
   "cell_type": "code",
   "execution_count": null,
   "metadata": {},
   "outputs": [],
   "source": [
    "## Choix des paramètres pour les modèles\n",
    "\n",
    "from Choix_modele import *\n",
    "\n",
    "parametre_KNN(DF_joueur_rapport_nettoye)"
   ]
  },
  {
   "cell_type": "code",
   "execution_count": null,
   "metadata": {},
   "outputs": [],
   "source": [
    "print('\\nMeilleurs paramètres pour SVM :')\n",
    "parametres_SVM(DF_joueur_rapport_nettoye,metrique='f1_macro')"
   ]
  },
  {
   "cell_type": "code",
   "execution_count": null,
   "metadata": {},
   "outputs": [],
   "source": [
    "print('\\nMeilleurs paramètres pour Random Forest :')\n",
    "parametres_Random_Forest(DF_joueur_rapport_nettoye,metrique='f1_macro')"
   ]
  }
 ],
 "metadata": {
  "kernelspec": {
   "display_name": "Python 3",
   "language": "python",
   "name": "python3"
  },
  "language_info": {
   "codemirror_mode": {
    "name": "ipython",
    "version": 3
   },
   "file_extension": ".py",
   "mimetype": "text/x-python",
   "name": "python",
   "nbconvert_exporter": "python",
   "pygments_lexer": "ipython3",
   "version": "3.11.9"
  }
 },
 "nbformat": 4,
 "nbformat_minor": 2
}
