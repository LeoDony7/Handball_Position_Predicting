{
 "cells": [
  {
   "cell_type": "markdown",
   "metadata": {},
   "source": [
    "# Rapport Projet :"
   ]
  },
  {
   "cell_type": "markdown",
   "metadata": {},
   "source": [
    "## Présentation du projet : \n",
    "Nous sommes trois sportifs et nous avions à cœur de lier notre projet de programmation avec le monde du sport. \n",
    "Pour explorer tous les enseignements du cours, nous avons chercher un sport dans lequel la prédiction statistique \n",
    "aurait pu répondre à des questions pratiques pour les joueurs et les entraîneurs. \n",
    "Comme deux d'entre nous pratiquent le handball, nous nous sommes donné comme objectif d'élaborer un modèle de prédiction \n",
    "du poste d'un joueur de handball en fonction de ses caractéristiques morphologiques. \n",
    "\n",
    "Précisons ici que le handball se joue avec 1 gardien et 6 joueurs de champ, répartis en 4 postes :\n",
    "Pivot, Ailiers (gauche et droit), Arrières (gauche et droit) et Demi-centre.  "
   ]
  },
  {
   "cell_type": "markdown",
   "metadata": {},
   "source": [
    "![Composition Hand Star Game 2015 ](Images/Compo_France.jpg.webp)"
   ]
  },
  {
   "cell_type": "markdown",
   "metadata": {},
   "source": [
    "## Récupération des données\n",
    "Pour mener à bien ce projet nous avons utilisé des données issues du site de la LNH (Ligue Nationale de Handball). La récupération de ces données a été faite par scrapping. \n",
    "Les données disponibles sur le site concernent les joueurs de la LNH inscrit dans un club de la ligue pour la saison 2023/2024. \n",
    "Parmi les informations auxquelles nous avons accédé, deux mesures nous intéressent particulièrement, le poids et la taille du joueur, ainsi que l'information sur le poste du joueur.\n",
    "\n",
    "! Ajouter le code où un direction vers le code ?... !"
   ]
  },
  {
   "cell_type": "markdown",
   "metadata": {},
   "source": [
    "\n",
    "| Page d'un joueur | Page des statistiques de match LNH              |\n",
    "|-----------------------|-----------------------|\n",
    "| ![Page d'un joueur](Images/Screenshot_page_joueur_LNH.png) | ![Page des statistiques de match LNH](Images/Screenshot_page_match_LNH.png)|"
   ]
  },
  {
   "cell_type": "markdown",
   "metadata": {},
   "source": [
    "A l'issue d'une travail de nettoyage et de présentation des données recueillies, une analyse descriptive s'est imposée pour comprendre la structure des données et s'assurer de l'intérêt de notre intuition initiale. \n",
    "Il apparaît en effet que les morphologies des joueurs sont plus proches les unes des autres que ce que nous estimions. Notre pratique du handball amateur permet à des physiques plus petits et plus légers d'avoir une place dans les équipes amateurs. Cependant, le niveau professionnel permet une sélection plus forte sur les physiques et ne donne une place dans les équipes qu'à des joueurs particulièrement athlétiques.\n",
    "La disparité que nous présumions entre les postes n'est donc pas aussi marquée. Néanmoins une première projection du nuage des joueurs selon le poids et la taille permet d'identifier certains groupes. "
   ]
  },
  {
   "cell_type": "code",
   "execution_count": 1,
   "metadata": {},
   "outputs": [
    {
     "ename": "ModuleNotFoundError",
     "evalue": "No module named 'selenium'",
     "output_type": "error",
     "traceback": [
      "\u001b[0;31m---------------------------------------------------------------------------\u001b[0m",
      "\u001b[0;31mModuleNotFoundError\u001b[0m                       Traceback (most recent call last)",
      "Cell \u001b[0;32mIn[1], line 1\u001b[0m\n\u001b[0;32m----> 1\u001b[0m \u001b[38;5;28;01mfrom\u001b[39;00m \u001b[38;5;21;01mScrapping_donnees_fonction\u001b[39;00m \u001b[38;5;28;01mimport\u001b[39;00m \u001b[38;5;241m*\u001b[39m\n\u001b[1;32m      3\u001b[0m \u001b[38;5;66;03m# /!\\ Modifier le nom des fichiers quand on aura déplacé les fonctions\u001b[39;00m\n\u001b[1;32m      4\u001b[0m \u001b[38;5;66;03m# et ne pas tout importer, seulement les trucs utiles\u001b[39;00m\n\u001b[1;32m      5\u001b[0m \u001b[38;5;28;01mfrom\u001b[39;00m \u001b[38;5;21;01mStats_descriptives\u001b[39;00m \u001b[38;5;28;01mimport\u001b[39;00m \u001b[38;5;241m*\u001b[39m\n",
      "File \u001b[0;32m~/work/Handball_Position_Predicting/Scrapping_donnees_fonction.py:1\u001b[0m\n\u001b[0;32m----> 1\u001b[0m \u001b[38;5;28;01mfrom\u001b[39;00m \u001b[38;5;21;01mselenium\u001b[39;00m \u001b[38;5;28;01mimport\u001b[39;00m webdriver\n\u001b[1;32m      2\u001b[0m \u001b[38;5;28;01mimport\u001b[39;00m \u001b[38;5;21;01mtime\u001b[39;00m\n\u001b[1;32m      3\u001b[0m \u001b[38;5;28;01mimport\u001b[39;00m \u001b[38;5;21;01mpandas\u001b[39;00m \u001b[38;5;28;01mas\u001b[39;00m \u001b[38;5;21;01mpd\u001b[39;00m\n",
      "\u001b[0;31mModuleNotFoundError\u001b[0m: No module named 'selenium'"
     ]
    }
   ],
   "source": [
    "from Scrapping_donnees_fonction import *\n",
    "\n",
    "# /!\\ Modifier le nom des fichiers quand on aura déplacé les fonctions\n",
    "# et ne pas tout importer, seulement les trucs utiles\n",
    "from Stats_descriptives import *\n",
    "\n",
    "from Choix_modele import *\n",
    "from Evaluation import *\n",
    "from Prediction import *\n",
    "\n",
    "Scrapping(nom_df_match=\"DF_match_rapport.csv\",nom_df_physique=\"DF_joueur_rapport.csv\")\n",
    "\n",
    "DF_match_rapport = pd.read_csv(\"DF_match_rapport.csv\",index_col=0)\n",
    "DF_joueur_rapport = pd.read_csv(\"DF_joueur_rapport.csv\",index_col=0)\n",
    "\n",
    "DF_joueur_rapport_nettoye = cleaning(DF_joueur_rapport)\n"
   ]
  },
  {
   "cell_type": "code",
   "execution_count": null,
   "metadata": {},
   "outputs": [],
   "source": []
  }
 ],
 "metadata": {
  "kernelspec": {
   "display_name": "base",
   "language": "python",
   "name": "python3"
  },
  "language_info": {
   "codemirror_mode": {
    "name": "ipython",
    "version": 3
   },
   "file_extension": ".py",
   "mimetype": "text/x-python",
   "name": "python",
   "nbconvert_exporter": "python",
   "pygments_lexer": "ipython3",
   "version": "3.12.7"
  }
 },
 "nbformat": 4,
 "nbformat_minor": 2
}
