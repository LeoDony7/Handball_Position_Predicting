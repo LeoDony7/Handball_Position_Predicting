{
 "cells": [
  {
   "cell_type": "markdown",
   "metadata": {},
   "source": [
    "# Rapport Projet :"
   ]
  },
  {
   "cell_type": "markdown",
   "metadata": {},
   "source": [
    "## Présentation du projet : \n",
    "Nous sommes trois sportifs et nous avions à cœur de lier notre projet de programmation avec le monde du sport. \n",
    "Pour explorer tous les enseignements du cours, nous avons cherché un sport dans lequel la prédiction statistique \n",
    "aurait pu répondre à des questions pratiques pour les joueurs et les entraîneurs. \n",
    "Comme deux d'entre nous pratiquent le handball, nous nous sommes donnés comme objectif d'élaborer un modèle de prédiction \n",
    "du poste d'un joueur de handball en fonction de ses caractéristiques morphologiques. \n",
    "\n",
    "Précisons ici que le handball se joue avec 1 gardien et 6 joueurs de champ, répartis en 4 postes :\n",
    "Pivot, Ailiers (gauche et droit), Arrières (gauche et droit) et Demi-centre.  "
   ]
  },
  {
   "cell_type": "markdown",
   "metadata": {},
   "source": [
    "![Composition Hand Star Game 2015 ](Images/Compo_France.jpg.webp)"
   ]
  },
  {
   "cell_type": "code",
   "execution_count": 17,
   "metadata": {},
   "outputs": [
    {
     "name": "stdout",
     "output_type": "stream",
     "text": [
      "Requirement already satisfied: bs4 in c:\\users\\léo\\appdata\\local\\packages\\pythonsoftwarefoundation.python.3.11_qbz5n2kfra8p0\\localcache\\local-packages\\python311\\site-packages (0.0.2)\n",
      "Requirement already satisfied: beautifulsoup4 in c:\\users\\léo\\appdata\\local\\packages\\pythonsoftwarefoundation.python.3.11_qbz5n2kfra8p0\\localcache\\local-packages\\python311\\site-packages (from bs4) (4.12.3)\n",
      "Requirement already satisfied: soupsieve>1.2 in c:\\users\\léo\\appdata\\local\\packages\\pythonsoftwarefoundation.python.3.11_qbz5n2kfra8p0\\localcache\\local-packages\\python311\\site-packages (from beautifulsoup4->bs4) (2.6)\n"
     ]
    },
    {
     "name": "stderr",
     "output_type": "stream",
     "text": [
      "\n",
      "[notice] A new release of pip is available: 24.0 -> 24.3.1\n",
      "[notice] To update, run: C:\\Users\\Léo\\AppData\\Local\\Microsoft\\WindowsApps\\PythonSoftwareFoundation.Python.3.11_qbz5n2kfra8p0\\python.exe -m pip install --upgrade pip\n"
     ]
    },
    {
     "name": "stdout",
     "output_type": "stream",
     "text": [
      "Requirement already satisfied: selenium in c:\\users\\léo\\appdata\\local\\packages\\pythonsoftwarefoundation.python.3.11_qbz5n2kfra8p0\\localcache\\local-packages\\python311\\site-packages (4.26.1)\n",
      "Requirement already satisfied: urllib3<3,>=1.26 in c:\\users\\léo\\appdata\\local\\packages\\pythonsoftwarefoundation.python.3.11_qbz5n2kfra8p0\\localcache\\local-packages\\python311\\site-packages (from urllib3[socks]<3,>=1.26->selenium) (2.2.1)\n",
      "Requirement already satisfied: trio~=0.17 in c:\\users\\léo\\appdata\\local\\packages\\pythonsoftwarefoundation.python.3.11_qbz5n2kfra8p0\\localcache\\local-packages\\python311\\site-packages (from selenium) (0.27.0)\n",
      "Requirement already satisfied: trio-websocket~=0.9 in c:\\users\\léo\\appdata\\local\\packages\\pythonsoftwarefoundation.python.3.11_qbz5n2kfra8p0\\localcache\\local-packages\\python311\\site-packages (from selenium) (0.11.1)\n",
      "Requirement already satisfied: certifi>=2021.10.8 in c:\\users\\léo\\appdata\\local\\packages\\pythonsoftwarefoundation.python.3.11_qbz5n2kfra8p0\\localcache\\local-packages\\python311\\site-packages (from selenium) (2024.6.2)\n",
      "Requirement already satisfied: typing_extensions~=4.9 in c:\\users\\léo\\appdata\\local\\packages\\pythonsoftwarefoundation.python.3.11_qbz5n2kfra8p0\\localcache\\local-packages\\python311\\site-packages (from selenium) (4.12.2)\n",
      "Requirement already satisfied: websocket-client~=1.8 in c:\\users\\léo\\appdata\\local\\packages\\pythonsoftwarefoundation.python.3.11_qbz5n2kfra8p0\\localcache\\local-packages\\python311\\site-packages (from selenium) (1.8.0)\n",
      "Requirement already satisfied: attrs>=23.2.0 in c:\\users\\léo\\appdata\\local\\packages\\pythonsoftwarefoundation.python.3.11_qbz5n2kfra8p0\\localcache\\local-packages\\python311\\site-packages (from trio~=0.17->selenium) (24.2.0)\n",
      "Requirement already satisfied: sortedcontainers in c:\\users\\léo\\appdata\\local\\packages\\pythonsoftwarefoundation.python.3.11_qbz5n2kfra8p0\\localcache\\local-packages\\python311\\site-packages (from trio~=0.17->selenium) (2.4.0)\n",
      "Requirement already satisfied: idna in c:\\users\\léo\\appdata\\local\\packages\\pythonsoftwarefoundation.python.3.11_qbz5n2kfra8p0\\localcache\\local-packages\\python311\\site-packages (from trio~=0.17->selenium) (3.7)\n",
      "Requirement already satisfied: outcome in c:\\users\\léo\\appdata\\local\\packages\\pythonsoftwarefoundation.python.3.11_qbz5n2kfra8p0\\localcache\\local-packages\\python311\\site-packages (from trio~=0.17->selenium) (1.3.0.post0)\n",
      "Requirement already satisfied: sniffio>=1.3.0 in c:\\users\\léo\\appdata\\local\\packages\\pythonsoftwarefoundation.python.3.11_qbz5n2kfra8p0\\localcache\\local-packages\\python311\\site-packages (from trio~=0.17->selenium) (1.3.1)\n",
      "Requirement already satisfied: cffi>=1.14 in c:\\users\\léo\\appdata\\local\\packages\\pythonsoftwarefoundation.python.3.11_qbz5n2kfra8p0\\localcache\\local-packages\\python311\\site-packages (from trio~=0.17->selenium) (1.16.0)\n",
      "Requirement already satisfied: wsproto>=0.14 in c:\\users\\léo\\appdata\\local\\packages\\pythonsoftwarefoundation.python.3.11_qbz5n2kfra8p0\\localcache\\local-packages\\python311\\site-packages (from trio-websocket~=0.9->selenium) (1.2.0)\n",
      "Requirement already satisfied: pysocks!=1.5.7,<2.0,>=1.5.6 in c:\\users\\léo\\appdata\\local\\packages\\pythonsoftwarefoundation.python.3.11_qbz5n2kfra8p0\\localcache\\local-packages\\python311\\site-packages (from urllib3[socks]<3,>=1.26->selenium) (1.7.1)\n",
      "Requirement already satisfied: pycparser in c:\\users\\léo\\appdata\\local\\packages\\pythonsoftwarefoundation.python.3.11_qbz5n2kfra8p0\\localcache\\local-packages\\python311\\site-packages (from cffi>=1.14->trio~=0.17->selenium) (2.22)\n",
      "Requirement already satisfied: h11<1,>=0.9.0 in c:\\users\\léo\\appdata\\local\\packages\\pythonsoftwarefoundation.python.3.11_qbz5n2kfra8p0\\localcache\\local-packages\\python311\\site-packages (from wsproto>=0.14->trio-websocket~=0.9->selenium) (0.14.0)\n"
     ]
    },
    {
     "name": "stderr",
     "output_type": "stream",
     "text": [
      "\n",
      "[notice] A new release of pip is available: 24.0 -> 24.3.1\n",
      "[notice] To update, run: C:\\Users\\Léo\\AppData\\Local\\Microsoft\\WindowsApps\\PythonSoftwareFoundation.Python.3.11_qbz5n2kfra8p0\\python.exe -m pip install --upgrade pip\n"
     ]
    },
    {
     "name": "stdout",
     "output_type": "stream",
     "text": [
      "Requirement already satisfied: webdriver-manager in c:\\users\\léo\\appdata\\local\\packages\\pythonsoftwarefoundation.python.3.11_qbz5n2kfra8p0\\localcache\\local-packages\\python311\\site-packages (4.0.2)\n",
      "Requirement already satisfied: requests in c:\\users\\léo\\appdata\\local\\packages\\pythonsoftwarefoundation.python.3.11_qbz5n2kfra8p0\\localcache\\local-packages\\python311\\site-packages (from webdriver-manager) (2.32.3)\n",
      "Requirement already satisfied: python-dotenv in c:\\users\\léo\\appdata\\local\\packages\\pythonsoftwarefoundation.python.3.11_qbz5n2kfra8p0\\localcache\\local-packages\\python311\\site-packages (from webdriver-manager) (1.0.1)\n",
      "Requirement already satisfied: packaging in c:\\users\\léo\\appdata\\local\\packages\\pythonsoftwarefoundation.python.3.11_qbz5n2kfra8p0\\localcache\\local-packages\\python311\\site-packages (from webdriver-manager) (23.2)\n",
      "Requirement already satisfied: charset-normalizer<4,>=2 in c:\\users\\léo\\appdata\\local\\packages\\pythonsoftwarefoundation.python.3.11_qbz5n2kfra8p0\\localcache\\local-packages\\python311\\site-packages (from requests->webdriver-manager) (3.3.2)\n",
      "Requirement already satisfied: idna<4,>=2.5 in c:\\users\\léo\\appdata\\local\\packages\\pythonsoftwarefoundation.python.3.11_qbz5n2kfra8p0\\localcache\\local-packages\\python311\\site-packages (from requests->webdriver-manager) (3.7)\n",
      "Requirement already satisfied: urllib3<3,>=1.21.1 in c:\\users\\léo\\appdata\\local\\packages\\pythonsoftwarefoundation.python.3.11_qbz5n2kfra8p0\\localcache\\local-packages\\python311\\site-packages (from requests->webdriver-manager) (2.2.1)\n",
      "Requirement already satisfied: certifi>=2017.4.17 in c:\\users\\léo\\appdata\\local\\packages\\pythonsoftwarefoundation.python.3.11_qbz5n2kfra8p0\\localcache\\local-packages\\python311\\site-packages (from requests->webdriver-manager) (2024.6.2)\n"
     ]
    },
    {
     "name": "stderr",
     "output_type": "stream",
     "text": [
      "\n",
      "[notice] A new release of pip is available: 24.0 -> 24.3.1\n",
      "[notice] To update, run: C:\\Users\\Léo\\AppData\\Local\\Microsoft\\WindowsApps\\PythonSoftwareFoundation.Python.3.11_qbz5n2kfra8p0\\python.exe -m pip install --upgrade pip\n"
     ]
    },
    {
     "name": "stdout",
     "output_type": "stream",
     "text": [
      "Requirement already satisfied: seaborn in c:\\users\\léo\\appdata\\local\\packages\\pythonsoftwarefoundation.python.3.11_qbz5n2kfra8p0\\localcache\\local-packages\\python311\\site-packages (0.13.2)\n",
      "Requirement already satisfied: numpy!=1.24.0,>=1.20 in c:\\users\\léo\\appdata\\local\\packages\\pythonsoftwarefoundation.python.3.11_qbz5n2kfra8p0\\localcache\\local-packages\\python311\\site-packages (from seaborn) (1.26.4)\n",
      "Requirement already satisfied: pandas>=1.2 in c:\\users\\léo\\appdata\\local\\packages\\pythonsoftwarefoundation.python.3.11_qbz5n2kfra8p0\\localcache\\local-packages\\python311\\site-packages (from seaborn) (2.2.3)\n",
      "Requirement already satisfied: matplotlib!=3.6.1,>=3.4 in c:\\users\\léo\\appdata\\local\\packages\\pythonsoftwarefoundation.python.3.11_qbz5n2kfra8p0\\localcache\\local-packages\\python311\\site-packages (from seaborn) (3.8.3)\n",
      "Requirement already satisfied: contourpy>=1.0.1 in c:\\users\\léo\\appdata\\local\\packages\\pythonsoftwarefoundation.python.3.11_qbz5n2kfra8p0\\localcache\\local-packages\\python311\\site-packages (from matplotlib!=3.6.1,>=3.4->seaborn) (1.2.0)\n",
      "Requirement already satisfied: cycler>=0.10 in c:\\users\\léo\\appdata\\local\\packages\\pythonsoftwarefoundation.python.3.11_qbz5n2kfra8p0\\localcache\\local-packages\\python311\\site-packages (from matplotlib!=3.6.1,>=3.4->seaborn) (0.12.1)\n",
      "Requirement already satisfied: fonttools>=4.22.0 in c:\\users\\léo\\appdata\\local\\packages\\pythonsoftwarefoundation.python.3.11_qbz5n2kfra8p0\\localcache\\local-packages\\python311\\site-packages (from matplotlib!=3.6.1,>=3.4->seaborn) (4.49.0)\n",
      "Requirement already satisfied: kiwisolver>=1.3.1 in c:\\users\\léo\\appdata\\local\\packages\\pythonsoftwarefoundation.python.3.11_qbz5n2kfra8p0\\localcache\\local-packages\\python311\\site-packages (from matplotlib!=3.6.1,>=3.4->seaborn) (1.4.5)\n",
      "Requirement already satisfied: packaging>=20.0 in c:\\users\\léo\\appdata\\local\\packages\\pythonsoftwarefoundation.python.3.11_qbz5n2kfra8p0\\localcache\\local-packages\\python311\\site-packages (from matplotlib!=3.6.1,>=3.4->seaborn) (23.2)\n",
      "Requirement already satisfied: pillow>=8 in c:\\users\\léo\\appdata\\local\\packages\\pythonsoftwarefoundation.python.3.11_qbz5n2kfra8p0\\localcache\\local-packages\\python311\\site-packages (from matplotlib!=3.6.1,>=3.4->seaborn) (10.2.0)\n",
      "Requirement already satisfied: pyparsing>=2.3.1 in c:\\users\\léo\\appdata\\local\\packages\\pythonsoftwarefoundation.python.3.11_qbz5n2kfra8p0\\localcache\\local-packages\\python311\\site-packages (from matplotlib!=3.6.1,>=3.4->seaborn) (3.1.1)\n",
      "Requirement already satisfied: python-dateutil>=2.7 in c:\\users\\léo\\appdata\\local\\packages\\pythonsoftwarefoundation.python.3.11_qbz5n2kfra8p0\\localcache\\local-packages\\python311\\site-packages (from matplotlib!=3.6.1,>=3.4->seaborn) (2.9.0.post0)\n",
      "Requirement already satisfied: pytz>=2020.1 in c:\\users\\léo\\appdata\\local\\packages\\pythonsoftwarefoundation.python.3.11_qbz5n2kfra8p0\\localcache\\local-packages\\python311\\site-packages (from pandas>=1.2->seaborn) (2024.1)\n",
      "Requirement already satisfied: tzdata>=2022.7 in c:\\users\\léo\\appdata\\local\\packages\\pythonsoftwarefoundation.python.3.11_qbz5n2kfra8p0\\localcache\\local-packages\\python311\\site-packages (from pandas>=1.2->seaborn) (2024.1)\n",
      "Requirement already satisfied: six>=1.5 in c:\\users\\léo\\appdata\\local\\packages\\pythonsoftwarefoundation.python.3.11_qbz5n2kfra8p0\\localcache\\local-packages\\python311\\site-packages (from python-dateutil>=2.7->matplotlib!=3.6.1,>=3.4->seaborn) (1.16.0)\n"
     ]
    },
    {
     "name": "stderr",
     "output_type": "stream",
     "text": [
      "\n",
      "[notice] A new release of pip is available: 24.0 -> 24.3.1\n",
      "[notice] To update, run: C:\\Users\\Léo\\AppData\\Local\\Microsoft\\WindowsApps\\PythonSoftwareFoundation.Python.3.11_qbz5n2kfra8p0\\python.exe -m pip install --upgrade pip\n"
     ]
    },
    {
     "name": "stdout",
     "output_type": "stream",
     "text": [
      "Requirement already satisfied: plotly in c:\\users\\léo\\appdata\\local\\packages\\pythonsoftwarefoundation.python.3.11_qbz5n2kfra8p0\\localcache\\local-packages\\python311\\site-packages (5.24.1)\n",
      "Requirement already satisfied: tenacity>=6.2.0 in c:\\users\\léo\\appdata\\local\\packages\\pythonsoftwarefoundation.python.3.11_qbz5n2kfra8p0\\localcache\\local-packages\\python311\\site-packages (from plotly) (9.0.0)\n",
      "Requirement already satisfied: packaging in c:\\users\\léo\\appdata\\local\\packages\\pythonsoftwarefoundation.python.3.11_qbz5n2kfra8p0\\localcache\\local-packages\\python311\\site-packages (from plotly) (23.2)\n"
     ]
    },
    {
     "name": "stderr",
     "output_type": "stream",
     "text": [
      "\n",
      "[notice] A new release of pip is available: 24.0 -> 24.3.1\n",
      "[notice] To update, run: C:\\Users\\Léo\\AppData\\Local\\Microsoft\\WindowsApps\\PythonSoftwareFoundation.Python.3.11_qbz5n2kfra8p0\\python.exe -m pip install --upgrade pip\n",
      "\n",
      "[notice] A new release of pip is available: 24.0 -> 24.3.1\n",
      "[notice] To update, run: C:\\Users\\Léo\\AppData\\Local\\Microsoft\\WindowsApps\\PythonSoftwareFoundation.Python.3.11_qbz5n2kfra8p0\\python.exe -m pip install --upgrade pip\n"
     ]
    },
    {
     "name": "stdout",
     "output_type": "stream",
     "text": [
      "Requirement already satisfied: scikit-learn in c:\\users\\léo\\appdata\\local\\packages\\pythonsoftwarefoundation.python.3.11_qbz5n2kfra8p0\\localcache\\local-packages\\python311\\site-packages (1.5.0)\n",
      "Requirement already satisfied: numpy>=1.19.5 in c:\\users\\léo\\appdata\\local\\packages\\pythonsoftwarefoundation.python.3.11_qbz5n2kfra8p0\\localcache\\local-packages\\python311\\site-packages (from scikit-learn) (1.26.4)\n",
      "Requirement already satisfied: scipy>=1.6.0 in c:\\users\\léo\\appdata\\local\\packages\\pythonsoftwarefoundation.python.3.11_qbz5n2kfra8p0\\localcache\\local-packages\\python311\\site-packages (from scikit-learn) (1.13.1)\n",
      "Requirement already satisfied: joblib>=1.2.0 in c:\\users\\léo\\appdata\\local\\packages\\pythonsoftwarefoundation.python.3.11_qbz5n2kfra8p0\\localcache\\local-packages\\python311\\site-packages (from scikit-learn) (1.4.2)\n",
      "Requirement already satisfied: threadpoolctl>=3.1.0 in c:\\users\\léo\\appdata\\local\\packages\\pythonsoftwarefoundation.python.3.11_qbz5n2kfra8p0\\localcache\\local-packages\\python311\\site-packages (from scikit-learn) (3.5.0)\n",
      "Requirement already satisfied: nbformat in c:\\users\\léo\\appdata\\local\\packages\\pythonsoftwarefoundation.python.3.11_qbz5n2kfra8p0\\localcache\\local-packages\\python311\\site-packages (5.10.4)\n",
      "Requirement already satisfied: fastjsonschema>=2.15 in c:\\users\\léo\\appdata\\local\\packages\\pythonsoftwarefoundation.python.3.11_qbz5n2kfra8p0\\localcache\\local-packages\\python311\\site-packages (from nbformat) (2.21.1)\n",
      "Requirement already satisfied: jsonschema>=2.6 in c:\\users\\léo\\appdata\\local\\packages\\pythonsoftwarefoundation.python.3.11_qbz5n2kfra8p0\\localcache\\local-packages\\python311\\site-packages (from nbformat) (4.23.0)\n",
      "Requirement already satisfied: jupyter-core!=5.0.*,>=4.12 in c:\\users\\léo\\appdata\\local\\packages\\pythonsoftwarefoundation.python.3.11_qbz5n2kfra8p0\\localcache\\local-packages\\python311\\site-packages (from nbformat) (5.7.2)\n",
      "Requirement already satisfied: traitlets>=5.1 in c:\\users\\léo\\appdata\\local\\packages\\pythonsoftwarefoundation.python.3.11_qbz5n2kfra8p0\\localcache\\local-packages\\python311\\site-packages (from nbformat) (5.14.3)\n",
      "Requirement already satisfied: attrs>=22.2.0 in c:\\users\\léo\\appdata\\local\\packages\\pythonsoftwarefoundation.python.3.11_qbz5n2kfra8p0\\localcache\\local-packages\\python311\\site-packages (from jsonschema>=2.6->nbformat) (24.2.0)\n",
      "Requirement already satisfied: jsonschema-specifications>=2023.03.6 in c:\\users\\léo\\appdata\\local\\packages\\pythonsoftwarefoundation.python.3.11_qbz5n2kfra8p0\\localcache\\local-packages\\python311\\site-packages (from jsonschema>=2.6->nbformat) (2024.10.1)\n",
      "Requirement already satisfied: referencing>=0.28.4 in c:\\users\\léo\\appdata\\local\\packages\\pythonsoftwarefoundation.python.3.11_qbz5n2kfra8p0\\localcache\\local-packages\\python311\\site-packages (from jsonschema>=2.6->nbformat) (0.35.1)\n",
      "Requirement already satisfied: rpds-py>=0.7.1 in c:\\users\\léo\\appdata\\local\\packages\\pythonsoftwarefoundation.python.3.11_qbz5n2kfra8p0\\localcache\\local-packages\\python311\\site-packages (from jsonschema>=2.6->nbformat) (0.22.3)\n",
      "Requirement already satisfied: platformdirs>=2.5 in c:\\users\\léo\\appdata\\local\\packages\\pythonsoftwarefoundation.python.3.11_qbz5n2kfra8p0\\localcache\\local-packages\\python311\\site-packages (from jupyter-core!=5.0.*,>=4.12->nbformat) (4.3.6)\n",
      "Requirement already satisfied: pywin32>=300 in c:\\users\\léo\\appdata\\local\\packages\\pythonsoftwarefoundation.python.3.11_qbz5n2kfra8p0\\localcache\\local-packages\\python311\\site-packages (from jupyter-core!=5.0.*,>=4.12->nbformat) (308)\n"
     ]
    },
    {
     "name": "stderr",
     "output_type": "stream",
     "text": [
      "\n",
      "[notice] A new release of pip is available: 24.0 -> 24.3.1\n",
      "[notice] To update, run: C:\\Users\\Léo\\AppData\\Local\\Microsoft\\WindowsApps\\PythonSoftwareFoundation.Python.3.11_qbz5n2kfra8p0\\python.exe -m pip install --upgrade pip\n"
     ]
    }
   ],
   "source": [
    "## Installations requises\n",
    "\n",
    "! pip install bs4\n",
    "! pip install selenium\n",
    "! pip install webdriver-manager\n",
    "! pip install seaborn\n",
    "! pip install plotly\n",
    "! pip install scikit-learn\n",
    "! pip install nbformat\n"
   ]
  },
  {
   "cell_type": "markdown",
   "metadata": {},
   "source": [
    "## Récupération des données\n",
    "Pour mener à bien ce projet nous avons utilisé des données issues du site de la LNH (Ligue Nationale de Handball). La récupération de ces données a été faite par scrapping. \n",
    "Les données disponibles sur le site concernent les joueurs de la LNH inscrit dans un club de la ligue pour la saison 2023/2024. \n",
    "Parmi les informations auxquelles nous avons accédé, deux mesures nous intéressent particulièrement, le poids et la taille du joueur, ainsi que l'information sur le poste du joueur."
   ]
  },
  {
   "cell_type": "code",
   "execution_count": null,
   "metadata": {},
   "outputs": [],
   "source": [
    "## Récupération des données\n",
    "\n",
    "from Scrapping_donnees_fonction import *\n",
    "\n",
    "Scrapping(nom_df_match=\"DF_match_rapport.csv\",nom_df_physique=\"DF_joueur_rapport.csv\")\n",
    "\n",
    "DF_match_rapport = pd.read_csv(\"DF_match_rapport.csv\",index_col=0)\n",
    "DF_joueur_rapport = pd.read_csv(\"DF_joueur_rapport.csv\",index_col=0)"
   ]
  },
  {
   "cell_type": "code",
   "execution_count": 1,
   "metadata": {},
   "outputs": [],
   "source": [
    "## Nettoyage des DataFrames\n",
    "\n",
    "from Nettoyage import *\n",
    "\n",
    "DF_joueur_rapport = pd.read_csv(\"Donnees/Donnees_physique_joueurs.csv\",index_col=0)\n",
    "\n",
    "DF_joueur_rapport_nettoye = cleaning(DF_joueur_rapport,nom_fichier=\"DF_joueur_rapport_nettoye.csv\")\n",
    "\n",
    "# Si vous ne souhaiter pas télécharger ce DataFrame, mettre nom_fichier= None"
   ]
  },
  {
   "cell_type": "markdown",
   "metadata": {},
   "source": [
    "\n",
    "| Page d'un joueur | Page des statistiques de match LNH              |\n",
    "|-----------------------|-----------------------|\n",
    "| ![Page d'un joueur](./Images/Screenshot_page_joueur_LNH.png) | ![Page des statistiques de match LNH](./Images/Screenshot_page_match_LNH.png)|"
   ]
  },
  {
   "cell_type": "markdown",
   "metadata": {},
   "source": [
    "A l'issu d'un travail de nettoyage et de présentation des données recueillies, une analyse descriptive s'est imposée pour comprendre la structure des données et s'assurer de l'intérêt de notre intuition initiale. \n",
    "Il apparaît en effet que les morphologies des joueurs sont plus proches les unes des autres que ce que nous estimions. Notre pratique du handball amateur permet à des physiques plus petits et plus légers d'avoir une place dans les équipes amateurs. Cependant, le niveau professionnel permet une sélection plus forte sur les physiques et ne donne une place dans les équipes qu'à des joueurs particulièrement athlétiques.\n",
    "La disparité que nous présumions entre les postes n'est donc pas aussi marquée. Néanmoins une première projection du nuage des joueurs selon le poids et la taille permet d'identifier certains groupes. "
   ]
  },
  {
   "cell_type": "code",
   "execution_count": null,
   "metadata": {},
   "outputs": [
    {
     "data": {
      "application/vnd.plotly.v1+json": {
       "config": {
        "plotlyServerURL": "https://plot.ly"
       },
       "data": [
        {
         "customdata": [
          [
           "Kamil Syprzak",
           33,
           27.30518798571729
          ],
          [
           "Johannes Marescot",
           30,
           28.164523328727814
          ],
          [
           "Théo Monar",
           23,
           24.232221201918172
          ],
          [
           "Valentin Aman",
           33,
           26.014568158168572
          ],
          [
           "Adrien Vergely",
           28,
           28.50799046078781
          ],
          [
           "Tomislav Kusan",
           29,
           27.227048835424874
          ],
          [
           "Bastien Khermouche",
           31,
           27.12673611111111
          ],
          [
           "Hugo Jund",
           23,
           25.50404037692287
          ],
          [
           "Arthur Lenne",
           23,
           25.241789775746625
          ],
          [
           "Hugo Brouzet",
           25,
           25.921387501178245
          ],
          [
           "Simon Ooms",
           30,
           23.75
          ],
          [
           "Axel Oppedisano",
           27,
           29.218407596785973
          ],
          [
           "Adrian Figueras",
           36,
           25.50404037692287
          ],
          [
           "Shuichi Yoshida",
           23,
           29.530994120647534
          ],
          [
           "Ruben Marchan Criado",
           30,
           28.835063437139564
          ],
          [
           "Nicolas Nieto",
           30,
           29.19132149901381
          ],
          [
           "Veron Nacinovic",
           24,
           26.191849288735103
          ],
          [
           "Benjamin Afgour",
           33,
           27.613412228796847
          ],
          [
           "Gautier Loredon",
           22,
           25.75
          ],
          [
           "Jonathan Mapu",
           26,
           31.43982173926315
          ],
          [
           "Fredric Pettersson",
           35,
           28.183511420448976
          ],
          [
           "Edgar Dentz",
           26,
           28.139381985535834
          ],
          [
           "Romaric Guillo",
           33,
           25.904921935167685
          ],
          [
           "Gabriel Nyembo",
           27,
           29.362880886426595
          ],
          [
           "Tom Poyet",
           25,
           24.021275987303035
          ],
          [
           "Marc Poletti",
           39,
           27.669270833333336
          ],
          [
           "Jason Muel",
           24,
           27.055579891262337
          ],
          [
           "Andrea Parisini",
           30,
           29.530994120647534
          ],
          [
           "Jérémy Toto",
           32,
           27.31325208070293
          ],
          [
           "Mohamed Mamdouh",
           35,
           26.846358291497758
          ],
          [
           "Théo Clarac",
           25,
           27.350427350427353
          ],
          [
           "Luka Karabatic",
           36,
           26.958141358690323
          ],
          [
           "Pierre Paturel",
           35,
           26.017753290480563
          ],
          [
           "Benjamin Gallego",
           36,
           25.401701323251416
          ],
          [
           "Hadrien Ramond",
           36,
           29.799457703562513
          ],
          [
           "Hugo Kamtchop Baril",
           28,
           27.77031263997133
          ],
          [
           "Kristian Orsted",
           29,
           29.931972789115644
          ],
          [
           "Timmy Petit",
           24,
           25.507601265177023
          ],
          [
           "William Hoghielm",
           25,
           31.795583304428252
          ],
          [
           "Rémi Leventoux",
           32,
           26.958141358690323
          ],
          [
           "Janek Klimkow",
           25,
           31.546506831032065
          ],
          [
           "Iñaki Peciña",
           36,
           26
          ],
          [
           "Axel Lanfranchi",
           20,
           27.39800347222222
          ],
          [
           "Yoro Diarra",
           20,
           25.76721894405937
          ],
          [
           "Mouhamadou Sidibe",
           20,
           22.5
          ],
          [
           "Antoine Baladi",
           20,
           27.45288684263204
          ],
          [
           "Victor Grillère",
           21,
           22.353714661406972
          ],
          [
           "Ylan Augustine",
           20,
           24.997449239873482
          ],
          [
           "Léo Fournie",
           20,
           25.46401086464464
          ],
          [
           "Antoine-xavier Armani",
           21,
           27.852977925864227
          ],
          [
           "Tom Semba",
           20,
           22.67573696145125
          ],
          [
           "Thibaut Bonidan",
           20,
           25.770399305555557
          ],
          [
           "Kenzo Guironnet",
           19,
           25.77251808021039
          ],
          [
           "Andre Wenkegheu Tchambou",
           20,
           24.478857996856398
          ],
          [
           "Edgar Bourillon",
           20,
           23.75
          ],
          [
           "Matéo Caille",
           20,
           24.487297214569942
          ],
          [
           "Sasha Frattaruolo",
           19,
           24.898143956541425
          ],
          [
           "Gabin Miny",
           19,
           26.315789473684212
          ]
         ],
         "hovertemplate": "Poste=Pivot<br>Taille=%{x}<br>Poids=%{y}<br>Nom=%{customdata[0]}<br>Âge=%{customdata[1]}<br>IMC=%{customdata[2]}<extra></extra>",
         "legendgroup": "Pivot",
         "marker": {
          "color": "#636efa",
          "symbol": "circle"
         },
         "mode": "markers",
         "name": "Pivot",
         "orientation": "v",
         "showlegend": true,
         "type": "scatter",
         "x": [
          207,
          194,
          198,
          186,
          191,
          201,
          192,
          193,
          194,
          206,
          200,
          185,
          193,
          193,
          204,
          195,
          204,
          195,
          200,
          181,
          202,
          195,
          207,
          190,
          187,
          192,
          197,
          193,
          197,
          193,
          195,
          202,
          198,
          184,
          193,
          183,
          210,
          198,
          186,
          202,
          203,
          200,
          192,
          197,
          200,
          187,
          195,
          198,
          188,
          196,
          189,
          192,
          195,
          197,
          200,
          198,
          188,
          190
         ],
         "xaxis": "x",
         "y": [
          117,
          106,
          95,
          90,
          104,
          110,
          100,
          95,
          95,
          110,
          95,
          100,
          95,
          110,
          120,
          111,
          109,
          105,
          103,
          103,
          115,
          107,
          111,
          106,
          84,
          102,
          105,
          110,
          106,
          100,
          104,
          110,
          102,
          86,
          111,
          93,
          132,
          100,
          110,
          110,
          130,
          104,
          101,
          100,
          90,
          96,
          85,
          98,
          90,
          107,
          81,
          95,
          98,
          95,
          95,
          96,
          88,
          95
         ],
         "yaxis": "y"
        },
        {
         "customdata": [
          [
           "Tom Pelayo",
           27,
           26.595000139973685
          ],
          [
           "Ayyoub Abdi",
           27,
           25.25187456517818
          ],
          [
           "Micke Brasseleur",
           31,
           24.994202375737586
          ],
          [
           "Julien Bos",
           26,
           24.049343594386603
          ],
          [
           "Sergiy Onufriyenko",
           39,
           24.930747922437675
          ],
          [
           "Mohab Abdelhak",
           21,
           24.12214577451276
          ],
          [
           "Mathieu Salou",
           24,
           23.28203117341437
          ],
          [
           "Gustavo Rodrigues",
           29,
           24.930747922437675
          ],
          [
           "Valentin Porte",
           34,
           26.038781163434905
          ],
          [
           "Kent Robin Tonnesen",
           33,
           26.824457593688365
          ],
          [
           "Clément Damiani",
           26,
           24.720578566732414
          ],
          [
           "Ewan Kervadec",
           26,
           23.87152777777778
          ],
          [
           "Luc Tobie",
           36,
           23.26869806094183
          ],
          [
           "Jorge Maqueda Peno",
           36,
           26.282563322940554
          ],
          [
           "Sime Ivic",
           31,
           25.249895876718035
          ],
          [
           "Bruno Butorac",
           30,
           25.195263290501387
          ],
          [
           "Yassine Ben Salem",
           21,
           23.545706371191137
          ],
          [
           "Florian Delecroix",
           30,
           24.478857996856398
          ],
          [
           "Ronaldo Almeida",
           22,
           28.633902540608084
          ],
          [
           "Jure Dolenec",
           35,
           26.038781163434905
          ],
          [
           "Per Maximilliam Jonsson",
           35,
           27.08744247205786
          ],
          [
           "Jesper Jorgensen",
           30,
           24.67037636029714
          ],
          [
           "Kristjan Kristjansson",
           26,
           24.95659722222222
          ],
          [
           "Adrien Dipanda",
           36,
           26.222919321635132
          ],
          [
           "Dominik Mathe",
           25,
           26.732011583871692
          ],
          [
           "Diogo Borges Da Silva",
           26,
           26.017753290480563
          ],
          [
           "Daniel Mosindi",
           23,
           23.79552644102909
          ],
          [
           "Gabin Martinez",
           24,
           22.38650562265723
          ],
          [
           "Marko Panic",
           33,
           27.31325208070293
          ],
          [
           "Nevo Medina",
           21,
           23.328993055555557
          ],
          [
           "Uros Mitrovic",
           20,
           25.755158030290307
          ],
          [
           "Matic Groselj",
           27,
           26.298487836949377
          ],
          [
           "Alexis Berthier",
           22,
           22.819404547773097
          ],
          [
           "Marc-anto Aillaud",
           21,
           23.624795296518027
          ],
          [
           "Ernest Pineau-rossi",
           21,
           24.5
          ],
          [
           "Henri Kirtz",
           20,
           23.977145189266402
          ],
          [
           "Leni Serre",
           19,
           23.66691015339664
          ],
          [
           "Paul Gourdel",
           20,
           18.58789213303211
          ],
          [
           "Yanis Busselier",
           22,
           24.67037636029714
          ],
          [
           "Salomon Nassequela",
           20,
           21.20099137030069
          ],
          [
           "Quentin Ducoat",
           20,
           28.905075731298414
          ],
          [
           "Lucas Guigon",
           21,
           21.386791723569274
          ],
          [
           "Augustin Riehl",
           20,
           24.14279513888889
          ]
         ],
         "hovertemplate": "Poste=Arrière Droit<br>Taille=%{x}<br>Poids=%{y}<br>Nom=%{customdata[0]}<br>Âge=%{customdata[1]}<br>IMC=%{customdata[2]}<extra></extra>",
         "legendgroup": "Arrière Droit",
         "marker": {
          "color": "#EF553B",
          "symbol": "circle"
         },
         "mode": "markers",
         "name": "Arrière Droit",
         "orientation": "v",
         "showlegend": true,
         "type": "scatter",
         "x": [
          189,
          197,
          197,
          188,
          190,
          191,
          202,
          190,
          190,
          195,
          195,
          192,
          190,
          197,
          196,
          189,
          190,
          197,
          196,
          190,
          195,
          191,
          192,
          202,
          201,
          198,
          189,
          196,
          197,
          192,
          189,
          195,
          193,
          193,
          200,
          198,
          185,
          187,
          191,
          183,
          186,
          197,
          192
         ],
         "xaxis": "x",
         "y": [
          95,
          98,
          97,
          85,
          90,
          88,
          95,
          90,
          94,
          102,
          94,
          88,
          84,
          102,
          97,
          90,
          85,
          95,
          110,
          94,
          103,
          90,
          92,
          107,
          108,
          102,
          85,
          86,
          106,
          86,
          92,
          100,
          85,
          88,
          98,
          94,
          81,
          65,
          90,
          71,
          100,
          83,
          89
         ],
         "yaxis": "y"
        },
        {
         "customdata": [
          [
           "Gabriel Loesch",
           29,
           22.03840115928028
          ],
          [
           "Benjamin Richert",
           26,
           21.7335354170837
          ],
          [
           "Mario Lopez Alvarez",
           30,
           25.5649539199596
          ],
          [
           "Dragan Gajic",
           40,
           24.049343594386603
          ],
          [
           "Mohammad Sanad",
           33,
           25.712198685171657
          ],
          [
           "Sebastian Karlsson",
           29,
           25.24933720489837
          ],
          [
           "Luka Radovic",
           26,
           24.691358024691358
          ],
          [
           "Francisco De Almeida Tavares",
           28,
           25.61728395061728
          ],
          [
           "Antoine Tissot",
           23,
           25.53544639152223
          ],
          [
           "Théo Avelange Demouge",
           28,
           23.291229956104985
          ],
          [
           "Ferran Sole",
           32,
           22.550940964858118
          ],
          [
           "Florian Billant",
           28,
           25.4364666435426
          ],
          [
           "Edouard Kempf",
           26,
           25.5649539199596
          ],
          [
           "David Balaguer",
           33,
           27.173119065010955
          ],
          [
           "Youenn Cardinal",
           30,
           22.67573696145125
          ],
          [
           "Yannis Mancelle",
           34,
           23.24598478444632
          ],
          [
           "Yanis Lenne",
           28,
           24.879178701135288
          ],
          [
           "Mathis Jaffiol",
           22,
           24.187046492878256
          ],
          [
           "Valentin Bzdynga",
           22,
           20.97117202268431
          ],
          [
           "Lucas Petit",
           25,
           23.148148148148145
          ],
          [
           "Kauldi Odriozola Yeregui",
           27,
           25.661152034778407
          ],
          [
           "Théophile Causse",
           32,
           22.47120876377142
          ],
          [
           "Svetlin Dimitrov",
           34,
           24.78425751739377
          ],
          [
           "Arthur Vigneron",
           29,
           22.944088878154812
          ],
          [
           "Théo Laguillaumie",
           31,
           23.92485822306238
          ],
          [
           "Martial CaÏs",
           22,
           22.550940964858118
          ],
          [
           "Aymeric Anzuini",
           24,
           22.395413419331717
          ],
          [
           "Maxence Foucault",
           23,
           23.37472607742878
          ],
          [
           "Damien Gibernon",
           24,
           25.18107741059303
          ],
          [
           "Andrea Guillaume",
           26,
           26.014568158168572
          ],
          [
           "Romain Giraudeau",
           24,
           22.837370242214536
          ],
          [
           "Rasmus Nielsen",
           35,
           23.23563170124017
          ],
          [
           "Lucien Auffret",
           27,
           22.6421929718633
          ],
          [
           "Thibault Dessites",
           19,
           22.019502988361115
          ],
          [
           "Aleksandar Antic",
           20,
           23.291229956104985
          ],
          [
           "Yohan Guigues",
           20,
           21.389756041160826
          ],
          [
           "Umberto Bronzo",
           23,
           25.082863029651524
          ],
          [
           "Jordan Camarero",
           32,
           25.697069943289225
          ],
          [
           "Remi Peyre",
           20,
           25.46938775510204
          ],
          [
           "Sabi Sarre",
           20,
           20.654142145767317
          ],
          [
           "Emilien Peyronnet",
           20,
           21.604938271604937
          ],
          [
           "Enzo Gesland",
           20,
           22.395413419331717
          ],
          [
           "Théo Benterki",
           21,
           23.37472607742878
          ],
          [
           "Tom Delrives",
           22,
           22.068809416025353
          ],
          [
           "Ronan Hassler",
           20,
           20.74506939371804
          ],
          [
           "Edgar Gohier",
           19,
           22.99262444384723
          ]
         ],
         "hovertemplate": "Poste=Ailier Droit<br>Taille=%{x}<br>Poids=%{y}<br>Nom=%{customdata[0]}<br>Âge=%{customdata[1]}<br>IMC=%{customdata[2]}<extra></extra>",
         "legendgroup": "Ailier Droit",
         "marker": {
          "color": "#00cc96",
          "symbol": "circle"
         },
         "mode": "markers",
         "name": "Ailier Droit",
         "orientation": "v",
         "showlegend": true,
         "type": "scatter",
         "x": [
          182,
          187,
          178,
          188,
          185,
          178,
          180,
          180,
          177,
          183,
          193,
          186,
          178,
          185,
          189,
          182,
          187,
          183,
          184,
          180,
          182,
          179,
          183,
          182,
          184,
          193,
          183,
          185,
          188,
          186,
          170,
          189,
          182,
          187,
          183,
          186,
          183,
          184,
          175,
          188,
          180,
          183,
          185,
          188,
          185,
          183
         ],
         "xaxis": "x",
         "y": [
          73,
          76,
          81,
          85,
          88,
          80,
          80,
          83,
          80,
          78,
          84,
          88,
          81,
          93,
          81,
          77,
          87,
          81,
          71,
          75,
          85,
          72,
          83,
          76,
          81,
          84,
          75,
          80,
          89,
          90,
          66,
          83,
          75,
          77,
          78,
          74,
          84,
          87,
          78,
          73,
          70,
          75,
          80,
          78,
          71,
          77
         ],
         "yaxis": "y"
        },
        {
         "customdata": [
          [
           "Chema Marquez",
           27,
           26.88095170007721
          ],
          [
           "Ian Tarrafeta",
           25,
           24.898143956541425
          ],
          [
           "Aymeric Minne",
           27,
           24.307243558580453
          ],
          [
           "Alejandro Barbeito",
           23,
           25.661152034778407
          ],
          [
           "Jean-loup Faustin",
           29,
           25.712198685171657
          ],
          [
           "Luc Steins",
           29,
           24.3910588392529
          ],
          [
           "Aymeric Zaepfel",
           23,
           25.755158030290307
          ],
          [
           "Seif Elderaa",
           26,
           23.449340844748203
          ],
          [
           "Dorde Dekic",
           31,
           25.195263290501387
          ],
          [
           "Steeven Bois",
           30,
           24.835646457268076
          ],
          [
           "Casper Kall",
           24,
           20.811654526534856
          ],
          [
           "Ludwig Appolinaire",
           30,
           27.685644582111237
          ],
          [
           "Diego Simonet",
           34,
           24.635368550712467
          ],
          [
           "Léo Martinez",
           30,
           23.20054323223178
          ],
          [
           "Aleksa Kolaković",
           27,
           27.994736989445986
          ],
          [
           "Sebastian Skube",
           37,
           24.355421180818006
          ],
          [
           "Tom Robyns",
           33,
           21.70138888888889
          ],
          [
           "Kyllian Villeminot",
           26,
           24.075473810923548
          ],
          [
           "Stas Skube",
           35,
           25.90431010268094
          ],
          [
           "Nikola Karabatic",
           40,
           26.81174510620575
          ],
          [
           "Sergey Kudinov",
           33,
           25.249895876718035
          ],
          [
           "Jesper Konradsson",
           30,
           26.583175803402646
          ],
          [
           "Jules Lignières",
           26,
           24.968009737523797
          ],
          [
           "O'brian Nyateu",
           32,
           28.010411951109102
          ],
          [
           "Eliott Desblancs",
           20,
           21.266540642722116
          ],
          [
           "Romain Briffe",
           35,
           25.195263290501387
          ],
          [
           "Lucas De La Breteche",
           23,
           22.819404547773097
          ],
          [
           "Rok Ovnicek",
           29,
           26.27728507868255
          ],
          [
           "Boïba Sissoko",
           30,
           26.122448979591837
          ],
          [
           "Lucas Vanegue",
           28,
           22.54595907041276
          ],
          [
           "Hakon Ekren",
           30,
           29.772228003237366
          ],
          [
           "Ahmed Hesham",
           24,
           24.444680624933575
          ],
          [
           "Michal Baran",
           19,
           21.745550216113184
          ],
          [
           "Sergio Perez",
           24,
           25.925925925925924
          ],
          [
           "Benjamin Bataille",
           32,
           26.030820491461892
          ],
          [
           "Sadou Ntanzi",
           24,
           23.888440980620498
          ],
          [
           "Adam El Bishry",
           21,
           22.79035792549306
          ],
          [
           "Noa Tremey",
           21,
           22.1606648199446
          ],
          [
           "Jon Azkue",
           30,
           25.697069943289225
          ],
          [
           "Lou Derisbourg",
           22,
           25.401701323251416
          ],
          [
           "Wilson Davyes",
           36,
           25.770399305555557
          ],
          [
           "Gauthier Bonnissol",
           21,
           22.991689750692522
          ],
          [
           "Mathieu Cornette",
           21,
           22.634676324128566
          ],
          [
           "Reyhan Zuzo",
           19,
           23.766410140334994
          ],
          [
           "Alban Simonnet",
           20,
           24.37673130193906
          ],
          [
           "Maxime Gilbert",
           33,
           25.737081414967538
          ],
          [
           "Basile Pietre",
           20,
           23.148148148148145
          ],
          [
           "Mathis Goupillon",
           21,
           22.783308885490467
          ],
          [
           "Théo Texier",
           21,
           22.89307408198773
          ],
          [
           "Lucas Berchoux",
           21,
           24.56931437160365
          ],
          [
           "Maixent Eveillard",
           19,
           23.054562464499313
          ],
          [
           "Amine Ben Salem",
           21,
           23.545706371191137
          ],
          [
           "Lucien Roullet",
           20,
           22.550940964858118
          ]
         ],
         "hovertemplate": "Poste=Demi Centre<br>Taille=%{x}<br>Poids=%{y}<br>Nom=%{customdata[0]}<br>Âge=%{customdata[1]}<br>IMC=%{customdata[2]}<extra></extra>",
         "legendgroup": "Demi Centre",
         "marker": {
          "color": "#ab63fa",
          "symbol": "circle"
         },
         "mode": "markers",
         "name": "Demi Centre",
         "orientation": "v",
         "showlegend": true,
         "type": "scatter",
         "x": [
          187,
          188,
          187,
          182,
          185,
          173,
          189,
          187,
          189,
          185,
          186,
          191,
          189,
          188,
          189,
          189,
          192,
          189,
          179,
          196,
          196,
          184,
          179,
          188,
          184,
          189,
          193,
          183,
          175,
          186,
          186,
          194,
          193,
          180,
          196,
          183,
          185,
          190,
          184,
          184,
          192,
          190,
          188,
          188,
          190,
          187,
          180,
          179,
          181,
          186,
          173,
          190,
          193
         ],
         "xaxis": "x",
         "y": [
          94,
          88,
          85,
          85,
          88,
          73,
          92,
          82,
          90,
          85,
          72,
          101,
          88,
          82,
          100,
          87,
          80,
          86,
          83,
          103,
          97,
          90,
          80,
          99,
          72,
          90,
          85,
          88,
          80,
          78,
          103,
          92,
          81,
          84,
          100,
          80,
          78,
          80,
          87,
          86,
          95,
          83,
          80,
          84,
          88,
          90,
          75,
          73,
          75,
          85,
          69,
          85,
          84
         ],
         "yaxis": "y"
        },
        {
         "customdata": [
          [
           "Nemanja Ilic",
           34,
           24.258674071946118
          ],
          [
           "Valero Rivera",
           39,
           23.991212856977683
          ],
          [
           "Antonin Mohamed",
           25,
           22.34029706557179
          ],
          [
           "Lucas Pellas",
           29,
           23.334120982986768
          ],
          [
           "Raphaël Caucheteux",
           39,
           23.977145189266402
          ],
          [
           "Gueric Vincent",
           22,
           26.234567901234566
          ],
          [
           "Drevy Paschal",
           23,
           21.787650122223404
          ],
          [
           "Jordi Deumal",
           30,
           22.053353172494422
          ],
          [
           "Vanja Ilic",
           31,
           23.413111342351716
          ],
          [
           "Gaël Tribillon",
           26,
           25.46938775510204
          ],
          [
           "Junior Tuzolana",
           27,
           23.79552644102909
          ],
          [
           "Steve Marie-joseph",
           30,
           26.588750913075234
          ],
          [
           "Queido Traore",
           30,
           26.296566837107374
          ],
          [
           "Angel Fernandez Perez",
           36,
           23.328993055555557
          ],
          [
           "Loïs Pasquet",
           25,
           25.127830533235937
          ],
          [
           "Xavier Labigang",
           28,
           24.78425751739377
          ],
          [
           "Samuel Deen",
           25,
           22.351742870076958
          ],
          [
           "Matthieu Ong",
           32,
           21.604938271604937
          ],
          [
           "Arthur Pecaud",
           25,
           24.835646457268076
          ],
          [
           "Jaime Fernandez",
           27,
           23.243801652892564
          ],
          [
           "Maxime Ogando",
           25,
           22.395413419331717
          ],
          [
           "Julien Rebichon",
           36,
           24.65590961580475
          ],
          [
           "Arthur Anquetil",
           29,
           24.151672503320853
          ],
          [
           "Mathieu Grebille",
           33,
           24.742373227221712
          ],
          [
           "Dylan Tossin",
           23,
           23.888440980620498
          ],
          [
           "Baptiste Damatrin",
           24,
           25.854639471416256
          ],
          [
           "Auguste Longerinas",
           21,
           20.37120869171571
          ],
          [
           "Sylvain Hochet",
           37,
           25.725517400855587
          ],
          [
           "Téo Jarry",
           24,
           22.99262444384723
          ],
          [
           "Quentin Dupuy",
           30,
           25.77319587628866
          ],
          [
           "Léo Plantin",
           21,
           24.280263614290668
          ],
          [
           "Maxime Petit",
           22,
           22.282592106468055
          ],
          [
           "Adama Keita",
           27,
           24.280263614290668
          ],
          [
           "Naël Tighiouart",
           20,
           23.629489603024574
          ],
          [
           "Noé Lafougere",
           22,
           21.798202394816204
          ],
          [
           "Amaury Perrin",
           22,
           20.305174833527424
          ],
          [
           "Pierre-alexis Favril",
           20,
           24.280263614290668
          ],
          [
           "Lucas Ferrandier",
           28,
           22.955684331345708
          ],
          [
           "Timeo Albouy",
           21,
           23.334120982986768
          ],
          [
           "Nelio Indjai",
           22,
           22.282592106468055
          ],
          [
           "Luca Faivre",
           20,
           22.53061224489796
          ],
          [
           "Adrien Dubois",
           23,
           21.736505252988767
          ],
          [
           "Guillaume Sutter",
           19,
           21.22000905387053
          ],
          [
           "Alexandre Birkner",
           20,
           26.09327520147972
          ],
          [
           "Raphaël Neel Heude",
           21,
           25.10633270321361
          ],
          [
           "Goran Levavasseur",
           21,
           20.6758034026465
          ]
         ],
         "hovertemplate": "Poste=Ailier Gauche<br>Taille=%{x}<br>Poids=%{y}<br>Nom=%{customdata[0]}<br>Âge=%{customdata[1]}<br>IMC=%{customdata[2]}<extra></extra>",
         "legendgroup": "Ailier Gauche",
         "marker": {
          "color": "#FFA15A",
          "symbol": "circle"
         },
         "mode": "markers",
         "name": "Ailier Gauche",
         "orientation": "v",
         "showlegend": true,
         "type": "scatter",
         "x": [
          177,
          186,
          182,
          184,
          198,
          180,
          194,
          194,
          186,
          175,
          189,
          185,
          185,
          192,
          185,
          183,
          188,
          180,
          185,
          176,
          183,
          179,
          182,
          198,
          183,
          177,
          188,
          186,
          183,
          194,
          186,
          181,
          186,
          184,
          183,
          183,
          186,
          189,
          184,
          181,
          175,
          182,
          188,
          174,
          184,
          184
         ],
         "xaxis": "x",
         "y": [
          76,
          83,
          74,
          79,
          94,
          85,
          82,
          83,
          81,
          78,
          85,
          91,
          90,
          86,
          86,
          83,
          79,
          70,
          85,
          72,
          75,
          79,
          80,
          97,
          80,
          81,
          72,
          89,
          77,
          97,
          84,
          73,
          84,
          80,
          73,
          68,
          84,
          82,
          79,
          73,
          69,
          72,
          75,
          79,
          85,
          70
         ],
         "yaxis": "y"
        },
        {
         "customdata": [
          [
           "Elohim Prandi",
           26,
           27.114821874412737
          ],
          [
           "Robin Molinie",
           34,
           23.545706371191137
          ],
          [
           "Cornelius Kragh",
           29,
           26.03889892655968
          ],
          [
           "Pierrick Naudin",
           34,
           23.025684602944
          ],
          [
           "Ihor Turchenko",
           24,
           24.161722462347985
          ],
          [
           "Erwin Feuchtmann",
           34,
           26.824457593688365
          ],
          [
           "Gonçalo Vieira",
           25,
           25.241789775746625
          ],
          [
           "Alejandro Costoya",
           31,
           26.577894708582782
          ],
          [
           "William Accambray",
           36,
           28.69592942926985
          ],
          [
           "Yvan Verin",
           24,
           26.595744680851066
          ],
          [
           "Hugo Monte",
           21,
           24.69864962817794
          ],
          [
           "Pau Oliveras",
           25,
           25.127830533235937
          ],
          [
           "David Iglesias",
           25,
           24.4140625
          ],
          [
           "Thibaud Briet",
           24,
           22.605591909577633
          ],
          [
           "Kylian Rigault",
           24,
           22.714681440443215
          ],
          [
           "Messaoud Berkous",
           35,
           25.77319587628866
          ],
          [
           "Quentin Minel",
           32,
           27.434842249657066
          ],
          [
           "Jean-jacques Acquevillo",
           35,
           26.298487836949377
          ],
          [
           "Matej Hrstic",
           28,
           22.353714661406972
          ],
          [
           "Romain Lagarde",
           27,
           22.584759273036454
          ],
          [
           "Romuald Kolle",
           31,
           24.930747922437675
          ],
          [
           "Jacob Tandrup Holm",
           29,
           25.241789775746625
          ],
          [
           "Arnau Garcia",
           30,
           24.194608809993426
          ],
          [
           "Mathéo Briffe",
           23,
           23.545706371191137
          ],
          [
           "Alexandre Cavalcanti",
           27,
           24.75187459050208
          ],
          [
           "Dylan Garain",
           28,
           26.298487836949377
          ],
          [
           "Iosu Goni",
           34,
           27.65174904024269
          ],
          [
           "Milos Bozovic",
           29,
           25.75
          ],
          [
           "Belco Ayeva",
           19,
           22.353714661406972
          ],
          [
           "Edson Imare",
           26,
           24.021275987303035
          ],
          [
           "Nik Henigman",
           29,
           26.484492958095103
          ],
          [
           "Gilberto Brito Duarte",
           34,
           26.797907701821742
          ],
          [
           "Robin Paris",
           25,
           24.983563445101908
          ],
          [
           "Vadim Gayduchenko",
           29,
           25.50404037692287
          ],
          [
           "Gerdas Babarskas",
           30,
           24.221185807415804
          ],
          [
           "Kasper Jesper Kisum",
           32,
           25.48476454293629
          ],
          [
           "Noah Kouadio",
           18,
           25.50404037692287
          ],
          [
           "Dmytro Horiha",
           27,
           25.510204081632654
          ],
          [
           "Kylian Prat",
           20,
           21.380992845590857
          ],
          [
           "Karl Konan",
           29,
           24.729279466888798
          ],
          [
           "Nikoloz Kalandadze",
           22,
           24.487297214569942
          ],
          [
           "Bakary Diallo",
           30,
           25.2465483234714
          ],
          [
           "Baptiste Briet",
           22,
           23.959094229364496
          ],
          [
           "Keyliane Traoré",
           20,
           22.31905622276544
          ],
          [
           "Janos Tamas Stranigg",
           29,
           26.315789473684212
          ],
          [
           "Wallem Peleka",
           22,
           24.20866305705956
          ],
          [
           "Kornél Nagy",
           38,
           25.77251808021039
          ],
          [
           "Jérémy Robert",
           20,
           26.309431125667803
          ],
          [
           "Ilija Abutovic",
           36,
           25.732771296931674
          ],
          [
           "Yoann Gibelin",
           25,
           25.252525252525253
          ],
          [
           "Raphaël Deleau",
           19,
           23.37472607742878
          ],
          [
           "Baptiste Bonnefond",
           31,
           26.040967542752828
          ],
          [
           "Mathias Comte",
           19,
           25.76721894405937
          ],
          [
           "Gallian Varlet",
           20,
           22.014013799028163
          ],
          [
           "Maxime Discamps",
           21,
           23.78121284185494
          ],
          [
           "Lazar Maksovic",
           20,
           23.405654174884944
          ],
          [
           "Marko Milosavljevic",
           26,
           23.761788074552616
          ],
          [
           "Amil Maliki",
           19,
           24.444680624933575
          ],
          [
           "Clément Pellen",
           22,
           21.81158709930399
          ],
          [
           "Edynio Linere",
           21,
           23.025684602944
          ],
          [
           "Doran Engueleguele",
           21,
           26.040967542752828
          ],
          [
           "Mathis Sebin",
           20,
           22.437673130193907
          ],
          [
           "Mike Benjamin",
           21,
           24.997449239873482
          ],
          [
           "Adam Gnago",
           21,
           24.161722462347985
          ],
          [
           "Koussay Ben Fraj",
           20,
           23.91327452439154
          ],
          [
           "Yanis Abdebreiman",
           19,
           22.54595907041276
          ]
         ],
         "hovertemplate": "Poste=Arrière Gauche<br>Taille=%{x}<br>Poids=%{y}<br>Nom=%{customdata[0]}<br>Âge=%{customdata[1]}<br>IMC=%{customdata[2]}<extra></extra>",
         "legendgroup": "Arrière Gauche",
         "marker": {
          "color": "#19d3f3",
          "symbol": "circle"
         },
         "mode": "markers",
         "name": "Arrière Gauche",
         "orientation": "v",
         "showlegend": true,
         "type": "scatter",
         "x": [
          193,
          190,
          194,
          191,
          193,
          195,
          194,
          193,
          194,
          188,
          193,
          185,
          192,
          205,
          190,
          194,
          189,
          195,
          195,
          194,
          190,
          194,
          195,
          190,
          203,
          195,
          193,
          200,
          195,
          187,
          201,
          197,
          195,
          193,
          197,
          190,
          193,
          196,
          191,
          196,
          198,
          195,
          185,
          194,
          190,
          196,
          195,
          193,
          202,
          198,
          185,
          193,
          197,
          193,
          203,
          195,
          201,
          194,
          202,
          191,
          193,
          190,
          198,
          193,
          194,
          186
         ],
         "xaxis": "x",
         "y": [
          101,
          85,
          98,
          84,
          90,
          102,
          95,
          99,
          108,
          94,
          92,
          86,
          90,
          95,
          82,
          97,
          98,
          100,
          85,
          85,
          90,
          95,
          92,
          85,
          102,
          100,
          103,
          103,
          85,
          84,
          107,
          104,
          95,
          95,
          94,
          92,
          95,
          98,
          78,
          95,
          96,
          96,
          82,
          84,
          95,
          93,
          98,
          98,
          105,
          99,
          80,
          97,
          100,
          82,
          98,
          89,
          96,
          92,
          89,
          84,
          97,
          81,
          98,
          90,
          90,
          78
         ],
         "yaxis": "y"
        }
       ],
       "layout": {
        "legend": {
         "title": {
          "text": "Poste"
         },
         "tracegroupgap": 0
        },
        "margin": {
         "t": 60
        },
        "template": {
         "data": {
          "bar": [
           {
            "error_x": {
             "color": "#2a3f5f"
            },
            "error_y": {
             "color": "#2a3f5f"
            },
            "marker": {
             "line": {
              "color": "#E5ECF6",
              "width": 0.5
             },
             "pattern": {
              "fillmode": "overlay",
              "size": 10,
              "solidity": 0.2
             }
            },
            "type": "bar"
           }
          ],
          "barpolar": [
           {
            "marker": {
             "line": {
              "color": "#E5ECF6",
              "width": 0.5
             },
             "pattern": {
              "fillmode": "overlay",
              "size": 10,
              "solidity": 0.2
             }
            },
            "type": "barpolar"
           }
          ],
          "carpet": [
           {
            "aaxis": {
             "endlinecolor": "#2a3f5f",
             "gridcolor": "white",
             "linecolor": "white",
             "minorgridcolor": "white",
             "startlinecolor": "#2a3f5f"
            },
            "baxis": {
             "endlinecolor": "#2a3f5f",
             "gridcolor": "white",
             "linecolor": "white",
             "minorgridcolor": "white",
             "startlinecolor": "#2a3f5f"
            },
            "type": "carpet"
           }
          ],
          "choropleth": [
           {
            "colorbar": {
             "outlinewidth": 0,
             "ticks": ""
            },
            "type": "choropleth"
           }
          ],
          "contour": [
           {
            "colorbar": {
             "outlinewidth": 0,
             "ticks": ""
            },
            "colorscale": [
             [
              0,
              "#0d0887"
             ],
             [
              0.1111111111111111,
              "#46039f"
             ],
             [
              0.2222222222222222,
              "#7201a8"
             ],
             [
              0.3333333333333333,
              "#9c179e"
             ],
             [
              0.4444444444444444,
              "#bd3786"
             ],
             [
              0.5555555555555556,
              "#d8576b"
             ],
             [
              0.6666666666666666,
              "#ed7953"
             ],
             [
              0.7777777777777778,
              "#fb9f3a"
             ],
             [
              0.8888888888888888,
              "#fdca26"
             ],
             [
              1,
              "#f0f921"
             ]
            ],
            "type": "contour"
           }
          ],
          "contourcarpet": [
           {
            "colorbar": {
             "outlinewidth": 0,
             "ticks": ""
            },
            "type": "contourcarpet"
           }
          ],
          "heatmap": [
           {
            "colorbar": {
             "outlinewidth": 0,
             "ticks": ""
            },
            "colorscale": [
             [
              0,
              "#0d0887"
             ],
             [
              0.1111111111111111,
              "#46039f"
             ],
             [
              0.2222222222222222,
              "#7201a8"
             ],
             [
              0.3333333333333333,
              "#9c179e"
             ],
             [
              0.4444444444444444,
              "#bd3786"
             ],
             [
              0.5555555555555556,
              "#d8576b"
             ],
             [
              0.6666666666666666,
              "#ed7953"
             ],
             [
              0.7777777777777778,
              "#fb9f3a"
             ],
             [
              0.8888888888888888,
              "#fdca26"
             ],
             [
              1,
              "#f0f921"
             ]
            ],
            "type": "heatmap"
           }
          ],
          "heatmapgl": [
           {
            "colorbar": {
             "outlinewidth": 0,
             "ticks": ""
            },
            "colorscale": [
             [
              0,
              "#0d0887"
             ],
             [
              0.1111111111111111,
              "#46039f"
             ],
             [
              0.2222222222222222,
              "#7201a8"
             ],
             [
              0.3333333333333333,
              "#9c179e"
             ],
             [
              0.4444444444444444,
              "#bd3786"
             ],
             [
              0.5555555555555556,
              "#d8576b"
             ],
             [
              0.6666666666666666,
              "#ed7953"
             ],
             [
              0.7777777777777778,
              "#fb9f3a"
             ],
             [
              0.8888888888888888,
              "#fdca26"
             ],
             [
              1,
              "#f0f921"
             ]
            ],
            "type": "heatmapgl"
           }
          ],
          "histogram": [
           {
            "marker": {
             "pattern": {
              "fillmode": "overlay",
              "size": 10,
              "solidity": 0.2
             }
            },
            "type": "histogram"
           }
          ],
          "histogram2d": [
           {
            "colorbar": {
             "outlinewidth": 0,
             "ticks": ""
            },
            "colorscale": [
             [
              0,
              "#0d0887"
             ],
             [
              0.1111111111111111,
              "#46039f"
             ],
             [
              0.2222222222222222,
              "#7201a8"
             ],
             [
              0.3333333333333333,
              "#9c179e"
             ],
             [
              0.4444444444444444,
              "#bd3786"
             ],
             [
              0.5555555555555556,
              "#d8576b"
             ],
             [
              0.6666666666666666,
              "#ed7953"
             ],
             [
              0.7777777777777778,
              "#fb9f3a"
             ],
             [
              0.8888888888888888,
              "#fdca26"
             ],
             [
              1,
              "#f0f921"
             ]
            ],
            "type": "histogram2d"
           }
          ],
          "histogram2dcontour": [
           {
            "colorbar": {
             "outlinewidth": 0,
             "ticks": ""
            },
            "colorscale": [
             [
              0,
              "#0d0887"
             ],
             [
              0.1111111111111111,
              "#46039f"
             ],
             [
              0.2222222222222222,
              "#7201a8"
             ],
             [
              0.3333333333333333,
              "#9c179e"
             ],
             [
              0.4444444444444444,
              "#bd3786"
             ],
             [
              0.5555555555555556,
              "#d8576b"
             ],
             [
              0.6666666666666666,
              "#ed7953"
             ],
             [
              0.7777777777777778,
              "#fb9f3a"
             ],
             [
              0.8888888888888888,
              "#fdca26"
             ],
             [
              1,
              "#f0f921"
             ]
            ],
            "type": "histogram2dcontour"
           }
          ],
          "mesh3d": [
           {
            "colorbar": {
             "outlinewidth": 0,
             "ticks": ""
            },
            "type": "mesh3d"
           }
          ],
          "parcoords": [
           {
            "line": {
             "colorbar": {
              "outlinewidth": 0,
              "ticks": ""
             }
            },
            "type": "parcoords"
           }
          ],
          "pie": [
           {
            "automargin": true,
            "type": "pie"
           }
          ],
          "scatter": [
           {
            "fillpattern": {
             "fillmode": "overlay",
             "size": 10,
             "solidity": 0.2
            },
            "type": "scatter"
           }
          ],
          "scatter3d": [
           {
            "line": {
             "colorbar": {
              "outlinewidth": 0,
              "ticks": ""
             }
            },
            "marker": {
             "colorbar": {
              "outlinewidth": 0,
              "ticks": ""
             }
            },
            "type": "scatter3d"
           }
          ],
          "scattercarpet": [
           {
            "marker": {
             "colorbar": {
              "outlinewidth": 0,
              "ticks": ""
             }
            },
            "type": "scattercarpet"
           }
          ],
          "scattergeo": [
           {
            "marker": {
             "colorbar": {
              "outlinewidth": 0,
              "ticks": ""
             }
            },
            "type": "scattergeo"
           }
          ],
          "scattergl": [
           {
            "marker": {
             "colorbar": {
              "outlinewidth": 0,
              "ticks": ""
             }
            },
            "type": "scattergl"
           }
          ],
          "scattermapbox": [
           {
            "marker": {
             "colorbar": {
              "outlinewidth": 0,
              "ticks": ""
             }
            },
            "type": "scattermapbox"
           }
          ],
          "scatterpolar": [
           {
            "marker": {
             "colorbar": {
              "outlinewidth": 0,
              "ticks": ""
             }
            },
            "type": "scatterpolar"
           }
          ],
          "scatterpolargl": [
           {
            "marker": {
             "colorbar": {
              "outlinewidth": 0,
              "ticks": ""
             }
            },
            "type": "scatterpolargl"
           }
          ],
          "scatterternary": [
           {
            "marker": {
             "colorbar": {
              "outlinewidth": 0,
              "ticks": ""
             }
            },
            "type": "scatterternary"
           }
          ],
          "surface": [
           {
            "colorbar": {
             "outlinewidth": 0,
             "ticks": ""
            },
            "colorscale": [
             [
              0,
              "#0d0887"
             ],
             [
              0.1111111111111111,
              "#46039f"
             ],
             [
              0.2222222222222222,
              "#7201a8"
             ],
             [
              0.3333333333333333,
              "#9c179e"
             ],
             [
              0.4444444444444444,
              "#bd3786"
             ],
             [
              0.5555555555555556,
              "#d8576b"
             ],
             [
              0.6666666666666666,
              "#ed7953"
             ],
             [
              0.7777777777777778,
              "#fb9f3a"
             ],
             [
              0.8888888888888888,
              "#fdca26"
             ],
             [
              1,
              "#f0f921"
             ]
            ],
            "type": "surface"
           }
          ],
          "table": [
           {
            "cells": {
             "fill": {
              "color": "#EBF0F8"
             },
             "line": {
              "color": "white"
             }
            },
            "header": {
             "fill": {
              "color": "#C8D4E3"
             },
             "line": {
              "color": "white"
             }
            },
            "type": "table"
           }
          ]
         },
         "layout": {
          "annotationdefaults": {
           "arrowcolor": "#2a3f5f",
           "arrowhead": 0,
           "arrowwidth": 1
          },
          "autotypenumbers": "strict",
          "coloraxis": {
           "colorbar": {
            "outlinewidth": 0,
            "ticks": ""
           }
          },
          "colorscale": {
           "diverging": [
            [
             0,
             "#8e0152"
            ],
            [
             0.1,
             "#c51b7d"
            ],
            [
             0.2,
             "#de77ae"
            ],
            [
             0.3,
             "#f1b6da"
            ],
            [
             0.4,
             "#fde0ef"
            ],
            [
             0.5,
             "#f7f7f7"
            ],
            [
             0.6,
             "#e6f5d0"
            ],
            [
             0.7,
             "#b8e186"
            ],
            [
             0.8,
             "#7fbc41"
            ],
            [
             0.9,
             "#4d9221"
            ],
            [
             1,
             "#276419"
            ]
           ],
           "sequential": [
            [
             0,
             "#0d0887"
            ],
            [
             0.1111111111111111,
             "#46039f"
            ],
            [
             0.2222222222222222,
             "#7201a8"
            ],
            [
             0.3333333333333333,
             "#9c179e"
            ],
            [
             0.4444444444444444,
             "#bd3786"
            ],
            [
             0.5555555555555556,
             "#d8576b"
            ],
            [
             0.6666666666666666,
             "#ed7953"
            ],
            [
             0.7777777777777778,
             "#fb9f3a"
            ],
            [
             0.8888888888888888,
             "#fdca26"
            ],
            [
             1,
             "#f0f921"
            ]
           ],
           "sequentialminus": [
            [
             0,
             "#0d0887"
            ],
            [
             0.1111111111111111,
             "#46039f"
            ],
            [
             0.2222222222222222,
             "#7201a8"
            ],
            [
             0.3333333333333333,
             "#9c179e"
            ],
            [
             0.4444444444444444,
             "#bd3786"
            ],
            [
             0.5555555555555556,
             "#d8576b"
            ],
            [
             0.6666666666666666,
             "#ed7953"
            ],
            [
             0.7777777777777778,
             "#fb9f3a"
            ],
            [
             0.8888888888888888,
             "#fdca26"
            ],
            [
             1,
             "#f0f921"
            ]
           ]
          },
          "colorway": [
           "#636efa",
           "#EF553B",
           "#00cc96",
           "#ab63fa",
           "#FFA15A",
           "#19d3f3",
           "#FF6692",
           "#B6E880",
           "#FF97FF",
           "#FECB52"
          ],
          "font": {
           "color": "#2a3f5f"
          },
          "geo": {
           "bgcolor": "white",
           "lakecolor": "white",
           "landcolor": "#E5ECF6",
           "showlakes": true,
           "showland": true,
           "subunitcolor": "white"
          },
          "hoverlabel": {
           "align": "left"
          },
          "hovermode": "closest",
          "mapbox": {
           "style": "light"
          },
          "paper_bgcolor": "white",
          "plot_bgcolor": "#E5ECF6",
          "polar": {
           "angularaxis": {
            "gridcolor": "white",
            "linecolor": "white",
            "ticks": ""
           },
           "bgcolor": "#E5ECF6",
           "radialaxis": {
            "gridcolor": "white",
            "linecolor": "white",
            "ticks": ""
           }
          },
          "scene": {
           "xaxis": {
            "backgroundcolor": "#E5ECF6",
            "gridcolor": "white",
            "gridwidth": 2,
            "linecolor": "white",
            "showbackground": true,
            "ticks": "",
            "zerolinecolor": "white"
           },
           "yaxis": {
            "backgroundcolor": "#E5ECF6",
            "gridcolor": "white",
            "gridwidth": 2,
            "linecolor": "white",
            "showbackground": true,
            "ticks": "",
            "zerolinecolor": "white"
           },
           "zaxis": {
            "backgroundcolor": "#E5ECF6",
            "gridcolor": "white",
            "gridwidth": 2,
            "linecolor": "white",
            "showbackground": true,
            "ticks": "",
            "zerolinecolor": "white"
           }
          },
          "shapedefaults": {
           "line": {
            "color": "#2a3f5f"
           }
          },
          "ternary": {
           "aaxis": {
            "gridcolor": "white",
            "linecolor": "white",
            "ticks": ""
           },
           "baxis": {
            "gridcolor": "white",
            "linecolor": "white",
            "ticks": ""
           },
           "bgcolor": "#E5ECF6",
           "caxis": {
            "gridcolor": "white",
            "linecolor": "white",
            "ticks": ""
           }
          },
          "title": {
           "x": 0.05
          },
          "xaxis": {
           "automargin": true,
           "gridcolor": "white",
           "linecolor": "white",
           "ticks": "",
           "title": {
            "standoff": 15
           },
           "zerolinecolor": "white",
           "zerolinewidth": 2
          },
          "yaxis": {
           "automargin": true,
           "gridcolor": "white",
           "linecolor": "white",
           "ticks": "",
           "title": {
            "standoff": 15
           },
           "zerolinecolor": "white",
           "zerolinewidth": 2
          }
         }
        },
        "xaxis": {
         "anchor": "y",
         "domain": [
          0,
          1
         ],
         "title": {
          "text": "Taille"
         }
        },
        "yaxis": {
         "anchor": "x",
         "domain": [
          0,
          1
         ],
         "title": {
          "text": "Poids"
         }
        }
       }
      }
     },
     "metadata": {},
     "output_type": "display_data"
    }
   ],
   "source": [
    "## Statistiques descriptives des données morphologiques\n",
    "\n",
    "from Stat_desc import *\n",
    "\n",
    "# Boite à moustache du poids selon le poste\n",
    "Boxplot_poids(DF_joueur_rapport_nettoye)\n",
    "afficher_violinplot(DF_joueur_rapport_nettoye,y='Poids')\n",
    "\n",
    "# Boite à moustache de la taille selon le poste\n",
    "Boxplot_taille(DF_joueur_rapport_nettoye)\n",
    "afficher_violinplot(DF_joueur_rapport_nettoye,y='Taille')\n",
    "\n",
    "\n",
    "# Représentation des joueurs sur le plan Taille, Poids\n",
    "Visualisation_Taille_Poids(DF_joueur_rapport_nettoye)\n",
    "# Avec Regression\n",
    "afficher_regression_par_poste(DF_joueur_rapport_nettoye)\n",
    "\n",
    "\n",
    "scatter_plot(DF_joueur_rapport_nettoye,\"Taille\",\"Poids\", [\"Nom\", \"Âge\", \"IMC\"])\n"
   ]
  },
  {
   "cell_type": "code",
   "execution_count": null,
   "metadata": {},
   "outputs": [],
   "source": []
  }
 ],
 "metadata": {
  "kernelspec": {
   "display_name": "Python 3",
   "language": "python",
   "name": "python3"
  },
  "language_info": {
   "codemirror_mode": {
    "name": "ipython",
    "version": 3
   },
   "file_extension": ".py",
   "mimetype": "text/x-python",
   "name": "python",
   "nbconvert_exporter": "python",
   "pygments_lexer": "ipython3",
   "version": "3.11.9"
  }
 },
 "nbformat": 4,
 "nbformat_minor": 2
}
